{
 "cells": [
  {
   "cell_type": "markdown",
   "metadata": {},
   "source": [
    "# Proyecto II: Análisis de mercado inmobiliario"
   ]
  },
  {
   "cell_type": "markdown",
   "metadata": {},
   "source": [
    "## 1. Problema"
   ]
  },
  {
   "cell_type": "markdown",
   "metadata": {},
   "source": [
    "Después de haber entregado con éxito el primer proyecto se requiere mejorar los resultados.\n",
    "Para ello se debe incorporar las técnicas (Transformación de Datos, Optimización de Hiperparámetros, Modelos Avanzados) para generar un modelo que tenga un mejor desempeño que el desarrollado en el proyecto anterior."
   ]
  },
  {
   "cell_type": "markdown",
   "metadata": {},
   "source": [
    "## 2. Hipótesis"
   ]
  },
  {
   "cell_type": "markdown",
   "metadata": {},
   "source": [
    "Al incorporar nuevas técnicas (Transformación de Datos, Optimización de Hiperparámetros, Modelos Avanzados) se lograra obtener mejor resultados en la predicción del precio a los obtenidos en el primer proyecto y esto se vera reflejado en un mejor r2 y un menor RMSE."
   ]
  },
  {
   "cell_type": "markdown",
   "metadata": {},
   "source": [
    "## 3. Resultados previos"
   ]
  },
  {
   "cell_type": "markdown",
   "metadata": {},
   "source": [
    "Se presentaran los modelos y resultados obtenidos del primer proyecto para tener como punto de comparación"
   ]
  },
  {
   "cell_type": "markdown",
   "metadata": {},
   "source": [
    "### 3.1. Importar librerías y Datos"
   ]
  },
  {
   "cell_type": "code",
   "execution_count": 1,
   "metadata": {
    "execution": {
     "iopub.execute_input": "2021-02-23T07:14:05.803860Z",
     "iopub.status.busy": "2021-02-23T07:14:05.803860Z",
     "iopub.status.idle": "2021-02-23T07:14:07.090539Z",
     "shell.execute_reply": "2021-02-23T07:14:07.090539Z",
     "shell.execute_reply.started": "2021-02-23T07:14:05.803860Z"
    }
   },
   "outputs": [],
   "source": [
    "# Importamos las principales Librerías que utilizaremos para este proyecto\n",
    "import numpy as np                                 # Operaciones matemáticas\n",
    "import pandas as pd                                # Procesamiento de Datos\n",
    "import matplotlib.pyplot as plt                    # Visualización de datos\n",
    "import seaborn as sns                              # Visualización de datos\n",
    "sns.set()                                          # Aspecto de los gráficos de seaborn\n",
    "from sklearn.metrics import r2_score               # Métrica para evaluar los modelos \n",
    "from sklearn.metrics import mean_squared_error     # Métrica para evaluar los modelos \n",
    "from sklearn.model_selection import GridSearchCV   # Optimización Hiperparámetros\n",
    "from matplotlib.ticker import (MultipleLocator)    # Complemento para histogramas"
   ]
  },
  {
   "cell_type": "code",
   "execution_count": 2,
   "metadata": {
    "colab": {},
    "colab_type": "code",
    "execution": {
     "iopub.execute_input": "2021-02-23T07:14:07.092540Z",
     "iopub.status.busy": "2021-02-23T07:14:07.092540Z",
     "iopub.status.idle": "2021-02-23T07:14:09.795249Z",
     "shell.execute_reply": "2021-02-23T07:14:09.795249Z",
     "shell.execute_reply.started": "2021-02-23T07:14:07.092540Z"
    },
    "id": "QSqa1vJQC4PR"
   },
   "outputs": [],
   "source": [
    "# Lectura de datos\n",
    "data = pd.read_csv('DS_Proyecto_01_Datos_Properati.csv')\n",
    "data.to_feather('DS_Proyecto_01_Datos_Properati.feather')"
   ]
  },
  {
   "cell_type": "markdown",
   "metadata": {},
   "source": [
    "### 3.2. Filtrado de datos\n",
    "Aplicamos el filtrado de datos que utilizamos en el proyecto anterior"
   ]
  },
  {
   "cell_type": "code",
   "execution_count": 3,
   "metadata": {
    "execution": {
     "iopub.execute_input": "2021-02-23T07:14:09.797251Z",
     "iopub.status.busy": "2021-02-23T07:14:09.796250Z",
     "iopub.status.idle": "2021-02-23T07:14:10.067312Z",
     "shell.execute_reply": "2021-02-23T07:14:10.066311Z",
     "shell.execute_reply.started": "2021-02-23T07:14:09.797251Z"
    }
   },
   "outputs": [
    {
     "data": {
      "text/plain": [
       "rooms              0\n",
       "bedrooms           0\n",
       "bathrooms          0\n",
       "surface_total      0\n",
       "surface_covered    0\n",
       "price              0\n",
       "dtype: int64"
      ]
     },
     "metadata": {},
     "output_type": "display_data"
    },
    {
     "data": {
      "text/plain": [
       "(81019, 6)"
      ]
     },
     "metadata": {},
     "output_type": "display_data"
    }
   ],
   "source": [
    "data = data[\n",
    "            data.l2.isin(['Capital Federal']) &\n",
    "            data.property_type.isin(['Departamento', 'Casa', 'PH']) &\n",
    "            (data.surface_total <= 1000)  &\n",
    "            (data.surface_total >= 15) &\n",
    "            (data.price <= 4000000)\n",
    "            ]\n",
    "data = data[['rooms', 'bedrooms', 'bathrooms', 'surface_total', 'surface_covered' , 'price']]\n",
    "data=data[~(data.isna().T.any())]\n",
    "display(data.isna().sum())\n",
    "display(data.shape)"
   ]
  },
  {
   "cell_type": "code",
   "execution_count": 4,
   "metadata": {
    "execution": {
     "iopub.execute_input": "2021-02-23T07:14:10.068311Z",
     "iopub.status.busy": "2021-02-23T07:14:10.068311Z",
     "iopub.status.idle": "2021-02-23T07:14:10.115323Z",
     "shell.execute_reply": "2021-02-23T07:14:10.114322Z",
     "shell.execute_reply.started": "2021-02-23T07:14:10.068311Z"
    }
   },
   "outputs": [
    {
     "data": {
      "text/html": [
       "<div>\n",
       "<style scoped>\n",
       "    .dataframe tbody tr th:only-of-type {\n",
       "        vertical-align: middle;\n",
       "    }\n",
       "\n",
       "    .dataframe tbody tr th {\n",
       "        vertical-align: top;\n",
       "    }\n",
       "\n",
       "    .dataframe thead th {\n",
       "        text-align: right;\n",
       "    }\n",
       "</style>\n",
       "<table border=\"1\" class=\"dataframe\">\n",
       "  <thead>\n",
       "    <tr style=\"text-align: right;\">\n",
       "      <th></th>\n",
       "      <th>rooms</th>\n",
       "      <th>bedrooms</th>\n",
       "      <th>bathrooms</th>\n",
       "      <th>surface_total</th>\n",
       "      <th>surface_covered</th>\n",
       "      <th>price</th>\n",
       "    </tr>\n",
       "  </thead>\n",
       "  <tbody>\n",
       "    <tr>\n",
       "      <th>count</th>\n",
       "      <td>81019.000000</td>\n",
       "      <td>81019.000000</td>\n",
       "      <td>81019.000000</td>\n",
       "      <td>81019.000000</td>\n",
       "      <td>81019.000000</td>\n",
       "      <td>8.101900e+04</td>\n",
       "    </tr>\n",
       "    <tr>\n",
       "      <th>mean</th>\n",
       "      <td>3.009652</td>\n",
       "      <td>2.002037</td>\n",
       "      <td>1.553821</td>\n",
       "      <td>95.361779</td>\n",
       "      <td>84.928535</td>\n",
       "      <td>2.637725e+05</td>\n",
       "    </tr>\n",
       "    <tr>\n",
       "      <th>std</th>\n",
       "      <td>1.308602</td>\n",
       "      <td>1.049673</td>\n",
       "      <td>0.852672</td>\n",
       "      <td>77.253578</td>\n",
       "      <td>156.133119</td>\n",
       "      <td>2.989499e+05</td>\n",
       "    </tr>\n",
       "    <tr>\n",
       "      <th>min</th>\n",
       "      <td>1.000000</td>\n",
       "      <td>0.000000</td>\n",
       "      <td>1.000000</td>\n",
       "      <td>15.000000</td>\n",
       "      <td>1.000000</td>\n",
       "      <td>6.000000e+03</td>\n",
       "    </tr>\n",
       "    <tr>\n",
       "      <th>25%</th>\n",
       "      <td>2.000000</td>\n",
       "      <td>1.000000</td>\n",
       "      <td>1.000000</td>\n",
       "      <td>49.000000</td>\n",
       "      <td>44.000000</td>\n",
       "      <td>1.250000e+05</td>\n",
       "    </tr>\n",
       "    <tr>\n",
       "      <th>50%</th>\n",
       "      <td>3.000000</td>\n",
       "      <td>2.000000</td>\n",
       "      <td>1.000000</td>\n",
       "      <td>71.000000</td>\n",
       "      <td>63.000000</td>\n",
       "      <td>1.800000e+05</td>\n",
       "    </tr>\n",
       "    <tr>\n",
       "      <th>75%</th>\n",
       "      <td>4.000000</td>\n",
       "      <td>3.000000</td>\n",
       "      <td>2.000000</td>\n",
       "      <td>111.000000</td>\n",
       "      <td>96.000000</td>\n",
       "      <td>2.800000e+05</td>\n",
       "    </tr>\n",
       "    <tr>\n",
       "      <th>max</th>\n",
       "      <td>26.000000</td>\n",
       "      <td>15.000000</td>\n",
       "      <td>14.000000</td>\n",
       "      <td>1000.000000</td>\n",
       "      <td>17220.000000</td>\n",
       "      <td>4.000000e+06</td>\n",
       "    </tr>\n",
       "  </tbody>\n",
       "</table>\n",
       "</div>"
      ],
      "text/plain": [
       "              rooms      bedrooms     bathrooms  surface_total  \\\n",
       "count  81019.000000  81019.000000  81019.000000   81019.000000   \n",
       "mean       3.009652      2.002037      1.553821      95.361779   \n",
       "std        1.308602      1.049673      0.852672      77.253578   \n",
       "min        1.000000      0.000000      1.000000      15.000000   \n",
       "25%        2.000000      1.000000      1.000000      49.000000   \n",
       "50%        3.000000      2.000000      1.000000      71.000000   \n",
       "75%        4.000000      3.000000      2.000000     111.000000   \n",
       "max       26.000000     15.000000     14.000000    1000.000000   \n",
       "\n",
       "       surface_covered         price  \n",
       "count     81019.000000  8.101900e+04  \n",
       "mean         84.928535  2.637725e+05  \n",
       "std         156.133119  2.989499e+05  \n",
       "min           1.000000  6.000000e+03  \n",
       "25%          44.000000  1.250000e+05  \n",
       "50%          63.000000  1.800000e+05  \n",
       "75%          96.000000  2.800000e+05  \n",
       "max       17220.000000  4.000000e+06  "
      ]
     },
     "execution_count": 4,
     "metadata": {},
     "output_type": "execute_result"
    }
   ],
   "source": [
    "data.describe()"
   ]
  },
  {
   "cell_type": "markdown",
   "metadata": {},
   "source": [
    "### 3.3. Selección de variables y split de los datos\n",
    "Seleccionamos las variables predictoras `X` y la variable a predecir `y`."
   ]
  },
  {
   "cell_type": "code",
   "execution_count": 5,
   "metadata": {
    "execution": {
     "iopub.execute_input": "2021-02-23T07:14:10.116323Z",
     "iopub.status.busy": "2021-02-23T07:14:10.115323Z",
     "iopub.status.idle": "2021-02-23T07:14:10.130326Z",
     "shell.execute_reply": "2021-02-23T07:14:10.130326Z",
     "shell.execute_reply.started": "2021-02-23T07:14:10.116323Z"
    }
   },
   "outputs": [],
   "source": [
    "X=data.drop(columns=['price'])\n",
    "y=data['price']"
   ]
  },
  {
   "cell_type": "markdown",
   "metadata": {},
   "source": [
    "* Realizamos un Train/Test split de los datos."
   ]
  },
  {
   "cell_type": "code",
   "execution_count": 6,
   "metadata": {
    "execution": {
     "iopub.execute_input": "2021-02-23T07:14:10.132327Z",
     "iopub.status.busy": "2021-02-23T07:14:10.131327Z",
     "iopub.status.idle": "2021-02-23T07:14:10.146329Z",
     "shell.execute_reply": "2021-02-23T07:14:10.146329Z",
     "shell.execute_reply.started": "2021-02-23T07:14:10.132327Z"
    }
   },
   "outputs": [],
   "source": [
    "from sklearn.model_selection import train_test_split\n",
    "X_train, X_test, y_train, y_test = train_test_split(\n",
    "    X, y, test_size=0.30, random_state=42)\n",
    "data_split_list=[X_train, X_test, y_train, y_test]"
   ]
  },
  {
   "cell_type": "markdown",
   "metadata": {},
   "source": [
    "### 3.4. Entrenamiento de modelos"
   ]
  },
  {
   "cell_type": "code",
   "execution_count": 7,
   "metadata": {
    "execution": {
     "iopub.execute_input": "2021-02-23T07:14:10.148330Z",
     "iopub.status.busy": "2021-02-23T07:14:10.147330Z",
     "iopub.status.idle": "2021-02-23T07:14:10.162332Z",
     "shell.execute_reply": "2021-02-23T07:14:10.162332Z",
     "shell.execute_reply.started": "2021-02-23T07:14:10.148330Z"
    }
   },
   "outputs": [],
   "source": [
    "df_resultados = pd.DataFrame(columns=['modelo', 'dataset','subset','r2', 'rmse'])"
   ]
  },
  {
   "cell_type": "code",
   "execution_count": 8,
   "metadata": {
    "execution": {
     "iopub.execute_input": "2021-02-23T07:14:10.163333Z",
     "iopub.status.busy": "2021-02-23T07:14:10.163333Z",
     "iopub.status.idle": "2021-02-23T07:14:10.194341Z",
     "shell.execute_reply": "2021-02-23T07:14:10.194341Z",
     "shell.execute_reply.started": "2021-02-23T07:14:10.163333Z"
    }
   },
   "outputs": [
    {
     "data": {
      "text/html": [
       "<div>\n",
       "<style scoped>\n",
       "    .dataframe tbody tr th:only-of-type {\n",
       "        vertical-align: middle;\n",
       "    }\n",
       "\n",
       "    .dataframe tbody tr th {\n",
       "        vertical-align: top;\n",
       "    }\n",
       "\n",
       "    .dataframe thead th {\n",
       "        text-align: right;\n",
       "    }\n",
       "</style>\n",
       "<table border=\"1\" class=\"dataframe\">\n",
       "  <thead>\n",
       "    <tr style=\"text-align: right;\">\n",
       "      <th></th>\n",
       "      <th>modelo</th>\n",
       "      <th>dataset</th>\n",
       "      <th>subset</th>\n",
       "      <th>r2</th>\n",
       "      <th>rmse</th>\n",
       "    </tr>\n",
       "  </thead>\n",
       "  <tbody>\n",
       "  </tbody>\n",
       "</table>\n",
       "</div>"
      ],
      "text/plain": [
       "Empty DataFrame\n",
       "Columns: [modelo, dataset, subset, r2, rmse]\n",
       "Index: []"
      ]
     },
     "execution_count": 8,
     "metadata": {},
     "output_type": "execute_result"
    }
   ],
   "source": [
    "df_resultados"
   ]
  },
  {
   "cell_type": "code",
   "execution_count": 9,
   "metadata": {
    "execution": {
     "iopub.execute_input": "2021-02-23T07:14:10.196342Z",
     "iopub.status.busy": "2021-02-23T07:14:10.196342Z",
     "iopub.status.idle": "2021-02-23T07:14:10.210344Z",
     "shell.execute_reply": "2021-02-23T07:14:10.210344Z",
     "shell.execute_reply.started": "2021-02-23T07:14:10.196342Z"
    }
   },
   "outputs": [],
   "source": [
    "def fit_predict_measure(model, model_name, data_split_list, df_resultados, dataset='original'):\n",
    "    \n",
    "    X_train, X_test, y_train, y_test=data_split_list \n",
    "    \n",
    "    model.fit(X_train, y_train)\n",
    "    y_train_pred = model.predict(X_train)\n",
    "    y_test_pred = model.predict(X_test)\n",
    "    \n",
    "    a_subset= 'train'\n",
    "    a_r2=r2_score(y_train, y_train_pred)\n",
    "    a_rmse=np.sqrt(mean_squared_error(y_train, y_train_pred))\n",
    "    \n",
    "    a_series= pd.Series([model_name,dataset,a_subset,a_r2,a_rmse], index = df_resultados.columns)\n",
    "    df_resultados=df_resultados.append(a_series, ignore_index=True)\n",
    "    \n",
    "    a_subset= 'test'\n",
    "    a_r2=r2_score(y_test, y_test_pred)\n",
    "    a_rmse=np.sqrt(mean_squared_error(y_test, y_test_pred))\n",
    "    \n",
    "    a_series= pd.Series([model_name,dataset,a_subset,a_r2,a_rmse], index = df_resultados.columns)\n",
    "    df_resultados=df_resultados.append(a_series, ignore_index=True)\n",
    "    return df_resultados"
   ]
  },
  {
   "cell_type": "code",
   "execution_count": 10,
   "metadata": {
    "execution": {
     "iopub.execute_input": "2021-02-23T07:14:10.212345Z",
     "iopub.status.busy": "2021-02-23T07:14:10.211345Z",
     "iopub.status.idle": "2021-02-23T07:14:11.503444Z",
     "shell.execute_reply": "2021-02-23T07:14:11.503444Z",
     "shell.execute_reply.started": "2021-02-23T07:14:10.212345Z"
    }
   },
   "outputs": [],
   "source": [
    "from sklearn.linear_model import LinearRegression\n",
    "from sklearn.tree import DecisionTreeRegressor\n",
    "from sklearn.neighbors import KNeighborsRegressor\n",
    "\n",
    "lr = LinearRegression()\n",
    "dtr = DecisionTreeRegressor(random_state=42)\n",
    "knnr = KNeighborsRegressor(n_neighbors=5)\n",
    "\n",
    "dtr_b= DecisionTreeRegressor(random_state=42, max_depth=17)\n",
    "knnr_b= KNeighborsRegressor(n_neighbors= 3)\n",
    "\n",
    "lista_modelos=[lr, dtr, knnr, dtr_b, knnr_b]\n",
    "lista_nombre_modelos=['Linear Reg',\n",
    "                      'DecisionTree Reg',\n",
    "                      'KNeighbors Reg',\n",
    "                      'DecisionTree Reg-Opt',\n",
    "                      'KNeighbors Reg-Opt',\n",
    "                     ]\n",
    "\n",
    "for i, model in enumerate(lista_modelos):\n",
    "    df_resultados=fit_predict_measure(model, lista_nombre_modelos[i], data_split_list, df_resultados)"
   ]
  },
  {
   "cell_type": "markdown",
   "metadata": {
    "execution": {
     "iopub.execute_input": "2020-11-17T21:47:21.028371Z",
     "iopub.status.busy": "2020-11-17T21:47:21.028206Z",
     "iopub.status.idle": "2020-11-17T21:47:21.032160Z",
     "shell.execute_reply": "2020-11-17T21:47:21.031355Z",
     "shell.execute_reply.started": "2020-11-17T21:47:21.028355Z"
    }
   },
   "source": [
    "### 3.5. Resumen de resultados previos"
   ]
  },
  {
   "cell_type": "code",
   "execution_count": 11,
   "metadata": {
    "execution": {
     "iopub.execute_input": "2021-02-23T07:14:11.504445Z",
     "iopub.status.busy": "2021-02-23T07:14:11.504445Z",
     "iopub.status.idle": "2021-02-23T07:14:11.519449Z",
     "shell.execute_reply": "2021-02-23T07:14:11.519449Z",
     "shell.execute_reply.started": "2021-02-23T07:14:11.504445Z"
    }
   },
   "outputs": [
    {
     "data": {
      "text/html": [
       "<div>\n",
       "<style scoped>\n",
       "    .dataframe tbody tr th:only-of-type {\n",
       "        vertical-align: middle;\n",
       "    }\n",
       "\n",
       "    .dataframe tbody tr th {\n",
       "        vertical-align: top;\n",
       "    }\n",
       "\n",
       "    .dataframe thead tr th {\n",
       "        text-align: left;\n",
       "    }\n",
       "\n",
       "    .dataframe thead tr:last-of-type th {\n",
       "        text-align: right;\n",
       "    }\n",
       "</style>\n",
       "<table border=\"1\" class=\"dataframe\">\n",
       "  <thead>\n",
       "    <tr>\n",
       "      <th></th>\n",
       "      <th colspan=\"2\" halign=\"left\">r2</th>\n",
       "      <th colspan=\"2\" halign=\"left\">rmse</th>\n",
       "    </tr>\n",
       "    <tr>\n",
       "      <th>subset</th>\n",
       "      <th>test</th>\n",
       "      <th>train</th>\n",
       "      <th>test</th>\n",
       "      <th>train</th>\n",
       "    </tr>\n",
       "    <tr>\n",
       "      <th>modelo</th>\n",
       "      <th></th>\n",
       "      <th></th>\n",
       "      <th></th>\n",
       "      <th></th>\n",
       "    </tr>\n",
       "  </thead>\n",
       "  <tbody>\n",
       "    <tr>\n",
       "      <th>DecisionTree Reg</th>\n",
       "      <td>0.747078</td>\n",
       "      <td>0.968905</td>\n",
       "      <td>152027.476038</td>\n",
       "      <td>52460.908773</td>\n",
       "    </tr>\n",
       "    <tr>\n",
       "      <th>DecisionTree Reg-Opt</th>\n",
       "      <td>0.766439</td>\n",
       "      <td>0.952673</td>\n",
       "      <td>146092.758486</td>\n",
       "      <td>64721.069773</td>\n",
       "    </tr>\n",
       "    <tr>\n",
       "      <th>KNeighbors Reg</th>\n",
       "      <td>0.736954</td>\n",
       "      <td>0.833758</td>\n",
       "      <td>155040.133290</td>\n",
       "      <td>121300.240494</td>\n",
       "    </tr>\n",
       "    <tr>\n",
       "      <th>KNeighbors Reg-Opt</th>\n",
       "      <td>0.746111</td>\n",
       "      <td>0.878256</td>\n",
       "      <td>152317.822290</td>\n",
       "      <td>103804.208527</td>\n",
       "    </tr>\n",
       "    <tr>\n",
       "      <th>Linear Reg</th>\n",
       "      <td>0.551486</td>\n",
       "      <td>0.551789</td>\n",
       "      <td>202449.365404</td>\n",
       "      <td>199173.832535</td>\n",
       "    </tr>\n",
       "  </tbody>\n",
       "</table>\n",
       "</div>"
      ],
      "text/plain": [
       "                            r2                     rmse               \n",
       "subset                    test     train           test          train\n",
       "modelo                                                                \n",
       "DecisionTree Reg      0.747078  0.968905  152027.476038   52460.908773\n",
       "DecisionTree Reg-Opt  0.766439  0.952673  146092.758486   64721.069773\n",
       "KNeighbors Reg        0.736954  0.833758  155040.133290  121300.240494\n",
       "KNeighbors Reg-Opt    0.746111  0.878256  152317.822290  103804.208527\n",
       "Linear Reg            0.551486  0.551789  202449.365404  199173.832535"
      ]
     },
     "execution_count": 11,
     "metadata": {},
     "output_type": "execute_result"
    }
   ],
   "source": [
    "df_resultados.pivot(index='modelo', columns='subset', values=['r2', 'rmse'])"
   ]
  },
  {
   "cell_type": "code",
   "execution_count": 12,
   "metadata": {
    "execution": {
     "iopub.execute_input": "2021-02-23T07:14:11.520450Z",
     "iopub.status.busy": "2021-02-23T07:14:11.520450Z",
     "iopub.status.idle": "2021-02-23T07:14:11.535453Z",
     "shell.execute_reply": "2021-02-23T07:14:11.535453Z",
     "shell.execute_reply.started": "2021-02-23T07:14:11.520450Z"
    }
   },
   "outputs": [
    {
     "data": {
      "text/html": [
       "<div>\n",
       "<style scoped>\n",
       "    .dataframe tbody tr th:only-of-type {\n",
       "        vertical-align: middle;\n",
       "    }\n",
       "\n",
       "    .dataframe tbody tr th {\n",
       "        vertical-align: top;\n",
       "    }\n",
       "\n",
       "    .dataframe thead th {\n",
       "        text-align: right;\n",
       "    }\n",
       "</style>\n",
       "<table border=\"1\" class=\"dataframe\">\n",
       "  <thead>\n",
       "    <tr style=\"text-align: right;\">\n",
       "      <th></th>\n",
       "      <th>modelo</th>\n",
       "      <th>dataset</th>\n",
       "      <th>subset</th>\n",
       "      <th>r2</th>\n",
       "      <th>rmse</th>\n",
       "    </tr>\n",
       "  </thead>\n",
       "  <tbody>\n",
       "    <tr>\n",
       "      <th>0</th>\n",
       "      <td>Linear Reg</td>\n",
       "      <td>original</td>\n",
       "      <td>train</td>\n",
       "      <td>0.551789</td>\n",
       "      <td>199173.832535</td>\n",
       "    </tr>\n",
       "    <tr>\n",
       "      <th>1</th>\n",
       "      <td>Linear Reg</td>\n",
       "      <td>original</td>\n",
       "      <td>test</td>\n",
       "      <td>0.551486</td>\n",
       "      <td>202449.365404</td>\n",
       "    </tr>\n",
       "    <tr>\n",
       "      <th>2</th>\n",
       "      <td>DecisionTree Reg</td>\n",
       "      <td>original</td>\n",
       "      <td>train</td>\n",
       "      <td>0.968905</td>\n",
       "      <td>52460.908773</td>\n",
       "    </tr>\n",
       "    <tr>\n",
       "      <th>3</th>\n",
       "      <td>DecisionTree Reg</td>\n",
       "      <td>original</td>\n",
       "      <td>test</td>\n",
       "      <td>0.747078</td>\n",
       "      <td>152027.476038</td>\n",
       "    </tr>\n",
       "    <tr>\n",
       "      <th>4</th>\n",
       "      <td>KNeighbors Reg</td>\n",
       "      <td>original</td>\n",
       "      <td>train</td>\n",
       "      <td>0.833758</td>\n",
       "      <td>121300.240494</td>\n",
       "    </tr>\n",
       "    <tr>\n",
       "      <th>5</th>\n",
       "      <td>KNeighbors Reg</td>\n",
       "      <td>original</td>\n",
       "      <td>test</td>\n",
       "      <td>0.736954</td>\n",
       "      <td>155040.133290</td>\n",
       "    </tr>\n",
       "    <tr>\n",
       "      <th>6</th>\n",
       "      <td>DecisionTree Reg-Opt</td>\n",
       "      <td>original</td>\n",
       "      <td>train</td>\n",
       "      <td>0.952673</td>\n",
       "      <td>64721.069773</td>\n",
       "    </tr>\n",
       "    <tr>\n",
       "      <th>7</th>\n",
       "      <td>DecisionTree Reg-Opt</td>\n",
       "      <td>original</td>\n",
       "      <td>test</td>\n",
       "      <td>0.766439</td>\n",
       "      <td>146092.758486</td>\n",
       "    </tr>\n",
       "    <tr>\n",
       "      <th>8</th>\n",
       "      <td>KNeighbors Reg-Opt</td>\n",
       "      <td>original</td>\n",
       "      <td>train</td>\n",
       "      <td>0.878256</td>\n",
       "      <td>103804.208527</td>\n",
       "    </tr>\n",
       "    <tr>\n",
       "      <th>9</th>\n",
       "      <td>KNeighbors Reg-Opt</td>\n",
       "      <td>original</td>\n",
       "      <td>test</td>\n",
       "      <td>0.746111</td>\n",
       "      <td>152317.822290</td>\n",
       "    </tr>\n",
       "  </tbody>\n",
       "</table>\n",
       "</div>"
      ],
      "text/plain": [
       "                 modelo   dataset subset        r2           rmse\n",
       "0            Linear Reg  original  train  0.551789  199173.832535\n",
       "1            Linear Reg  original   test  0.551486  202449.365404\n",
       "2      DecisionTree Reg  original  train  0.968905   52460.908773\n",
       "3      DecisionTree Reg  original   test  0.747078  152027.476038\n",
       "4        KNeighbors Reg  original  train  0.833758  121300.240494\n",
       "5        KNeighbors Reg  original   test  0.736954  155040.133290\n",
       "6  DecisionTree Reg-Opt  original  train  0.952673   64721.069773\n",
       "7  DecisionTree Reg-Opt  original   test  0.766439  146092.758486\n",
       "8    KNeighbors Reg-Opt  original  train  0.878256  103804.208527\n",
       "9    KNeighbors Reg-Opt  original   test  0.746111  152317.822290"
      ]
     },
     "execution_count": 12,
     "metadata": {},
     "output_type": "execute_result"
    }
   ],
   "source": [
    "df_resultados"
   ]
  },
  {
   "cell_type": "code",
   "execution_count": 13,
   "metadata": {
    "execution": {
     "iopub.execute_input": "2021-02-23T07:14:11.536453Z",
     "iopub.status.busy": "2021-02-23T07:14:11.536453Z",
     "iopub.status.idle": "2021-02-23T07:14:11.551456Z",
     "shell.execute_reply": "2021-02-23T07:14:11.551456Z",
     "shell.execute_reply.started": "2021-02-23T07:14:11.536453Z"
    }
   },
   "outputs": [],
   "source": [
    "def show_values_horizontal(ax,fig,offset= (-50, 15)):\n",
    "    #funcion para poner los valores de las barras\n",
    "    for p in ax.patches:\n",
    "        value=format(p.get_width(), '.3f')\n",
    "        _x = p.get_x() + p.get_width() \n",
    "        _y = p.get_y() + p.get_height()\n",
    "        ax.annotate(value, (_x, _y), size=12,\n",
    "                       xytext = offset, textcoords = 'offset points'  ## el offset\n",
    "                  )\n",
    "        fig"
   ]
  },
  {
   "cell_type": "code",
   "execution_count": 14,
   "metadata": {
    "execution": {
     "iopub.execute_input": "2021-02-23T07:14:11.552457Z",
     "iopub.status.busy": "2021-02-23T07:14:11.552457Z",
     "iopub.status.idle": "2021-02-23T07:14:11.807513Z",
     "shell.execute_reply": "2021-02-23T07:14:11.807513Z",
     "shell.execute_reply.started": "2021-02-23T07:14:11.552457Z"
    }
   },
   "outputs": [
    {
     "data": {
      "image/png": "[encoded data removed]",
      "text/plain": [
       "<Figure size 720x576 with 1 Axes>"
      ]
     },
     "metadata": {},
     "output_type": "display_data"
    }
   ],
   "source": [
    "fig=plt.figure(figsize=(10, 8))\n",
    "a=sns.barplot(y=\"modelo\", \n",
    "            x=\"r2\", \n",
    "            hue=\"subset\",\n",
    "            data=df_resultados[df_resultados.dataset=='original'])\n",
    "\n",
    "a.set_xlim(0,1)\n",
    "show_values_horizontal(a, fig)"
   ]
  },
  {
   "cell_type": "markdown",
   "metadata": {},
   "source": [
    "## 4. Análisis Exploratorio de Datos"
   ]
  },
  {
   "cell_type": "markdown",
   "metadata": {},
   "source": [
    "Vamos a analizar como están distribuidas las variables del dataset que habíamos filtrado."
   ]
  },
  {
   "cell_type": "code",
   "execution_count": 15,
   "metadata": {
    "execution": {
     "iopub.execute_input": "2021-02-23T07:14:11.808515Z",
     "iopub.status.busy": "2021-02-23T07:14:11.808515Z",
     "iopub.status.idle": "2021-02-23T07:14:11.823517Z",
     "shell.execute_reply": "2021-02-23T07:14:11.823517Z",
     "shell.execute_reply.started": "2021-02-23T07:14:11.808515Z"
    }
   },
   "outputs": [],
   "source": [
    "cf_dis = ['rooms', 'bedrooms', 'bathrooms']\n",
    "cf_cont= ['surface_total', 'surface_covered', 'price']\n",
    "cf_dis_es = ['espacios', 'habitaciones', 'baños']\n",
    "cf_cont_es= ['superficie_total', 'superficie_cubierta', 'precio']\n",
    "cf_cont_u= ['m2', 'm2', 'USD']\n",
    "colors_1= ['tab:blue','tab:orange','tab:green']\n",
    "colors_2=['tab:red','tab:purple','tab:brown','tab:pink','tab:gray','tab:olive','tab:cyan']"
   ]
  },
  {
   "cell_type": "code",
   "execution_count": 16,
   "metadata": {
    "execution": {
     "iopub.execute_input": "2021-02-23T07:14:11.824518Z",
     "iopub.status.busy": "2021-02-23T07:14:11.824518Z",
     "iopub.status.idle": "2021-02-23T07:14:14.870201Z",
     "shell.execute_reply": "2021-02-23T07:14:14.870201Z",
     "shell.execute_reply.started": "2021-02-23T07:14:11.824518Z"
    }
   },
   "outputs": [
    {
     "data": {
      "image/png": "[encoded data removed]",
      "text/plain": [
       "<Figure size 1080x576 with 6 Axes>"
      ]
     },
     "metadata": {},
     "output_type": "display_data"
    }
   ],
   "source": [
    "fig, ax = plt.subplots(2,3, figsize=(15,8))\n",
    "plt.subplots_adjust(wspace=0.3, hspace= 0.3)\n",
    "for item in enumerate(cf_dis):   \n",
    "    sns.histplot(data=data[item[1]], discrete=True, ax=ax[0,item[0]], color=colors_1[item[0]])\n",
    "    ax[0,item[0]].xaxis.set_major_locator(MultipleLocator(2))\n",
    "    ax[0,item[0]].set_title(f'Histograma {cf_dis_es[item[0]].title()}')\n",
    "    ax[0,item[0]].set_ylabel('Propiedades')\n",
    "    ax[0,item[0]].set_xlabel(f'{cf_dis_es[item[0]].title()}' )\n",
    "    \n",
    "    sns.boxplot(data=data[item[1]], orient='h' , ax=ax[1,item[0]], color=colors_1[item[0]] )\n",
    "    ax[1,item[0]].xaxis.set_major_locator(MultipleLocator(2))\n",
    "    ax[1,item[0]].set_title(f'Boxplot {cf_dis_es[item[0]].title()}')\n",
    "    ax[1,item[0]].set_xlabel(f'{cf_dis_es[item[0]].title()}')\n",
    "    \n",
    "plt.savefig('imagenes/discretas_antes.png', dpi=600, bbox_inches='tight', pad_inches=0.3)\n",
    "plt.show()"
   ]
  },
  {
   "cell_type": "code",
   "execution_count": 17,
   "metadata": {
    "execution": {
     "iopub.execute_input": "2021-02-23T07:14:14.872201Z",
     "iopub.status.busy": "2021-02-23T07:14:14.871202Z",
     "iopub.status.idle": "2021-02-23T07:14:18.027726Z",
     "shell.execute_reply": "2021-02-23T07:14:18.027726Z",
     "shell.execute_reply.started": "2021-02-23T07:14:14.871202Z"
    }
   },
   "outputs": [
    {
     "data": {
      "image/png": "[encoded data removed]",
      "text/plain": [
       "<Figure size 1080x576 with 6 Axes>"
      ]
     },
     "metadata": {},
     "output_type": "display_data"
    }
   ],
   "source": [
    "fig, ax = plt.subplots(2,3, figsize=(15,8))\n",
    "plt.subplots_adjust(wspace=0.3, hspace= 0.3)\n",
    "for item in enumerate(cf_cont):\n",
    "    sns.histplot(data=data, x=item[1], bins=10, ax=ax[0, item[0]], color=colors_2[item[0]])\n",
    "    ax[0,item[0]].set_title(f'Histograma {cf_cont_es[item[0]].title().replace(\"_\", \" \")}')\n",
    "    ax[0,item[0]].set_ylabel('propiedades')\n",
    "    ax[0,item[0]].set_xlabel(f'{cf_cont_es[item[0]].title().replace(\"_\", \" \")} {cf_cont_u[item[0]]}' )\n",
    "    ax[0,item[0]].ticklabel_format(axis=\"x\", style=\"sci\", scilimits=(0,0))\n",
    "    \n",
    "    sns.boxplot(data=data, x=item[1], ax= ax[1,item[0]], color=colors_2[item[0]])\n",
    "    ax[1,item[0]].set_title(f'Boxplot {cf_cont_es[item[0]].title().replace(\"_\", \" \")}')\n",
    "    ax[1,item[0]].set_xlabel(f'{cf_cont_es[item[0]].title().replace(\"_\", \" \")} {cf_cont_u[item[0]]}' )\n",
    "    ax[1,item[0]].ticklabel_format(axis=\"x\", style=\"sci\", scilimits=(0,0))\n",
    "\n",
    "plt.savefig('imagenes/continuas_antes.png', dpi=600, bbox_inches='tight', pad_inches=0.3)    \n",
    "plt.show()"
   ]
  },
  {
   "cell_type": "markdown",
   "metadata": {},
   "source": [
    "* Se puede observar que el filtrado de datos no fue el mas adecuado y aun se presentan gran cantidad de valores atípicos en todas las variables."
   ]
  },
  {
   "cell_type": "code",
   "execution_count": 18,
   "metadata": {
    "execution": {
     "iopub.execute_input": "2021-02-23T07:14:18.029727Z",
     "iopub.status.busy": "2021-02-23T07:14:18.028727Z",
     "iopub.status.idle": "2021-02-23T07:14:18.043731Z",
     "shell.execute_reply": "2021-02-23T07:14:18.043731Z",
     "shell.execute_reply.started": "2021-02-23T07:14:18.029727Z"
    }
   },
   "outputs": [
    {
     "data": {
      "text/plain": [
       "rooms              0\n",
       "bedrooms           0\n",
       "bathrooms          0\n",
       "surface_total      0\n",
       "surface_covered    0\n",
       "price              0\n",
       "dtype: int64"
      ]
     },
     "execution_count": 18,
     "metadata": {},
     "output_type": "execute_result"
    }
   ],
   "source": [
    "data.isna().sum()"
   ]
  },
  {
   "cell_type": "markdown",
   "metadata": {},
   "source": [
    "* Adicionalmente con el filtrado realizado se han eliminado todos los inmuebles que contienen valores faltantes."
   ]
  },
  {
   "cell_type": "markdown",
   "metadata": {},
   "source": [
    "## 5. Transformación de datos"
   ]
  },
  {
   "cell_type": "markdown",
   "metadata": {},
   "source": [
    "Volveremos cargar nuestro data set pero aplicaremos una estrategia diferente de filtrado.\n",
    "* Para los valores faltantes realizaremos imputación mediante knn imputer\n",
    "* Para eliminación de valores atípicos utilizaremos filtrado de 3 sigmas\n",
    "* Se tendrá en cuenta las variables property_type y l3 por lo cual se les realizara encoding para poder utilizarlas en el modelado.\n"
   ]
  },
  {
   "cell_type": "code",
   "execution_count": 19,
   "metadata": {
    "execution": {
     "iopub.execute_input": "2021-02-23T07:14:18.044731Z",
     "iopub.status.busy": "2021-02-23T07:14:18.044731Z",
     "iopub.status.idle": "2021-02-23T07:14:19.961968Z",
     "shell.execute_reply": "2021-02-23T07:14:19.961968Z",
     "shell.execute_reply.started": "2021-02-23T07:14:18.044731Z"
    }
   },
   "outputs": [],
   "source": [
    "data = pd.read_csv('DS_Proyecto_01_Datos_Properati.csv')"
   ]
  },
  {
   "cell_type": "markdown",
   "metadata": {},
   "source": [
    "* Seguiremos trabajando con los inmuebles tipo vivienda de Capital Federal"
   ]
  },
  {
   "cell_type": "code",
   "execution_count": 20,
   "metadata": {
    "execution": {
     "iopub.execute_input": "2021-02-23T07:14:19.962968Z",
     "iopub.status.busy": "2021-02-23T07:14:19.962968Z",
     "iopub.status.idle": "2021-02-23T07:14:20.041987Z",
     "shell.execute_reply": "2021-02-23T07:14:20.040987Z",
     "shell.execute_reply.started": "2021-02-23T07:14:19.962968Z"
    }
   },
   "outputs": [
    {
     "data": {
      "text/plain": [
       "(90725, 9)"
      ]
     },
     "execution_count": 20,
     "metadata": {},
     "output_type": "execute_result"
    }
   ],
   "source": [
    "data = data[data.l2.isin(['Capital Federal']) &\n",
    "            data.property_type.isin(['Departamento', 'Casa', 'PH']) \n",
    "            ]\n",
    "data = data[['price', 'rooms', 'bedrooms', 'bathrooms', 'surface_total', 'surface_covered', 'property_type','l3','title']]\n",
    "data=data[~(data.surface_covered>data.surface_total)]\n",
    "data.shape"
   ]
  },
  {
   "cell_type": "markdown",
   "metadata": {},
   "source": [
    "### 5.1. Eliminación de Outliers"
   ]
  },
  {
   "cell_type": "markdown",
   "metadata": {},
   "source": [
    "* Para la detección y eliminación de outliers se creara una función que nos separa los outliers con el criterio de las 3 sigmas, adicionalmente se puede mantener los datos nulos y escoger el numero de sigmas a utilizar."
   ]
  },
  {
   "cell_type": "code",
   "execution_count": 21,
   "metadata": {
    "execution": {
     "iopub.execute_input": "2021-02-23T07:14:20.042987Z",
     "iopub.status.busy": "2021-02-23T07:14:20.041987Z",
     "iopub.status.idle": "2021-02-23T07:14:20.057991Z",
     "shell.execute_reply": "2021-02-23T07:14:20.056991Z",
     "shell.execute_reply.started": "2021-02-23T07:14:20.042987Z"
    }
   },
   "outputs": [],
   "source": [
    "def sigma_filter(X, s=3, keep_NaN= True):\n",
    "    median=X.median()\n",
    "    std=X.std()\n",
    "    mask = (X<= median + s*std) & (X>= median - s*std)\n",
    "    if keep_NaN:\n",
    "        mask = mask | X.isna()\n",
    "    return mask"
   ]
  },
  {
   "cell_type": "code",
   "execution_count": 22,
   "metadata": {
    "execution": {
     "iopub.execute_input": "2021-02-23T07:14:20.058991Z",
     "iopub.status.busy": "2021-02-23T07:14:20.057991Z",
     "iopub.status.idle": "2021-02-23T07:14:20.088997Z",
     "shell.execute_reply": "2021-02-23T07:14:20.088997Z",
     "shell.execute_reply.started": "2021-02-23T07:14:20.058991Z"
    }
   },
   "outputs": [
    {
     "name": "stdout",
     "output_type": "stream",
     "text": [
      "0.9435546982639845\n",
      "(85604, 9)\n"
     ]
    }
   ],
   "source": [
    "mask= (sigma_filter(data['surface_total'])\n",
    "       & sigma_filter(data['surface_covered'])\n",
    "       & sigma_filter(data['price'])\n",
    "       & sigma_filter(data['rooms'])  \n",
    "       & sigma_filter(data['bedrooms'])\n",
    "       & sigma_filter(data['bathrooms'])\n",
    "      )\n",
    "print(mask.mean())\n",
    "data_f=data[mask]\n",
    "data_f=data_f.reset_index(drop=True)\n",
    "print(data_f.shape)"
   ]
  },
  {
   "cell_type": "markdown",
   "metadata": {},
   "source": [
    "* Haciendo el filtrado el dataset se conserva en un 94%."
   ]
  },
  {
   "cell_type": "code",
   "execution_count": 23,
   "metadata": {
    "execution": {
     "iopub.execute_input": "2021-02-23T07:14:20.089999Z",
     "iopub.status.busy": "2021-02-23T07:14:20.089999Z",
     "iopub.status.idle": "2021-02-23T07:14:20.904243Z",
     "shell.execute_reply": "2021-02-23T07:14:20.904243Z",
     "shell.execute_reply.started": "2021-02-23T07:14:20.089999Z"
    }
   },
   "outputs": [
    {
     "data": {
      "image/png": "[encoded data removed]",
      "text/plain": [
       "<Figure size 1080x576 with 6 Axes>"
      ]
     },
     "metadata": {},
     "output_type": "display_data"
    }
   ],
   "source": [
    "fig, ax = plt.subplots(2,3, figsize=(15,8))\n",
    "plt.subplots_adjust(wspace=0.3, hspace= 0.3)\n",
    "for item in enumerate(cf_dis):   \n",
    "    sns.histplot(data=data_f[item[1]], discrete=True, ax=ax[0,item[0]], color=colors_1[item[0]])\n",
    "    ax[0,item[0]].set_title(f'Histograma {cf_dis_es[item[0]].title()}')\n",
    "    ax[0,item[0]].set_ylabel('Propiedades')\n",
    "    ax[0,item[0]].set_xlabel(f'{cf_dis_es[item[0]].title()}' )\n",
    "    \n",
    "    sns.boxplot(data=data_f[item[1]], orient='h' , ax=ax[1,item[0]], color=colors_1[item[0]] )\n",
    "    ax[1,item[0]].set_title(f'Boxplot {cf_dis_es[item[0]].title()}')\n",
    "    ax[1,item[0]].set_xlabel(f'{cf_dis_es[item[0]].title()}')\n",
    "    \n",
    "plt.show()"
   ]
  },
  {
   "cell_type": "code",
   "execution_count": 24,
   "metadata": {
    "execution": {
     "iopub.execute_input": "2021-02-23T07:14:20.906243Z",
     "iopub.status.busy": "2021-02-23T07:14:20.905243Z",
     "iopub.status.idle": "2021-02-23T07:14:21.671417Z",
     "shell.execute_reply": "2021-02-23T07:14:21.671417Z",
     "shell.execute_reply.started": "2021-02-23T07:14:20.905243Z"
    }
   },
   "outputs": [
    {
     "data": {
      "image/png": "[encoded data removed]",
      "text/plain": [
       "<Figure size 1080x576 with 6 Axes>"
      ]
     },
     "metadata": {},
     "output_type": "display_data"
    }
   ],
   "source": [
    "fig, ax = plt.subplots(2,3, figsize=(15,8))\n",
    "plt.subplots_adjust(wspace=0.3, hspace= 0.3)\n",
    "for item in enumerate(cf_cont):\n",
    "    sns.histplot(data=data_f, x=item[1], bins=10, ax=ax[0, item[0]], color=colors_2[item[0]])\n",
    "    ax[0,item[0]].set_title(f'Histograma {cf_cont_es[item[0]].title().replace(\"_\", \" \")}')\n",
    "    ax[0,item[0]].set_ylabel('propiedades')\n",
    "    ax[0,item[0]].set_xlabel(f'{cf_cont_es[item[0]].title().replace(\"_\", \" \")} {cf_cont_u[item[0]]}' )\n",
    "    ax[0,item[0]].ticklabel_format(axis=\"x\", style=\"sci\", scilimits=(0,0))\n",
    "    \n",
    "    sns.boxplot(data=data_f, x=item[1], ax= ax[1,item[0]], color=colors_2[item[0]])\n",
    "    ax[1,item[0]].set_title(f'Boxplot {cf_cont_es[item[0]].title().replace(\"_\", \" \")}')\n",
    "    ax[1,item[0]].set_xlabel(f'{cf_cont_es[item[0]].title().replace(\"_\", \" \")} {cf_cont_u[item[0]]}' )\n",
    "    ax[1,item[0]].ticklabel_format(axis=\"x\", style=\"sci\", scilimits=(0,0))\n",
    "    \n",
    "plt.show()"
   ]
  },
  {
   "cell_type": "markdown",
   "metadata": {},
   "source": [
    "* Con el filtrado de las 3 sigmas las variables discretas reducen considerablemente la cantidad de datos atípicos pero para las variables continuas al tener tanta desviación no se logra eliminar suficientes datos atípicos por lo que se rehace el filtrado pero esta vez con 1 sigmas para las superficies y 2 sigmas para el precio."
   ]
  },
  {
   "cell_type": "code",
   "execution_count": 25,
   "metadata": {
    "execution": {
     "iopub.execute_input": "2021-02-23T07:14:21.672418Z",
     "iopub.status.busy": "2021-02-23T07:14:21.672418Z",
     "iopub.status.idle": "2021-02-23T07:14:21.703424Z",
     "shell.execute_reply": "2021-02-23T07:14:21.703424Z",
     "shell.execute_reply.started": "2021-02-23T07:14:21.672418Z"
    }
   },
   "outputs": [
    {
     "name": "stdout",
     "output_type": "stream",
     "text": [
      "0.9344171948195095\n",
      "(84775, 9)\n"
     ]
    }
   ],
   "source": [
    "mask= (sigma_filter(data['surface_total'], s=1)\n",
    "       & sigma_filter(data['surface_covered'], s=1)\n",
    "       & sigma_filter(data['price'],s=2)\n",
    "       & sigma_filter(data['rooms'])  \n",
    "       & sigma_filter(data['bedrooms'])\n",
    "       & sigma_filter(data['bathrooms'])\n",
    "      )\n",
    "print(mask.mean())\n",
    "data_f=data[mask]\n",
    "data_f=data_f.reset_index(drop=True)\n",
    "print(data_f.shape)"
   ]
  },
  {
   "cell_type": "markdown",
   "metadata": {},
   "source": [
    "* Se sigue conservando un porcentaje elevado del dataset 93%"
   ]
  },
  {
   "cell_type": "code",
   "execution_count": 26,
   "metadata": {
    "execution": {
     "iopub.execute_input": "2021-02-23T07:14:21.704425Z",
     "iopub.status.busy": "2021-02-23T07:14:21.704425Z",
     "iopub.status.idle": "2021-02-23T07:14:22.516606Z",
     "shell.execute_reply": "2021-02-23T07:14:22.516606Z",
     "shell.execute_reply.started": "2021-02-23T07:14:21.704425Z"
    }
   },
   "outputs": [
    {
     "data": {
      "image/png": "[encoded data removed]",
      "text/plain": [
       "<Figure size 1080x576 with 6 Axes>"
      ]
     },
     "metadata": {},
     "output_type": "display_data"
    }
   ],
   "source": [
    "fig, ax = plt.subplots(2,3, figsize=(15,8))\n",
    "plt.subplots_adjust(wspace=0.3, hspace= 0.3)\n",
    "for item in enumerate(cf_cont):\n",
    "    sns.histplot(data=data_f, x=item[1], bins=10, ax=ax[0, item[0]], color=colors_2[item[0]])\n",
    "    ax[0,item[0]].set_title(f'Histograma {cf_cont_es[item[0]].title().replace(\"_\", \" \")}')\n",
    "    ax[0,item[0]].set_ylabel('propiedades')\n",
    "    ax[0,item[0]].set_xlabel(f'{cf_cont_es[item[0]].title().replace(\"_\", \" \")}' )\n",
    "    ax[0,item[0]].ticklabel_format(axis=\"x\", style=\"sci\", scilimits=(0,0))\n",
    "    \n",
    "    sns.boxplot(data=data_f, x=item[1], ax= ax[1,item[0]], color=colors_2[item[0]])\n",
    "    ax[1,item[0]].set_title(f'Boxplot {cf_cont_es[item[0]].title().replace(\"_\", \" \")}')\n",
    "    ax[1,item[0]].set_xlabel(f'{cf_cont_es[item[0]].title().replace(\"_\", \" \")}' )\n",
    "    ax[1,item[0]].ticklabel_format(axis=\"x\", style=\"sci\", scilimits=(0,0))\n",
    "    \n",
    "plt.show()"
   ]
  },
  {
   "cell_type": "markdown",
   "metadata": {},
   "source": [
    "* Con los nuevos sigmas elegidos para filtrar las variables continuas tenemos una mayor eliminación de valores atípicos sin reducir considerablemente el dataset"
   ]
  },
  {
   "cell_type": "code",
   "execution_count": 27,
   "metadata": {
    "execution": {
     "iopub.execute_input": "2021-02-23T07:14:22.517607Z",
     "iopub.status.busy": "2021-02-23T07:14:22.517607Z",
     "iopub.status.idle": "2021-02-23T07:14:22.564617Z",
     "shell.execute_reply": "2021-02-23T07:14:22.564617Z",
     "shell.execute_reply.started": "2021-02-23T07:14:22.517607Z"
    }
   },
   "outputs": [
    {
     "data": {
      "text/html": [
       "<div>\n",
       "<style scoped>\n",
       "    .dataframe tbody tr th:only-of-type {\n",
       "        vertical-align: middle;\n",
       "    }\n",
       "\n",
       "    .dataframe tbody tr th {\n",
       "        vertical-align: top;\n",
       "    }\n",
       "\n",
       "    .dataframe thead th {\n",
       "        text-align: right;\n",
       "    }\n",
       "</style>\n",
       "<table border=\"1\" class=\"dataframe\">\n",
       "  <thead>\n",
       "    <tr style=\"text-align: right;\">\n",
       "      <th></th>\n",
       "      <th>price</th>\n",
       "      <th>rooms</th>\n",
       "      <th>bedrooms</th>\n",
       "      <th>bathrooms</th>\n",
       "      <th>surface_total</th>\n",
       "      <th>surface_covered</th>\n",
       "    </tr>\n",
       "  </thead>\n",
       "  <tbody>\n",
       "    <tr>\n",
       "      <th>count</th>\n",
       "      <td>84775.000000</td>\n",
       "      <td>84775.000000</td>\n",
       "      <td>84775.000000</td>\n",
       "      <td>82658.000000</td>\n",
       "      <td>76346.000000</td>\n",
       "      <td>76040.000000</td>\n",
       "    </tr>\n",
       "    <tr>\n",
       "      <th>mean</th>\n",
       "      <td>206762.103592</td>\n",
       "      <td>2.802784</td>\n",
       "      <td>1.839457</td>\n",
       "      <td>1.419923</td>\n",
       "      <td>83.799583</td>\n",
       "      <td>71.846883</td>\n",
       "    </tr>\n",
       "    <tr>\n",
       "      <th>std</th>\n",
       "      <td>129378.545770</td>\n",
       "      <td>1.090410</td>\n",
       "      <td>0.928883</td>\n",
       "      <td>0.625567</td>\n",
       "      <td>57.385870</td>\n",
       "      <td>42.630834</td>\n",
       "    </tr>\n",
       "    <tr>\n",
       "      <th>min</th>\n",
       "      <td>6000.000000</td>\n",
       "      <td>1.000000</td>\n",
       "      <td>0.000000</td>\n",
       "      <td>1.000000</td>\n",
       "      <td>12.000000</td>\n",
       "      <td>1.000000</td>\n",
       "    </tr>\n",
       "    <tr>\n",
       "      <th>25%</th>\n",
       "      <td>119500.000000</td>\n",
       "      <td>2.000000</td>\n",
       "      <td>1.000000</td>\n",
       "      <td>1.000000</td>\n",
       "      <td>48.000000</td>\n",
       "      <td>43.000000</td>\n",
       "    </tr>\n",
       "    <tr>\n",
       "      <th>50%</th>\n",
       "      <td>169000.000000</td>\n",
       "      <td>3.000000</td>\n",
       "      <td>2.000000</td>\n",
       "      <td>1.000000</td>\n",
       "      <td>68.000000</td>\n",
       "      <td>60.000000</td>\n",
       "    </tr>\n",
       "    <tr>\n",
       "      <th>75%</th>\n",
       "      <td>250000.000000</td>\n",
       "      <td>4.000000</td>\n",
       "      <td>2.000000</td>\n",
       "      <td>2.000000</td>\n",
       "      <td>100.000000</td>\n",
       "      <td>86.000000</td>\n",
       "    </tr>\n",
       "    <tr>\n",
       "      <th>max</th>\n",
       "      <td>820000.000000</td>\n",
       "      <td>6.000000</td>\n",
       "      <td>5.000000</td>\n",
       "      <td>3.000000</td>\n",
       "      <td>1054.000000</td>\n",
       "      <td>798.000000</td>\n",
       "    </tr>\n",
       "  </tbody>\n",
       "</table>\n",
       "</div>"
      ],
      "text/plain": [
       "               price         rooms      bedrooms     bathrooms  surface_total  \\\n",
       "count   84775.000000  84775.000000  84775.000000  82658.000000   76346.000000   \n",
       "mean   206762.103592      2.802784      1.839457      1.419923      83.799583   \n",
       "std    129378.545770      1.090410      0.928883      0.625567      57.385870   \n",
       "min      6000.000000      1.000000      0.000000      1.000000      12.000000   \n",
       "25%    119500.000000      2.000000      1.000000      1.000000      48.000000   \n",
       "50%    169000.000000      3.000000      2.000000      1.000000      68.000000   \n",
       "75%    250000.000000      4.000000      2.000000      2.000000     100.000000   \n",
       "max    820000.000000      6.000000      5.000000      3.000000    1054.000000   \n",
       "\n",
       "       surface_covered  \n",
       "count     76040.000000  \n",
       "mean         71.846883  \n",
       "std          42.630834  \n",
       "min           1.000000  \n",
       "25%          43.000000  \n",
       "50%          60.000000  \n",
       "75%          86.000000  \n",
       "max         798.000000  "
      ]
     },
     "execution_count": 27,
     "metadata": {},
     "output_type": "execute_result"
    }
   ],
   "source": [
    "data_f.describe()"
   ]
  },
  {
   "cell_type": "markdown",
   "metadata": {},
   "source": [
    "* No tienen sentido superficies cubiertas de 1 mt por lo que revisaremos estos inmuebles"
   ]
  },
  {
   "cell_type": "code",
   "execution_count": 28,
   "metadata": {
    "execution": {
     "iopub.execute_input": "2021-02-23T07:14:22.565618Z",
     "iopub.status.busy": "2021-02-23T07:14:22.565618Z",
     "iopub.status.idle": "2021-02-23T07:14:22.596626Z",
     "shell.execute_reply": "2021-02-23T07:14:22.596626Z",
     "shell.execute_reply.started": "2021-02-23T07:14:22.565618Z"
    }
   },
   "outputs": [
    {
     "data": {
      "text/html": [
       "<div>\n",
       "<style scoped>\n",
       "    .dataframe tbody tr th:only-of-type {\n",
       "        vertical-align: middle;\n",
       "    }\n",
       "\n",
       "    .dataframe tbody tr th {\n",
       "        vertical-align: top;\n",
       "    }\n",
       "\n",
       "    .dataframe thead th {\n",
       "        text-align: right;\n",
       "    }\n",
       "</style>\n",
       "<table border=\"1\" class=\"dataframe\">\n",
       "  <thead>\n",
       "    <tr style=\"text-align: right;\">\n",
       "      <th></th>\n",
       "      <th>price</th>\n",
       "      <th>rooms</th>\n",
       "      <th>bedrooms</th>\n",
       "      <th>bathrooms</th>\n",
       "      <th>surface_total</th>\n",
       "      <th>surface_covered</th>\n",
       "      <th>property_type</th>\n",
       "      <th>l3</th>\n",
       "      <th>title</th>\n",
       "    </tr>\n",
       "  </thead>\n",
       "  <tbody>\n",
       "    <tr>\n",
       "      <th>282</th>\n",
       "      <td>27000.0</td>\n",
       "      <td>1.0</td>\n",
       "      <td>1.0</td>\n",
       "      <td>NaN</td>\n",
       "      <td>14.0</td>\n",
       "      <td>14.0</td>\n",
       "      <td>Departamento</td>\n",
       "      <td>Caballito</td>\n",
       "      <td>EXCELENTE COCHERA, EXCELENTE INVERSION !</td>\n",
       "    </tr>\n",
       "    <tr>\n",
       "      <th>813</th>\n",
       "      <td>115000.0</td>\n",
       "      <td>1.0</td>\n",
       "      <td>1.0</td>\n",
       "      <td>1.0</td>\n",
       "      <td>33.0</td>\n",
       "      <td>3.0</td>\n",
       "      <td>Departamento</td>\n",
       "      <td>Belgrano</td>\n",
       "      <td>Excelente monoambiente a estrenar al frente co...</td>\n",
       "    </tr>\n",
       "    <tr>\n",
       "      <th>1578</th>\n",
       "      <td>236000.0</td>\n",
       "      <td>3.0</td>\n",
       "      <td>2.0</td>\n",
       "      <td>1.0</td>\n",
       "      <td>NaN</td>\n",
       "      <td>1.0</td>\n",
       "      <td>Departamento</td>\n",
       "      <td>Palermo</td>\n",
       "      <td>3 Ambientes a estrenar c/ cochera y parrilla e...</td>\n",
       "    </tr>\n",
       "    <tr>\n",
       "      <th>3291</th>\n",
       "      <td>210000.0</td>\n",
       "      <td>3.0</td>\n",
       "      <td>2.0</td>\n",
       "      <td>2.0</td>\n",
       "      <td>71.0</td>\n",
       "      <td>3.0</td>\n",
       "      <td>Departamento</td>\n",
       "      <td>Barracas</td>\n",
       "      <td>DEPARTAMENTO EN VENTA</td>\n",
       "    </tr>\n",
       "    <tr>\n",
       "      <th>3720</th>\n",
       "      <td>380000.0</td>\n",
       "      <td>5.0</td>\n",
       "      <td>4.0</td>\n",
       "      <td>3.0</td>\n",
       "      <td>NaN</td>\n",
       "      <td>1.0</td>\n",
       "      <td>PH</td>\n",
       "      <td>Almagro</td>\n",
       "      <td>PH 5 Ambientes con Terraza propia y Patio!</td>\n",
       "    </tr>\n",
       "    <tr>\n",
       "      <th>...</th>\n",
       "      <td>...</td>\n",
       "      <td>...</td>\n",
       "      <td>...</td>\n",
       "      <td>...</td>\n",
       "      <td>...</td>\n",
       "      <td>...</td>\n",
       "      <td>...</td>\n",
       "      <td>...</td>\n",
       "      <td>...</td>\n",
       "    </tr>\n",
       "    <tr>\n",
       "      <th>78287</th>\n",
       "      <td>259000.0</td>\n",
       "      <td>4.0</td>\n",
       "      <td>3.0</td>\n",
       "      <td>2.0</td>\n",
       "      <td>NaN</td>\n",
       "      <td>1.0</td>\n",
       "      <td>PH</td>\n",
       "      <td>Villa Urquiza</td>\n",
       "      <td>Ph en 2 plantas a refaccionar</td>\n",
       "    </tr>\n",
       "    <tr>\n",
       "      <th>78288</th>\n",
       "      <td>155000.0</td>\n",
       "      <td>2.0</td>\n",
       "      <td>1.0</td>\n",
       "      <td>1.0</td>\n",
       "      <td>NaN</td>\n",
       "      <td>1.0</td>\n",
       "      <td>Departamento</td>\n",
       "      <td>Villa Urquiza</td>\n",
       "      <td>2 AMBIENTES DE CATEGORIA A ESTRENAR</td>\n",
       "    </tr>\n",
       "    <tr>\n",
       "      <th>78289</th>\n",
       "      <td>295000.0</td>\n",
       "      <td>4.0</td>\n",
       "      <td>3.0</td>\n",
       "      <td>2.0</td>\n",
       "      <td>NaN</td>\n",
       "      <td>1.0</td>\n",
       "      <td>Departamento</td>\n",
       "      <td>Villa Urquiza</td>\n",
       "      <td>Departamento de 4 ambientes al frente con balc...</td>\n",
       "    </tr>\n",
       "    <tr>\n",
       "      <th>78290</th>\n",
       "      <td>129900.0</td>\n",
       "      <td>2.0</td>\n",
       "      <td>1.0</td>\n",
       "      <td>1.0</td>\n",
       "      <td>NaN</td>\n",
       "      <td>1.0</td>\n",
       "      <td>Departamento</td>\n",
       "      <td>Villa Urquiza</td>\n",
       "      <td>Departamento de 2 ambientes al frente con balcón</td>\n",
       "    </tr>\n",
       "    <tr>\n",
       "      <th>78293</th>\n",
       "      <td>575000.0</td>\n",
       "      <td>5.0</td>\n",
       "      <td>4.0</td>\n",
       "      <td>3.0</td>\n",
       "      <td>255.0</td>\n",
       "      <td>15.0</td>\n",
       "      <td>Departamento</td>\n",
       "      <td>Barrio Norte</td>\n",
       "      <td>Excelente duplex en Peña y Junin.</td>\n",
       "    </tr>\n",
       "  </tbody>\n",
       "</table>\n",
       "<p>101 rows × 9 columns</p>\n",
       "</div>"
      ],
      "text/plain": [
       "          price  rooms  bedrooms  bathrooms  surface_total  surface_covered  \\\n",
       "282     27000.0    1.0       1.0        NaN           14.0             14.0   \n",
       "813    115000.0    1.0       1.0        1.0           33.0              3.0   \n",
       "1578   236000.0    3.0       2.0        1.0            NaN              1.0   \n",
       "3291   210000.0    3.0       2.0        2.0           71.0              3.0   \n",
       "3720   380000.0    5.0       4.0        3.0            NaN              1.0   \n",
       "...         ...    ...       ...        ...            ...              ...   \n",
       "78287  259000.0    4.0       3.0        2.0            NaN              1.0   \n",
       "78288  155000.0    2.0       1.0        1.0            NaN              1.0   \n",
       "78289  295000.0    4.0       3.0        2.0            NaN              1.0   \n",
       "78290  129900.0    2.0       1.0        1.0            NaN              1.0   \n",
       "78293  575000.0    5.0       4.0        3.0          255.0             15.0   \n",
       "\n",
       "      property_type             l3  \\\n",
       "282    Departamento      Caballito   \n",
       "813    Departamento       Belgrano   \n",
       "1578   Departamento        Palermo   \n",
       "3291   Departamento       Barracas   \n",
       "3720             PH        Almagro   \n",
       "...             ...            ...   \n",
       "78287            PH  Villa Urquiza   \n",
       "78288  Departamento  Villa Urquiza   \n",
       "78289  Departamento  Villa Urquiza   \n",
       "78290  Departamento  Villa Urquiza   \n",
       "78293  Departamento   Barrio Norte   \n",
       "\n",
       "                                                   title  \n",
       "282             EXCELENTE COCHERA, EXCELENTE INVERSION !  \n",
       "813    Excelente monoambiente a estrenar al frente co...  \n",
       "1578   3 Ambientes a estrenar c/ cochera y parrilla e...  \n",
       "3291                               DEPARTAMENTO EN VENTA  \n",
       "3720          PH 5 Ambientes con Terraza propia y Patio!  \n",
       "...                                                  ...  \n",
       "78287                      Ph en 2 plantas a refaccionar  \n",
       "78288                2 AMBIENTES DE CATEGORIA A ESTRENAR  \n",
       "78289  Departamento de 4 ambientes al frente con balc...  \n",
       "78290   Departamento de 2 ambientes al frente con balcón  \n",
       "78293                  Excelente duplex en Peña y Junin.  \n",
       "\n",
       "[101 rows x 9 columns]"
      ]
     },
     "execution_count": 28,
     "metadata": {},
     "output_type": "execute_result"
    }
   ],
   "source": [
    "data_f[data_f.surface_covered<=15]"
   ]
  },
  {
   "cell_type": "markdown",
   "metadata": {
    "execution": {
     "iopub.execute_input": "2020-11-18T19:04:13.197375Z",
     "iopub.status.busy": "2020-11-18T19:04:13.197222Z",
     "iopub.status.idle": "2020-11-18T19:04:13.201718Z",
     "shell.execute_reply": "2020-11-18T19:04:13.201008Z",
     "shell.execute_reply.started": "2020-11-18T19:04:13.197359Z"
    }
   },
   "source": [
    "* Son pocos estos inmuebles que muy posiblemente tengan un error de digitación en la superficie cubierta por lo que borraremos estos valores y luego los imputaremos"
   ]
  },
  {
   "cell_type": "code",
   "execution_count": 29,
   "metadata": {
    "execution": {
     "iopub.execute_input": "2021-02-23T07:14:22.598625Z",
     "iopub.status.busy": "2021-02-23T07:14:22.597625Z",
     "iopub.status.idle": "2021-02-23T07:14:22.612628Z",
     "shell.execute_reply": "2021-02-23T07:14:22.612628Z",
     "shell.execute_reply.started": "2021-02-23T07:14:22.598625Z"
    }
   },
   "outputs": [],
   "source": [
    "data_f.loc[data_f['surface_covered'] <=15, 'surface_covered'] = np.nan"
   ]
  },
  {
   "cell_type": "code",
   "execution_count": 30,
   "metadata": {
    "execution": {
     "iopub.execute_input": "2021-02-23T07:14:22.617629Z",
     "iopub.status.busy": "2021-02-23T07:14:22.616629Z",
     "iopub.status.idle": "2021-02-23T07:14:22.660639Z",
     "shell.execute_reply": "2021-02-23T07:14:22.660639Z",
     "shell.execute_reply.started": "2021-02-23T07:14:22.617629Z"
    }
   },
   "outputs": [
    {
     "data": {
      "text/html": [
       "<div>\n",
       "<style scoped>\n",
       "    .dataframe tbody tr th:only-of-type {\n",
       "        vertical-align: middle;\n",
       "    }\n",
       "\n",
       "    .dataframe tbody tr th {\n",
       "        vertical-align: top;\n",
       "    }\n",
       "\n",
       "    .dataframe thead th {\n",
       "        text-align: right;\n",
       "    }\n",
       "</style>\n",
       "<table border=\"1\" class=\"dataframe\">\n",
       "  <thead>\n",
       "    <tr style=\"text-align: right;\">\n",
       "      <th></th>\n",
       "      <th>price</th>\n",
       "      <th>rooms</th>\n",
       "      <th>bedrooms</th>\n",
       "      <th>bathrooms</th>\n",
       "      <th>surface_total</th>\n",
       "      <th>surface_covered</th>\n",
       "    </tr>\n",
       "  </thead>\n",
       "  <tbody>\n",
       "    <tr>\n",
       "      <th>count</th>\n",
       "      <td>84775.000000</td>\n",
       "      <td>84775.000000</td>\n",
       "      <td>84775.000000</td>\n",
       "      <td>82658.000000</td>\n",
       "      <td>76346.000000</td>\n",
       "      <td>75939.000000</td>\n",
       "    </tr>\n",
       "    <tr>\n",
       "      <th>mean</th>\n",
       "      <td>206762.103592</td>\n",
       "      <td>2.802784</td>\n",
       "      <td>1.839457</td>\n",
       "      <td>1.419923</td>\n",
       "      <td>83.799583</td>\n",
       "      <td>71.934131</td>\n",
       "    </tr>\n",
       "    <tr>\n",
       "      <th>std</th>\n",
       "      <td>129378.545770</td>\n",
       "      <td>1.090410</td>\n",
       "      <td>0.928883</td>\n",
       "      <td>0.625567</td>\n",
       "      <td>57.385870</td>\n",
       "      <td>42.591398</td>\n",
       "    </tr>\n",
       "    <tr>\n",
       "      <th>min</th>\n",
       "      <td>6000.000000</td>\n",
       "      <td>1.000000</td>\n",
       "      <td>0.000000</td>\n",
       "      <td>1.000000</td>\n",
       "      <td>12.000000</td>\n",
       "      <td>16.000000</td>\n",
       "    </tr>\n",
       "    <tr>\n",
       "      <th>25%</th>\n",
       "      <td>119500.000000</td>\n",
       "      <td>2.000000</td>\n",
       "      <td>1.000000</td>\n",
       "      <td>1.000000</td>\n",
       "      <td>48.000000</td>\n",
       "      <td>44.000000</td>\n",
       "    </tr>\n",
       "    <tr>\n",
       "      <th>50%</th>\n",
       "      <td>169000.000000</td>\n",
       "      <td>3.000000</td>\n",
       "      <td>2.000000</td>\n",
       "      <td>1.000000</td>\n",
       "      <td>68.000000</td>\n",
       "      <td>60.000000</td>\n",
       "    </tr>\n",
       "    <tr>\n",
       "      <th>75%</th>\n",
       "      <td>250000.000000</td>\n",
       "      <td>4.000000</td>\n",
       "      <td>2.000000</td>\n",
       "      <td>2.000000</td>\n",
       "      <td>100.000000</td>\n",
       "      <td>86.000000</td>\n",
       "    </tr>\n",
       "    <tr>\n",
       "      <th>max</th>\n",
       "      <td>820000.000000</td>\n",
       "      <td>6.000000</td>\n",
       "      <td>5.000000</td>\n",
       "      <td>3.000000</td>\n",
       "      <td>1054.000000</td>\n",
       "      <td>798.000000</td>\n",
       "    </tr>\n",
       "  </tbody>\n",
       "</table>\n",
       "</div>"
      ],
      "text/plain": [
       "               price         rooms      bedrooms     bathrooms  surface_total  \\\n",
       "count   84775.000000  84775.000000  84775.000000  82658.000000   76346.000000   \n",
       "mean   206762.103592      2.802784      1.839457      1.419923      83.799583   \n",
       "std    129378.545770      1.090410      0.928883      0.625567      57.385870   \n",
       "min      6000.000000      1.000000      0.000000      1.000000      12.000000   \n",
       "25%    119500.000000      2.000000      1.000000      1.000000      48.000000   \n",
       "50%    169000.000000      3.000000      2.000000      1.000000      68.000000   \n",
       "75%    250000.000000      4.000000      2.000000      2.000000     100.000000   \n",
       "max    820000.000000      6.000000      5.000000      3.000000    1054.000000   \n",
       "\n",
       "       surface_covered  \n",
       "count     75939.000000  \n",
       "mean         71.934131  \n",
       "std          42.591398  \n",
       "min          16.000000  \n",
       "25%          44.000000  \n",
       "50%          60.000000  \n",
       "75%          86.000000  \n",
       "max         798.000000  "
      ]
     },
     "execution_count": 30,
     "metadata": {},
     "output_type": "execute_result"
    }
   ],
   "source": [
    "data_f.describe()"
   ]
  },
  {
   "cell_type": "code",
   "execution_count": 31,
   "metadata": {
    "execution": {
     "iopub.execute_input": "2021-02-23T07:14:22.663639Z",
     "iopub.status.busy": "2021-02-23T07:14:22.663639Z",
     "iopub.status.idle": "2021-02-23T07:14:22.691646Z",
     "shell.execute_reply": "2021-02-23T07:14:22.691646Z",
     "shell.execute_reply.started": "2021-02-23T07:14:22.663639Z"
    }
   },
   "outputs": [
    {
     "data": {
      "text/plain": [
       "price                 0\n",
       "rooms                 0\n",
       "bedrooms              0\n",
       "bathrooms          2117\n",
       "surface_total      8429\n",
       "surface_covered    8836\n",
       "property_type         0\n",
       "l3                    0\n",
       "title                 0\n",
       "dtype: int64"
      ]
     },
     "execution_count": 31,
     "metadata": {},
     "output_type": "execute_result"
    }
   ],
   "source": [
    "data_f.isna().sum()"
   ]
  },
  {
   "cell_type": "markdown",
   "metadata": {
    "execution": {
     "iopub.execute_input": "2020-11-17T18:45:25.917421Z",
     "iopub.status.busy": "2020-11-17T18:45:25.917263Z",
     "iopub.status.idle": "2020-11-17T18:45:25.921134Z",
     "shell.execute_reply": "2020-11-17T18:45:25.920386Z",
     "shell.execute_reply.started": "2020-11-17T18:45:25.917406Z"
    }
   },
   "source": [
    "* Con esta eliminacion de valores atipicos se espera que mejoren los modelos predictivos"
   ]
  },
  {
   "cell_type": "markdown",
   "metadata": {},
   "source": [
    "### 5.2. Realizamos un Train/Test split de los datos."
   ]
  },
  {
   "cell_type": "code",
   "execution_count": 32,
   "metadata": {
    "execution": {
     "iopub.execute_input": "2021-02-23T07:14:22.692648Z",
     "iopub.status.busy": "2021-02-23T07:14:22.692648Z",
     "iopub.status.idle": "2021-02-23T07:14:22.723653Z",
     "shell.execute_reply": "2021-02-23T07:14:22.723653Z",
     "shell.execute_reply.started": "2021-02-23T07:14:22.692648Z"
    }
   },
   "outputs": [],
   "source": [
    "X=data_f.drop(columns=['price', 'title'])\n",
    "y=data_f['price']\n",
    "from sklearn.model_selection import train_test_split\n",
    "X_train, X_test, y_train, y_test = train_test_split(\n",
    "    X, y, test_size=0.30, random_state=42)"
   ]
  },
  {
   "cell_type": "code",
   "execution_count": 33,
   "metadata": {
    "execution": {
     "iopub.execute_input": "2021-02-23T07:14:22.724653Z",
     "iopub.status.busy": "2021-02-23T07:14:22.724653Z",
     "iopub.status.idle": "2021-02-23T07:14:22.739657Z",
     "shell.execute_reply": "2021-02-23T07:14:22.739657Z",
     "shell.execute_reply.started": "2021-02-23T07:14:22.724653Z"
    }
   },
   "outputs": [
    {
     "data": {
      "text/html": [
       "<div>\n",
       "<style scoped>\n",
       "    .dataframe tbody tr th:only-of-type {\n",
       "        vertical-align: middle;\n",
       "    }\n",
       "\n",
       "    .dataframe tbody tr th {\n",
       "        vertical-align: top;\n",
       "    }\n",
       "\n",
       "    .dataframe thead th {\n",
       "        text-align: right;\n",
       "    }\n",
       "</style>\n",
       "<table border=\"1\" class=\"dataframe\">\n",
       "  <thead>\n",
       "    <tr style=\"text-align: right;\">\n",
       "      <th></th>\n",
       "      <th>rooms</th>\n",
       "      <th>bedrooms</th>\n",
       "      <th>bathrooms</th>\n",
       "      <th>surface_total</th>\n",
       "      <th>surface_covered</th>\n",
       "      <th>property_type</th>\n",
       "      <th>l3</th>\n",
       "    </tr>\n",
       "  </thead>\n",
       "  <tbody>\n",
       "    <tr>\n",
       "      <th>12004</th>\n",
       "      <td>2.0</td>\n",
       "      <td>1.0</td>\n",
       "      <td>1.0</td>\n",
       "      <td>44.0</td>\n",
       "      <td>44.0</td>\n",
       "      <td>Departamento</td>\n",
       "      <td>Once</td>\n",
       "    </tr>\n",
       "    <tr>\n",
       "      <th>52994</th>\n",
       "      <td>3.0</td>\n",
       "      <td>2.0</td>\n",
       "      <td>2.0</td>\n",
       "      <td>76.0</td>\n",
       "      <td>76.0</td>\n",
       "      <td>Departamento</td>\n",
       "      <td>Once</td>\n",
       "    </tr>\n",
       "    <tr>\n",
       "      <th>75241</th>\n",
       "      <td>2.0</td>\n",
       "      <td>1.0</td>\n",
       "      <td>1.0</td>\n",
       "      <td>50.0</td>\n",
       "      <td>50.0</td>\n",
       "      <td>Departamento</td>\n",
       "      <td>Once</td>\n",
       "    </tr>\n",
       "    <tr>\n",
       "      <th>76347</th>\n",
       "      <td>5.0</td>\n",
       "      <td>3.0</td>\n",
       "      <td>2.0</td>\n",
       "      <td>280.0</td>\n",
       "      <td>180.0</td>\n",
       "      <td>Casa</td>\n",
       "      <td>Villa Devoto</td>\n",
       "    </tr>\n",
       "    <tr>\n",
       "      <th>71512</th>\n",
       "      <td>5.0</td>\n",
       "      <td>4.0</td>\n",
       "      <td>3.0</td>\n",
       "      <td>120.0</td>\n",
       "      <td>120.0</td>\n",
       "      <td>Departamento</td>\n",
       "      <td>Palermo</td>\n",
       "    </tr>\n",
       "    <tr>\n",
       "      <th>...</th>\n",
       "      <td>...</td>\n",
       "      <td>...</td>\n",
       "      <td>...</td>\n",
       "      <td>...</td>\n",
       "      <td>...</td>\n",
       "      <td>...</td>\n",
       "      <td>...</td>\n",
       "    </tr>\n",
       "    <tr>\n",
       "      <th>6265</th>\n",
       "      <td>3.0</td>\n",
       "      <td>2.0</td>\n",
       "      <td>2.0</td>\n",
       "      <td>115.0</td>\n",
       "      <td>109.0</td>\n",
       "      <td>Departamento</td>\n",
       "      <td>Recoleta</td>\n",
       "    </tr>\n",
       "    <tr>\n",
       "      <th>54886</th>\n",
       "      <td>3.0</td>\n",
       "      <td>2.0</td>\n",
       "      <td>1.0</td>\n",
       "      <td>70.0</td>\n",
       "      <td>50.0</td>\n",
       "      <td>PH</td>\n",
       "      <td>Palermo</td>\n",
       "    </tr>\n",
       "    <tr>\n",
       "      <th>76820</th>\n",
       "      <td>2.0</td>\n",
       "      <td>1.0</td>\n",
       "      <td>1.0</td>\n",
       "      <td>32.0</td>\n",
       "      <td>32.0</td>\n",
       "      <td>Departamento</td>\n",
       "      <td>Almagro</td>\n",
       "    </tr>\n",
       "    <tr>\n",
       "      <th>860</th>\n",
       "      <td>3.0</td>\n",
       "      <td>2.0</td>\n",
       "      <td>1.0</td>\n",
       "      <td>90.0</td>\n",
       "      <td>70.0</td>\n",
       "      <td>PH</td>\n",
       "      <td>Caballito</td>\n",
       "    </tr>\n",
       "    <tr>\n",
       "      <th>15795</th>\n",
       "      <td>3.0</td>\n",
       "      <td>2.0</td>\n",
       "      <td>2.0</td>\n",
       "      <td>104.0</td>\n",
       "      <td>79.0</td>\n",
       "      <td>Departamento</td>\n",
       "      <td>Villa Crespo</td>\n",
       "    </tr>\n",
       "  </tbody>\n",
       "</table>\n",
       "<p>59342 rows × 7 columns</p>\n",
       "</div>"
      ],
      "text/plain": [
       "       rooms  bedrooms  bathrooms  surface_total  surface_covered  \\\n",
       "12004    2.0       1.0        1.0           44.0             44.0   \n",
       "52994    3.0       2.0        2.0           76.0             76.0   \n",
       "75241    2.0       1.0        1.0           50.0             50.0   \n",
       "76347    5.0       3.0        2.0          280.0            180.0   \n",
       "71512    5.0       4.0        3.0          120.0            120.0   \n",
       "...      ...       ...        ...            ...              ...   \n",
       "6265     3.0       2.0        2.0          115.0            109.0   \n",
       "54886    3.0       2.0        1.0           70.0             50.0   \n",
       "76820    2.0       1.0        1.0           32.0             32.0   \n",
       "860      3.0       2.0        1.0           90.0             70.0   \n",
       "15795    3.0       2.0        2.0          104.0             79.0   \n",
       "\n",
       "      property_type            l3  \n",
       "12004  Departamento          Once  \n",
       "52994  Departamento          Once  \n",
       "75241  Departamento          Once  \n",
       "76347          Casa  Villa Devoto  \n",
       "71512  Departamento       Palermo  \n",
       "...             ...           ...  \n",
       "6265   Departamento      Recoleta  \n",
       "54886            PH       Palermo  \n",
       "76820  Departamento       Almagro  \n",
       "860              PH     Caballito  \n",
       "15795  Departamento  Villa Crespo  \n",
       "\n",
       "[59342 rows x 7 columns]"
      ]
     },
     "execution_count": 33,
     "metadata": {},
     "output_type": "execute_result"
    }
   ],
   "source": [
    "X_train"
   ]
  },
  {
   "cell_type": "code",
   "execution_count": 34,
   "metadata": {
    "execution": {
     "iopub.execute_input": "2021-02-23T07:14:22.740657Z",
     "iopub.status.busy": "2021-02-23T07:14:22.740657Z",
     "iopub.status.idle": "2021-02-23T07:14:22.771664Z",
     "shell.execute_reply": "2021-02-23T07:14:22.771664Z",
     "shell.execute_reply.started": "2021-02-23T07:14:22.740657Z"
    }
   },
   "outputs": [
    {
     "data": {
      "text/html": [
       "<div>\n",
       "<style scoped>\n",
       "    .dataframe tbody tr th:only-of-type {\n",
       "        vertical-align: middle;\n",
       "    }\n",
       "\n",
       "    .dataframe tbody tr th {\n",
       "        vertical-align: top;\n",
       "    }\n",
       "\n",
       "    .dataframe thead th {\n",
       "        text-align: right;\n",
       "    }\n",
       "</style>\n",
       "<table border=\"1\" class=\"dataframe\">\n",
       "  <thead>\n",
       "    <tr style=\"text-align: right;\">\n",
       "      <th></th>\n",
       "      <th>rooms</th>\n",
       "      <th>bedrooms</th>\n",
       "      <th>bathrooms</th>\n",
       "      <th>surface_total</th>\n",
       "      <th>surface_covered</th>\n",
       "      <th>property_type</th>\n",
       "      <th>l3</th>\n",
       "    </tr>\n",
       "  </thead>\n",
       "  <tbody>\n",
       "    <tr>\n",
       "      <th>75816</th>\n",
       "      <td>3.0</td>\n",
       "      <td>2.0</td>\n",
       "      <td>1.0</td>\n",
       "      <td>57.0</td>\n",
       "      <td>50.0</td>\n",
       "      <td>Departamento</td>\n",
       "      <td>Villa Lugano</td>\n",
       "    </tr>\n",
       "    <tr>\n",
       "      <th>10592</th>\n",
       "      <td>3.0</td>\n",
       "      <td>2.0</td>\n",
       "      <td>1.0</td>\n",
       "      <td>45.0</td>\n",
       "      <td>35.0</td>\n",
       "      <td>Departamento</td>\n",
       "      <td>Almagro</td>\n",
       "    </tr>\n",
       "    <tr>\n",
       "      <th>71317</th>\n",
       "      <td>3.0</td>\n",
       "      <td>2.0</td>\n",
       "      <td>1.0</td>\n",
       "      <td>72.0</td>\n",
       "      <td>55.0</td>\n",
       "      <td>Departamento</td>\n",
       "      <td>Villa Crespo</td>\n",
       "    </tr>\n",
       "    <tr>\n",
       "      <th>4088</th>\n",
       "      <td>2.0</td>\n",
       "      <td>1.0</td>\n",
       "      <td>1.0</td>\n",
       "      <td>48.0</td>\n",
       "      <td>45.0</td>\n",
       "      <td>Departamento</td>\n",
       "      <td>Villa Crespo</td>\n",
       "    </tr>\n",
       "    <tr>\n",
       "      <th>42263</th>\n",
       "      <td>3.0</td>\n",
       "      <td>2.0</td>\n",
       "      <td>2.0</td>\n",
       "      <td>124.0</td>\n",
       "      <td>124.0</td>\n",
       "      <td>PH</td>\n",
       "      <td>Balvanera</td>\n",
       "    </tr>\n",
       "    <tr>\n",
       "      <th>...</th>\n",
       "      <td>...</td>\n",
       "      <td>...</td>\n",
       "      <td>...</td>\n",
       "      <td>...</td>\n",
       "      <td>...</td>\n",
       "      <td>...</td>\n",
       "      <td>...</td>\n",
       "    </tr>\n",
       "    <tr>\n",
       "      <th>45087</th>\n",
       "      <td>2.0</td>\n",
       "      <td>1.0</td>\n",
       "      <td>1.0</td>\n",
       "      <td>40.0</td>\n",
       "      <td>40.0</td>\n",
       "      <td>Departamento</td>\n",
       "      <td>San Nicolás</td>\n",
       "    </tr>\n",
       "    <tr>\n",
       "      <th>33829</th>\n",
       "      <td>3.0</td>\n",
       "      <td>2.0</td>\n",
       "      <td>2.0</td>\n",
       "      <td>82.0</td>\n",
       "      <td>82.0</td>\n",
       "      <td>Departamento</td>\n",
       "      <td>Recoleta</td>\n",
       "    </tr>\n",
       "    <tr>\n",
       "      <th>48307</th>\n",
       "      <td>2.0</td>\n",
       "      <td>1.0</td>\n",
       "      <td>1.0</td>\n",
       "      <td>44.0</td>\n",
       "      <td>44.0</td>\n",
       "      <td>PH</td>\n",
       "      <td>Palermo</td>\n",
       "    </tr>\n",
       "    <tr>\n",
       "      <th>66782</th>\n",
       "      <td>2.0</td>\n",
       "      <td>1.0</td>\n",
       "      <td>1.0</td>\n",
       "      <td>46.0</td>\n",
       "      <td>40.0</td>\n",
       "      <td>Departamento</td>\n",
       "      <td>Palermo</td>\n",
       "    </tr>\n",
       "    <tr>\n",
       "      <th>10531</th>\n",
       "      <td>2.0</td>\n",
       "      <td>1.0</td>\n",
       "      <td>1.0</td>\n",
       "      <td>52.0</td>\n",
       "      <td>44.0</td>\n",
       "      <td>Departamento</td>\n",
       "      <td>Almagro</td>\n",
       "    </tr>\n",
       "  </tbody>\n",
       "</table>\n",
       "<p>25433 rows × 7 columns</p>\n",
       "</div>"
      ],
      "text/plain": [
       "       rooms  bedrooms  bathrooms  surface_total  surface_covered  \\\n",
       "75816    3.0       2.0        1.0           57.0             50.0   \n",
       "10592    3.0       2.0        1.0           45.0             35.0   \n",
       "71317    3.0       2.0        1.0           72.0             55.0   \n",
       "4088     2.0       1.0        1.0           48.0             45.0   \n",
       "42263    3.0       2.0        2.0          124.0            124.0   \n",
       "...      ...       ...        ...            ...              ...   \n",
       "45087    2.0       1.0        1.0           40.0             40.0   \n",
       "33829    3.0       2.0        2.0           82.0             82.0   \n",
       "48307    2.0       1.0        1.0           44.0             44.0   \n",
       "66782    2.0       1.0        1.0           46.0             40.0   \n",
       "10531    2.0       1.0        1.0           52.0             44.0   \n",
       "\n",
       "      property_type            l3  \n",
       "75816  Departamento  Villa Lugano  \n",
       "10592  Departamento       Almagro  \n",
       "71317  Departamento  Villa Crespo  \n",
       "4088   Departamento  Villa Crespo  \n",
       "42263            PH     Balvanera  \n",
       "...             ...           ...  \n",
       "45087  Departamento   San Nicolás  \n",
       "33829  Departamento      Recoleta  \n",
       "48307            PH       Palermo  \n",
       "66782  Departamento       Palermo  \n",
       "10531  Departamento       Almagro  \n",
       "\n",
       "[25433 rows x 7 columns]"
      ]
     },
     "execution_count": 34,
     "metadata": {},
     "output_type": "execute_result"
    }
   ],
   "source": [
    "X_test"
   ]
  },
  {
   "cell_type": "markdown",
   "metadata": {
    "execution": {
     "iopub.execute_input": "2020-11-17T18:52:15.289193Z",
     "iopub.status.busy": "2020-11-17T18:52:15.289025Z",
     "iopub.status.idle": "2020-11-17T18:52:15.291918Z",
     "shell.execute_reply": "2020-11-17T18:52:15.291339Z",
     "shell.execute_reply.started": "2020-11-17T18:52:15.289178Z"
    }
   },
   "source": [
    "### 5.3. Encoding variables"
   ]
  },
  {
   "cell_type": "markdown",
   "metadata": {
    "execution": {
     "iopub.execute_input": "2020-11-17T22:20:38.368210Z",
     "iopub.status.busy": "2020-11-17T22:20:38.368001Z",
     "iopub.status.idle": "2020-11-17T22:20:38.372624Z",
     "shell.execute_reply": "2020-11-17T22:20:38.371734Z",
     "shell.execute_reply.started": "2020-11-17T22:20:38.368194Z"
    }
   },
   "source": [
    "Tenemos dos variables categoricas `property_type` y `l3`"
   ]
  },
  {
   "cell_type": "code",
   "execution_count": 35,
   "metadata": {
    "execution": {
     "iopub.execute_input": "2021-02-23T07:14:22.772664Z",
     "iopub.status.busy": "2021-02-23T07:14:22.772664Z",
     "iopub.status.idle": "2021-02-23T07:14:22.787668Z",
     "shell.execute_reply": "2021-02-23T07:14:22.787668Z",
     "shell.execute_reply.started": "2021-02-23T07:14:22.772664Z"
    }
   },
   "outputs": [
    {
     "name": "stdout",
     "output_type": "stream",
     "text": [
      "valores únicos property_type: 3\n",
      "valores únicos l3:  57\n"
     ]
    }
   ],
   "source": [
    "print('valores únicos property_type:',X_train.property_type.unique().size)\n",
    "print('valores únicos l3: ',X_train.l3.unique().size)"
   ]
  },
  {
   "cell_type": "markdown",
   "metadata": {},
   "source": [
    "* Para la variable `property_type` se tienen `3` posibles valores por lo que el modelo adecuado es `OneHotEncoder`\n",
    "* Para la variable `l3` se tienen `57` posibles valores por lo que OneHotEncoder crearía muchas nuevas dimensiones en el dataset y tendría un mayor costo computacional procesarlo, por lo tanto seria recomendable utilizar un `LabelEncoder` que no genera dimensiones adicionales. No obstante se cuenta con la capacidad de procesamiento necesaria para utilizar `OneHotEncoder`  y se elige este para evitar que el modelo entienda los números como un tipo de orden como sucede en el `LabelEncoder`"
   ]
  },
  {
   "cell_type": "markdown",
   "metadata": {},
   "source": [
    "* Se realizara el encoding de las variables `property_type` y `l3` mediante OneHotEncoder"
   ]
  },
  {
   "cell_type": "code",
   "execution_count": 36,
   "metadata": {
    "execution": {
     "iopub.execute_input": "2021-02-23T07:14:22.789668Z",
     "iopub.status.busy": "2021-02-23T07:14:22.789668Z",
     "iopub.status.idle": "2021-02-23T07:14:22.803671Z",
     "shell.execute_reply": "2021-02-23T07:14:22.803671Z",
     "shell.execute_reply.started": "2021-02-23T07:14:22.789668Z"
    }
   },
   "outputs": [],
   "source": [
    "from sklearn.preprocessing import OneHotEncoder\n",
    "X_train_encode= X_train[['property_type','l3']]"
   ]
  },
  {
   "cell_type": "code",
   "execution_count": 37,
   "metadata": {
    "execution": {
     "iopub.execute_input": "2021-02-23T07:14:22.804671Z",
     "iopub.status.busy": "2021-02-23T07:14:22.804671Z",
     "iopub.status.idle": "2021-02-23T07:14:22.819675Z",
     "shell.execute_reply": "2021-02-23T07:14:22.819675Z",
     "shell.execute_reply.started": "2021-02-23T07:14:22.804671Z"
    }
   },
   "outputs": [
    {
     "data": {
      "text/html": [
       "<div>\n",
       "<style scoped>\n",
       "    .dataframe tbody tr th:only-of-type {\n",
       "        vertical-align: middle;\n",
       "    }\n",
       "\n",
       "    .dataframe tbody tr th {\n",
       "        vertical-align: top;\n",
       "    }\n",
       "\n",
       "    .dataframe thead th {\n",
       "        text-align: right;\n",
       "    }\n",
       "</style>\n",
       "<table border=\"1\" class=\"dataframe\">\n",
       "  <thead>\n",
       "    <tr style=\"text-align: right;\">\n",
       "      <th></th>\n",
       "      <th>property_type</th>\n",
       "      <th>l3</th>\n",
       "    </tr>\n",
       "  </thead>\n",
       "  <tbody>\n",
       "    <tr>\n",
       "      <th>12004</th>\n",
       "      <td>Departamento</td>\n",
       "      <td>Once</td>\n",
       "    </tr>\n",
       "    <tr>\n",
       "      <th>52994</th>\n",
       "      <td>Departamento</td>\n",
       "      <td>Once</td>\n",
       "    </tr>\n",
       "    <tr>\n",
       "      <th>75241</th>\n",
       "      <td>Departamento</td>\n",
       "      <td>Once</td>\n",
       "    </tr>\n",
       "    <tr>\n",
       "      <th>76347</th>\n",
       "      <td>Casa</td>\n",
       "      <td>Villa Devoto</td>\n",
       "    </tr>\n",
       "    <tr>\n",
       "      <th>71512</th>\n",
       "      <td>Departamento</td>\n",
       "      <td>Palermo</td>\n",
       "    </tr>\n",
       "    <tr>\n",
       "      <th>...</th>\n",
       "      <td>...</td>\n",
       "      <td>...</td>\n",
       "    </tr>\n",
       "    <tr>\n",
       "      <th>6265</th>\n",
       "      <td>Departamento</td>\n",
       "      <td>Recoleta</td>\n",
       "    </tr>\n",
       "    <tr>\n",
       "      <th>54886</th>\n",
       "      <td>PH</td>\n",
       "      <td>Palermo</td>\n",
       "    </tr>\n",
       "    <tr>\n",
       "      <th>76820</th>\n",
       "      <td>Departamento</td>\n",
       "      <td>Almagro</td>\n",
       "    </tr>\n",
       "    <tr>\n",
       "      <th>860</th>\n",
       "      <td>PH</td>\n",
       "      <td>Caballito</td>\n",
       "    </tr>\n",
       "    <tr>\n",
       "      <th>15795</th>\n",
       "      <td>Departamento</td>\n",
       "      <td>Villa Crespo</td>\n",
       "    </tr>\n",
       "  </tbody>\n",
       "</table>\n",
       "<p>59342 rows × 2 columns</p>\n",
       "</div>"
      ],
      "text/plain": [
       "      property_type            l3\n",
       "12004  Departamento          Once\n",
       "52994  Departamento          Once\n",
       "75241  Departamento          Once\n",
       "76347          Casa  Villa Devoto\n",
       "71512  Departamento       Palermo\n",
       "...             ...           ...\n",
       "6265   Departamento      Recoleta\n",
       "54886            PH       Palermo\n",
       "76820  Departamento       Almagro\n",
       "860              PH     Caballito\n",
       "15795  Departamento  Villa Crespo\n",
       "\n",
       "[59342 rows x 2 columns]"
      ]
     },
     "execution_count": 37,
     "metadata": {},
     "output_type": "execute_result"
    }
   ],
   "source": [
    "X_train_encode"
   ]
  },
  {
   "cell_type": "code",
   "execution_count": 38,
   "metadata": {
    "execution": {
     "iopub.execute_input": "2021-02-23T07:14:22.820674Z",
     "iopub.status.busy": "2021-02-23T07:14:22.820674Z",
     "iopub.status.idle": "2021-02-23T07:14:22.867686Z",
     "shell.execute_reply": "2021-02-23T07:14:22.867686Z",
     "shell.execute_reply.started": "2021-02-23T07:14:22.820674Z"
    }
   },
   "outputs": [],
   "source": [
    "one=OneHotEncoder(handle_unknown='ignore')\n",
    "X_train_encode=pd.DataFrame(one.fit_transform(X_train_encode).toarray())"
   ]
  },
  {
   "cell_type": "code",
   "execution_count": 39,
   "metadata": {
    "execution": {
     "iopub.execute_input": "2021-02-23T07:14:22.868686Z",
     "iopub.status.busy": "2021-02-23T07:14:22.868686Z",
     "iopub.status.idle": "2021-02-23T07:14:22.883689Z",
     "shell.execute_reply": "2021-02-23T07:14:22.883689Z",
     "shell.execute_reply.started": "2021-02-23T07:14:22.868686Z"
    }
   },
   "outputs": [],
   "source": [
    "##Guardamos las categorias en una lista\n",
    "cat_names=list(one.categories_[0])\n",
    "cat_names.extend(list(one.categories_[1]))"
   ]
  },
  {
   "cell_type": "code",
   "execution_count": 40,
   "metadata": {
    "execution": {
     "iopub.execute_input": "2021-02-23T07:14:22.884689Z",
     "iopub.status.busy": "2021-02-23T07:14:22.884689Z",
     "iopub.status.idle": "2021-02-23T07:14:22.931700Z",
     "shell.execute_reply": "2021-02-23T07:14:22.931700Z",
     "shell.execute_reply.started": "2021-02-23T07:14:22.884689Z"
    }
   },
   "outputs": [
    {
     "data": {
      "text/html": [
       "<div>\n",
       "<style scoped>\n",
       "    .dataframe tbody tr th:only-of-type {\n",
       "        vertical-align: middle;\n",
       "    }\n",
       "\n",
       "    .dataframe tbody tr th {\n",
       "        vertical-align: top;\n",
       "    }\n",
       "\n",
       "    .dataframe thead th {\n",
       "        text-align: right;\n",
       "    }\n",
       "</style>\n",
       "<table border=\"1\" class=\"dataframe\">\n",
       "  <thead>\n",
       "    <tr style=\"text-align: right;\">\n",
       "      <th></th>\n",
       "      <th>Casa</th>\n",
       "      <th>Departamento</th>\n",
       "      <th>PH</th>\n",
       "      <th>Abasto</th>\n",
       "      <th>Agronomía</th>\n",
       "      <th>Almagro</th>\n",
       "      <th>Balvanera</th>\n",
       "      <th>Barracas</th>\n",
       "      <th>Barrio Norte</th>\n",
       "      <th>Belgrano</th>\n",
       "      <th>...</th>\n",
       "      <th>Villa Lugano</th>\n",
       "      <th>Villa Luro</th>\n",
       "      <th>Villa Ortuzar</th>\n",
       "      <th>Villa Pueyrredón</th>\n",
       "      <th>Villa Real</th>\n",
       "      <th>Villa Riachuelo</th>\n",
       "      <th>Villa Santa Rita</th>\n",
       "      <th>Villa Soldati</th>\n",
       "      <th>Villa Urquiza</th>\n",
       "      <th>Villa del Parque</th>\n",
       "    </tr>\n",
       "  </thead>\n",
       "  <tbody>\n",
       "    <tr>\n",
       "      <th>0</th>\n",
       "      <td>0.0</td>\n",
       "      <td>1.0</td>\n",
       "      <td>0.0</td>\n",
       "      <td>0.0</td>\n",
       "      <td>0.0</td>\n",
       "      <td>0.0</td>\n",
       "      <td>0.0</td>\n",
       "      <td>0.0</td>\n",
       "      <td>0.0</td>\n",
       "      <td>0.0</td>\n",
       "      <td>...</td>\n",
       "      <td>0.0</td>\n",
       "      <td>0.0</td>\n",
       "      <td>0.0</td>\n",
       "      <td>0.0</td>\n",
       "      <td>0.0</td>\n",
       "      <td>0.0</td>\n",
       "      <td>0.0</td>\n",
       "      <td>0.0</td>\n",
       "      <td>0.0</td>\n",
       "      <td>0.0</td>\n",
       "    </tr>\n",
       "    <tr>\n",
       "      <th>1</th>\n",
       "      <td>0.0</td>\n",
       "      <td>1.0</td>\n",
       "      <td>0.0</td>\n",
       "      <td>0.0</td>\n",
       "      <td>0.0</td>\n",
       "      <td>0.0</td>\n",
       "      <td>0.0</td>\n",
       "      <td>0.0</td>\n",
       "      <td>0.0</td>\n",
       "      <td>0.0</td>\n",
       "      <td>...</td>\n",
       "      <td>0.0</td>\n",
       "      <td>0.0</td>\n",
       "      <td>0.0</td>\n",
       "      <td>0.0</td>\n",
       "      <td>0.0</td>\n",
       "      <td>0.0</td>\n",
       "      <td>0.0</td>\n",
       "      <td>0.0</td>\n",
       "      <td>0.0</td>\n",
       "      <td>0.0</td>\n",
       "    </tr>\n",
       "    <tr>\n",
       "      <th>2</th>\n",
       "      <td>0.0</td>\n",
       "      <td>1.0</td>\n",
       "      <td>0.0</td>\n",
       "      <td>0.0</td>\n",
       "      <td>0.0</td>\n",
       "      <td>0.0</td>\n",
       "      <td>0.0</td>\n",
       "      <td>0.0</td>\n",
       "      <td>0.0</td>\n",
       "      <td>0.0</td>\n",
       "      <td>...</td>\n",
       "      <td>0.0</td>\n",
       "      <td>0.0</td>\n",
       "      <td>0.0</td>\n",
       "      <td>0.0</td>\n",
       "      <td>0.0</td>\n",
       "      <td>0.0</td>\n",
       "      <td>0.0</td>\n",
       "      <td>0.0</td>\n",
       "      <td>0.0</td>\n",
       "      <td>0.0</td>\n",
       "    </tr>\n",
       "    <tr>\n",
       "      <th>3</th>\n",
       "      <td>1.0</td>\n",
       "      <td>0.0</td>\n",
       "      <td>0.0</td>\n",
       "      <td>0.0</td>\n",
       "      <td>0.0</td>\n",
       "      <td>0.0</td>\n",
       "      <td>0.0</td>\n",
       "      <td>0.0</td>\n",
       "      <td>0.0</td>\n",
       "      <td>0.0</td>\n",
       "      <td>...</td>\n",
       "      <td>0.0</td>\n",
       "      <td>0.0</td>\n",
       "      <td>0.0</td>\n",
       "      <td>0.0</td>\n",
       "      <td>0.0</td>\n",
       "      <td>0.0</td>\n",
       "      <td>0.0</td>\n",
       "      <td>0.0</td>\n",
       "      <td>0.0</td>\n",
       "      <td>0.0</td>\n",
       "    </tr>\n",
       "    <tr>\n",
       "      <th>4</th>\n",
       "      <td>0.0</td>\n",
       "      <td>1.0</td>\n",
       "      <td>0.0</td>\n",
       "      <td>0.0</td>\n",
       "      <td>0.0</td>\n",
       "      <td>0.0</td>\n",
       "      <td>0.0</td>\n",
       "      <td>0.0</td>\n",
       "      <td>0.0</td>\n",
       "      <td>0.0</td>\n",
       "      <td>...</td>\n",
       "      <td>0.0</td>\n",
       "      <td>0.0</td>\n",
       "      <td>0.0</td>\n",
       "      <td>0.0</td>\n",
       "      <td>0.0</td>\n",
       "      <td>0.0</td>\n",
       "      <td>0.0</td>\n",
       "      <td>0.0</td>\n",
       "      <td>0.0</td>\n",
       "      <td>0.0</td>\n",
       "    </tr>\n",
       "    <tr>\n",
       "      <th>...</th>\n",
       "      <td>...</td>\n",
       "      <td>...</td>\n",
       "      <td>...</td>\n",
       "      <td>...</td>\n",
       "      <td>...</td>\n",
       "      <td>...</td>\n",
       "      <td>...</td>\n",
       "      <td>...</td>\n",
       "      <td>...</td>\n",
       "      <td>...</td>\n",
       "      <td>...</td>\n",
       "      <td>...</td>\n",
       "      <td>...</td>\n",
       "      <td>...</td>\n",
       "      <td>...</td>\n",
       "      <td>...</td>\n",
       "      <td>...</td>\n",
       "      <td>...</td>\n",
       "      <td>...</td>\n",
       "      <td>...</td>\n",
       "      <td>...</td>\n",
       "    </tr>\n",
       "    <tr>\n",
       "      <th>59337</th>\n",
       "      <td>0.0</td>\n",
       "      <td>1.0</td>\n",
       "      <td>0.0</td>\n",
       "      <td>0.0</td>\n",
       "      <td>0.0</td>\n",
       "      <td>0.0</td>\n",
       "      <td>0.0</td>\n",
       "      <td>0.0</td>\n",
       "      <td>0.0</td>\n",
       "      <td>0.0</td>\n",
       "      <td>...</td>\n",
       "      <td>0.0</td>\n",
       "      <td>0.0</td>\n",
       "      <td>0.0</td>\n",
       "      <td>0.0</td>\n",
       "      <td>0.0</td>\n",
       "      <td>0.0</td>\n",
       "      <td>0.0</td>\n",
       "      <td>0.0</td>\n",
       "      <td>0.0</td>\n",
       "      <td>0.0</td>\n",
       "    </tr>\n",
       "    <tr>\n",
       "      <th>59338</th>\n",
       "      <td>0.0</td>\n",
       "      <td>0.0</td>\n",
       "      <td>1.0</td>\n",
       "      <td>0.0</td>\n",
       "      <td>0.0</td>\n",
       "      <td>0.0</td>\n",
       "      <td>0.0</td>\n",
       "      <td>0.0</td>\n",
       "      <td>0.0</td>\n",
       "      <td>0.0</td>\n",
       "      <td>...</td>\n",
       "      <td>0.0</td>\n",
       "      <td>0.0</td>\n",
       "      <td>0.0</td>\n",
       "      <td>0.0</td>\n",
       "      <td>0.0</td>\n",
       "      <td>0.0</td>\n",
       "      <td>0.0</td>\n",
       "      <td>0.0</td>\n",
       "      <td>0.0</td>\n",
       "      <td>0.0</td>\n",
       "    </tr>\n",
       "    <tr>\n",
       "      <th>59339</th>\n",
       "      <td>0.0</td>\n",
       "      <td>1.0</td>\n",
       "      <td>0.0</td>\n",
       "      <td>0.0</td>\n",
       "      <td>0.0</td>\n",
       "      <td>1.0</td>\n",
       "      <td>0.0</td>\n",
       "      <td>0.0</td>\n",
       "      <td>0.0</td>\n",
       "      <td>0.0</td>\n",
       "      <td>...</td>\n",
       "      <td>0.0</td>\n",
       "      <td>0.0</td>\n",
       "      <td>0.0</td>\n",
       "      <td>0.0</td>\n",
       "      <td>0.0</td>\n",
       "      <td>0.0</td>\n",
       "      <td>0.0</td>\n",
       "      <td>0.0</td>\n",
       "      <td>0.0</td>\n",
       "      <td>0.0</td>\n",
       "    </tr>\n",
       "    <tr>\n",
       "      <th>59340</th>\n",
       "      <td>0.0</td>\n",
       "      <td>0.0</td>\n",
       "      <td>1.0</td>\n",
       "      <td>0.0</td>\n",
       "      <td>0.0</td>\n",
       "      <td>0.0</td>\n",
       "      <td>0.0</td>\n",
       "      <td>0.0</td>\n",
       "      <td>0.0</td>\n",
       "      <td>0.0</td>\n",
       "      <td>...</td>\n",
       "      <td>0.0</td>\n",
       "      <td>0.0</td>\n",
       "      <td>0.0</td>\n",
       "      <td>0.0</td>\n",
       "      <td>0.0</td>\n",
       "      <td>0.0</td>\n",
       "      <td>0.0</td>\n",
       "      <td>0.0</td>\n",
       "      <td>0.0</td>\n",
       "      <td>0.0</td>\n",
       "    </tr>\n",
       "    <tr>\n",
       "      <th>59341</th>\n",
       "      <td>0.0</td>\n",
       "      <td>1.0</td>\n",
       "      <td>0.0</td>\n",
       "      <td>0.0</td>\n",
       "      <td>0.0</td>\n",
       "      <td>0.0</td>\n",
       "      <td>0.0</td>\n",
       "      <td>0.0</td>\n",
       "      <td>0.0</td>\n",
       "      <td>0.0</td>\n",
       "      <td>...</td>\n",
       "      <td>0.0</td>\n",
       "      <td>0.0</td>\n",
       "      <td>0.0</td>\n",
       "      <td>0.0</td>\n",
       "      <td>0.0</td>\n",
       "      <td>0.0</td>\n",
       "      <td>0.0</td>\n",
       "      <td>0.0</td>\n",
       "      <td>0.0</td>\n",
       "      <td>0.0</td>\n",
       "    </tr>\n",
       "  </tbody>\n",
       "</table>\n",
       "<p>59342 rows × 60 columns</p>\n",
       "</div>"
      ],
      "text/plain": [
       "       Casa  Departamento   PH  Abasto  Agronomía  Almagro  Balvanera  \\\n",
       "0       0.0           1.0  0.0     0.0        0.0      0.0        0.0   \n",
       "1       0.0           1.0  0.0     0.0        0.0      0.0        0.0   \n",
       "2       0.0           1.0  0.0     0.0        0.0      0.0        0.0   \n",
       "3       1.0           0.0  0.0     0.0        0.0      0.0        0.0   \n",
       "4       0.0           1.0  0.0     0.0        0.0      0.0        0.0   \n",
       "...     ...           ...  ...     ...        ...      ...        ...   \n",
       "59337   0.0           1.0  0.0     0.0        0.0      0.0        0.0   \n",
       "59338   0.0           0.0  1.0     0.0        0.0      0.0        0.0   \n",
       "59339   0.0           1.0  0.0     0.0        0.0      1.0        0.0   \n",
       "59340   0.0           0.0  1.0     0.0        0.0      0.0        0.0   \n",
       "59341   0.0           1.0  0.0     0.0        0.0      0.0        0.0   \n",
       "\n",
       "       Barracas  Barrio Norte  Belgrano  ...  Villa Lugano  Villa Luro  \\\n",
       "0           0.0           0.0       0.0  ...           0.0         0.0   \n",
       "1           0.0           0.0       0.0  ...           0.0         0.0   \n",
       "2           0.0           0.0       0.0  ...           0.0         0.0   \n",
       "3           0.0           0.0       0.0  ...           0.0         0.0   \n",
       "4           0.0           0.0       0.0  ...           0.0         0.0   \n",
       "...         ...           ...       ...  ...           ...         ...   \n",
       "59337       0.0           0.0       0.0  ...           0.0         0.0   \n",
       "59338       0.0           0.0       0.0  ...           0.0         0.0   \n",
       "59339       0.0           0.0       0.0  ...           0.0         0.0   \n",
       "59340       0.0           0.0       0.0  ...           0.0         0.0   \n",
       "59341       0.0           0.0       0.0  ...           0.0         0.0   \n",
       "\n",
       "       Villa Ortuzar  Villa Pueyrredón  Villa Real  Villa Riachuelo  \\\n",
       "0                0.0               0.0         0.0              0.0   \n",
       "1                0.0               0.0         0.0              0.0   \n",
       "2                0.0               0.0         0.0              0.0   \n",
       "3                0.0               0.0         0.0              0.0   \n",
       "4                0.0               0.0         0.0              0.0   \n",
       "...              ...               ...         ...              ...   \n",
       "59337            0.0               0.0         0.0              0.0   \n",
       "59338            0.0               0.0         0.0              0.0   \n",
       "59339            0.0               0.0         0.0              0.0   \n",
       "59340            0.0               0.0         0.0              0.0   \n",
       "59341            0.0               0.0         0.0              0.0   \n",
       "\n",
       "       Villa Santa Rita  Villa Soldati  Villa Urquiza  Villa del Parque  \n",
       "0                   0.0            0.0            0.0               0.0  \n",
       "1                   0.0            0.0            0.0               0.0  \n",
       "2                   0.0            0.0            0.0               0.0  \n",
       "3                   0.0            0.0            0.0               0.0  \n",
       "4                   0.0            0.0            0.0               0.0  \n",
       "...                 ...            ...            ...               ...  \n",
       "59337               0.0            0.0            0.0               0.0  \n",
       "59338               0.0            0.0            0.0               0.0  \n",
       "59339               0.0            0.0            0.0               0.0  \n",
       "59340               0.0            0.0            0.0               0.0  \n",
       "59341               0.0            0.0            0.0               0.0  \n",
       "\n",
       "[59342 rows x 60 columns]"
      ]
     },
     "execution_count": 40,
     "metadata": {},
     "output_type": "execute_result"
    }
   ],
   "source": [
    "X_train_encode.columns=cat_names\n",
    "X_train_encode"
   ]
  },
  {
   "cell_type": "markdown",
   "metadata": {},
   "source": [
    "* Ya se tienen las variables con encoding guardadas en `data_encoded`, seguimos con el escalado, sacamos del dataset estas variables categóricas y no agregamos aun el encoding ya que este no necesita re-escalado."
   ]
  },
  {
   "cell_type": "code",
   "execution_count": 41,
   "metadata": {
    "execution": {
     "iopub.execute_input": "2021-02-23T07:14:22.932700Z",
     "iopub.status.busy": "2021-02-23T07:14:22.932700Z",
     "iopub.status.idle": "2021-02-23T07:14:22.947703Z",
     "shell.execute_reply": "2021-02-23T07:14:22.947703Z",
     "shell.execute_reply.started": "2021-02-23T07:14:22.932700Z"
    }
   },
   "outputs": [],
   "source": [
    "X_train=X_train.drop(['property_type','l3'],1)"
   ]
  },
  {
   "cell_type": "markdown",
   "metadata": {},
   "source": [
    "### 5.4. Escalado de datos"
   ]
  },
  {
   "cell_type": "markdown",
   "metadata": {},
   "source": [
    "* Separamos nuestras variables predictoras y las escalamos.\n",
    "* No podemos escalar la variable objetivo para poder comparar RMSE con los modelos anteriores."
   ]
  },
  {
   "cell_type": "code",
   "execution_count": 42,
   "metadata": {
    "execution": {
     "iopub.execute_input": "2021-02-23T07:14:22.948704Z",
     "iopub.status.busy": "2021-02-23T07:14:22.948704Z",
     "iopub.status.idle": "2021-02-23T07:14:22.963707Z",
     "shell.execute_reply": "2021-02-23T07:14:22.963707Z",
     "shell.execute_reply.started": "2021-02-23T07:14:22.948704Z"
    }
   },
   "outputs": [],
   "source": [
    "from sklearn.preprocessing import StandardScaler\n",
    "scaler = StandardScaler()"
   ]
  },
  {
   "cell_type": "code",
   "execution_count": 43,
   "metadata": {
    "execution": {
     "iopub.execute_input": "2021-02-23T07:14:22.964706Z",
     "iopub.status.busy": "2021-02-23T07:14:22.964706Z",
     "iopub.status.idle": "2021-02-23T07:14:22.979711Z",
     "shell.execute_reply": "2021-02-23T07:14:22.979711Z",
     "shell.execute_reply.started": "2021-02-23T07:14:22.964706Z"
    }
   },
   "outputs": [],
   "source": [
    "X_train=pd.DataFrame(scaler.fit_transform(X_train), columns = X_train.columns)"
   ]
  },
  {
   "cell_type": "markdown",
   "metadata": {
    "execution": {
     "iopub.execute_input": "2020-11-17T19:54:32.799775Z",
     "iopub.status.busy": "2020-11-17T19:54:32.799651Z",
     "iopub.status.idle": "2020-11-17T19:54:32.825842Z",
     "shell.execute_reply": "2020-11-17T19:54:32.824925Z",
     "shell.execute_reply.started": "2020-11-17T19:54:32.799759Z"
    }
   },
   "source": [
    "### 5.3. Imputación de valores faltantes"
   ]
  },
  {
   "cell_type": "markdown",
   "metadata": {
    "execution": {
     "iopub.execute_input": "2020-11-17T19:51:15.349803Z",
     "iopub.status.busy": "2020-11-17T19:51:15.349601Z",
     "iopub.status.idle": "2020-11-17T19:51:15.354610Z",
     "shell.execute_reply": "2020-11-17T19:51:15.353796Z",
     "shell.execute_reply.started": "2020-11-17T19:51:15.349755Z"
    }
   },
   "source": [
    "* Con los datos escalados procedemos a realizar la imputación de valores faltantes con `KNNImputer`"
   ]
  },
  {
   "cell_type": "code",
   "execution_count": 44,
   "metadata": {
    "execution": {
     "iopub.execute_input": "2021-02-23T07:14:22.980711Z",
     "iopub.status.busy": "2021-02-23T07:14:22.980711Z",
     "iopub.status.idle": "2021-02-23T07:14:42.425814Z",
     "shell.execute_reply": "2021-02-23T07:14:42.425814Z",
     "shell.execute_reply.started": "2021-02-23T07:14:22.980711Z"
    }
   },
   "outputs": [],
   "source": [
    "from sklearn.impute import KNNImputer\n",
    "imputer = KNNImputer(n_neighbors=3)\n",
    "X_train = pd.DataFrame(imputer.fit_transform(X_train),columns = X_train.columns)"
   ]
  },
  {
   "cell_type": "markdown",
   "metadata": {},
   "source": [
    "* Verificamos que nuestros nuevos datos no tengan valores nulos"
   ]
  },
  {
   "cell_type": "code",
   "execution_count": 45,
   "metadata": {
    "execution": {
     "iopub.execute_input": "2021-02-23T07:14:42.426814Z",
     "iopub.status.busy": "2021-02-23T07:14:42.426814Z",
     "iopub.status.idle": "2021-02-23T07:14:42.442818Z",
     "shell.execute_reply": "2021-02-23T07:14:42.441819Z",
     "shell.execute_reply.started": "2021-02-23T07:14:42.426814Z"
    }
   },
   "outputs": [
    {
     "data": {
      "text/plain": [
       "rooms              0\n",
       "bedrooms           0\n",
       "bathrooms          0\n",
       "surface_total      0\n",
       "surface_covered    0\n",
       "dtype: int64"
      ]
     },
     "execution_count": 45,
     "metadata": {},
     "output_type": "execute_result"
    }
   ],
   "source": [
    "X_train.isna().sum()"
   ]
  },
  {
   "cell_type": "markdown",
   "metadata": {},
   "source": [
    "* Unimos las variables predictoras con el encoding para posteriormente hacer el modelado."
   ]
  },
  {
   "cell_type": "code",
   "execution_count": 46,
   "metadata": {
    "execution": {
     "iopub.execute_input": "2021-02-23T07:14:42.443818Z",
     "iopub.status.busy": "2021-02-23T07:14:42.443818Z",
     "iopub.status.idle": "2021-02-23T07:14:42.474826Z",
     "shell.execute_reply": "2021-02-23T07:14:42.473825Z",
     "shell.execute_reply.started": "2021-02-23T07:14:42.443818Z"
    }
   },
   "outputs": [],
   "source": [
    "X_train=X_train.join(X_train_encode)"
   ]
  },
  {
   "cell_type": "code",
   "execution_count": 47,
   "metadata": {
    "execution": {
     "iopub.execute_input": "2021-02-23T07:14:42.475826Z",
     "iopub.status.busy": "2021-02-23T07:14:42.475826Z",
     "iopub.status.idle": "2021-02-23T07:14:42.537839Z",
     "shell.execute_reply": "2021-02-23T07:14:42.537839Z",
     "shell.execute_reply.started": "2021-02-23T07:14:42.475826Z"
    }
   },
   "outputs": [
    {
     "data": {
      "text/html": [
       "<div>\n",
       "<style scoped>\n",
       "    .dataframe tbody tr th:only-of-type {\n",
       "        vertical-align: middle;\n",
       "    }\n",
       "\n",
       "    .dataframe tbody tr th {\n",
       "        vertical-align: top;\n",
       "    }\n",
       "\n",
       "    .dataframe thead th {\n",
       "        text-align: right;\n",
       "    }\n",
       "</style>\n",
       "<table border=\"1\" class=\"dataframe\">\n",
       "  <thead>\n",
       "    <tr style=\"text-align: right;\">\n",
       "      <th></th>\n",
       "      <th>rooms</th>\n",
       "      <th>bedrooms</th>\n",
       "      <th>bathrooms</th>\n",
       "      <th>surface_total</th>\n",
       "      <th>surface_covered</th>\n",
       "      <th>Casa</th>\n",
       "      <th>Departamento</th>\n",
       "      <th>PH</th>\n",
       "      <th>Abasto</th>\n",
       "      <th>Agronomía</th>\n",
       "      <th>...</th>\n",
       "      <th>Villa Lugano</th>\n",
       "      <th>Villa Luro</th>\n",
       "      <th>Villa Ortuzar</th>\n",
       "      <th>Villa Pueyrredón</th>\n",
       "      <th>Villa Real</th>\n",
       "      <th>Villa Riachuelo</th>\n",
       "      <th>Villa Santa Rita</th>\n",
       "      <th>Villa Soldati</th>\n",
       "      <th>Villa Urquiza</th>\n",
       "      <th>Villa del Parque</th>\n",
       "    </tr>\n",
       "  </thead>\n",
       "  <tbody>\n",
       "    <tr>\n",
       "      <th>0</th>\n",
       "      <td>-0.740615</td>\n",
       "      <td>-0.908083</td>\n",
       "      <td>-0.673319</td>\n",
       "      <td>-0.696628</td>\n",
       "      <td>-0.658687</td>\n",
       "      <td>0.0</td>\n",
       "      <td>1.0</td>\n",
       "      <td>0.0</td>\n",
       "      <td>0.0</td>\n",
       "      <td>0.0</td>\n",
       "      <td>...</td>\n",
       "      <td>0.0</td>\n",
       "      <td>0.0</td>\n",
       "      <td>0.0</td>\n",
       "      <td>0.0</td>\n",
       "      <td>0.0</td>\n",
       "      <td>0.0</td>\n",
       "      <td>0.0</td>\n",
       "      <td>0.0</td>\n",
       "      <td>0.0</td>\n",
       "      <td>0.0</td>\n",
       "    </tr>\n",
       "    <tr>\n",
       "      <th>1</th>\n",
       "      <td>0.178986</td>\n",
       "      <td>0.170486</td>\n",
       "      <td>0.927047</td>\n",
       "      <td>-0.134290</td>\n",
       "      <td>0.097861</td>\n",
       "      <td>0.0</td>\n",
       "      <td>1.0</td>\n",
       "      <td>0.0</td>\n",
       "      <td>0.0</td>\n",
       "      <td>0.0</td>\n",
       "      <td>...</td>\n",
       "      <td>0.0</td>\n",
       "      <td>0.0</td>\n",
       "      <td>0.0</td>\n",
       "      <td>0.0</td>\n",
       "      <td>0.0</td>\n",
       "      <td>0.0</td>\n",
       "      <td>0.0</td>\n",
       "      <td>0.0</td>\n",
       "      <td>0.0</td>\n",
       "      <td>0.0</td>\n",
       "    </tr>\n",
       "    <tr>\n",
       "      <th>2</th>\n",
       "      <td>-0.740615</td>\n",
       "      <td>-0.908083</td>\n",
       "      <td>-0.673319</td>\n",
       "      <td>-0.591190</td>\n",
       "      <td>-0.516834</td>\n",
       "      <td>0.0</td>\n",
       "      <td>1.0</td>\n",
       "      <td>0.0</td>\n",
       "      <td>0.0</td>\n",
       "      <td>0.0</td>\n",
       "      <td>...</td>\n",
       "      <td>0.0</td>\n",
       "      <td>0.0</td>\n",
       "      <td>0.0</td>\n",
       "      <td>0.0</td>\n",
       "      <td>0.0</td>\n",
       "      <td>0.0</td>\n",
       "      <td>0.0</td>\n",
       "      <td>0.0</td>\n",
       "      <td>0.0</td>\n",
       "      <td>0.0</td>\n",
       "    </tr>\n",
       "    <tr>\n",
       "      <th>3</th>\n",
       "      <td>2.018187</td>\n",
       "      <td>1.249054</td>\n",
       "      <td>0.927047</td>\n",
       "      <td>3.450616</td>\n",
       "      <td>2.556644</td>\n",
       "      <td>1.0</td>\n",
       "      <td>0.0</td>\n",
       "      <td>0.0</td>\n",
       "      <td>0.0</td>\n",
       "      <td>0.0</td>\n",
       "      <td>...</td>\n",
       "      <td>0.0</td>\n",
       "      <td>0.0</td>\n",
       "      <td>0.0</td>\n",
       "      <td>0.0</td>\n",
       "      <td>0.0</td>\n",
       "      <td>0.0</td>\n",
       "      <td>0.0</td>\n",
       "      <td>0.0</td>\n",
       "      <td>0.0</td>\n",
       "      <td>0.0</td>\n",
       "    </tr>\n",
       "    <tr>\n",
       "      <th>4</th>\n",
       "      <td>2.018187</td>\n",
       "      <td>2.327623</td>\n",
       "      <td>2.527412</td>\n",
       "      <td>0.638925</td>\n",
       "      <td>1.138116</td>\n",
       "      <td>0.0</td>\n",
       "      <td>1.0</td>\n",
       "      <td>0.0</td>\n",
       "      <td>0.0</td>\n",
       "      <td>0.0</td>\n",
       "      <td>...</td>\n",
       "      <td>0.0</td>\n",
       "      <td>0.0</td>\n",
       "      <td>0.0</td>\n",
       "      <td>0.0</td>\n",
       "      <td>0.0</td>\n",
       "      <td>0.0</td>\n",
       "      <td>0.0</td>\n",
       "      <td>0.0</td>\n",
       "      <td>0.0</td>\n",
       "      <td>0.0</td>\n",
       "    </tr>\n",
       "    <tr>\n",
       "      <th>...</th>\n",
       "      <td>...</td>\n",
       "      <td>...</td>\n",
       "      <td>...</td>\n",
       "      <td>...</td>\n",
       "      <td>...</td>\n",
       "      <td>...</td>\n",
       "      <td>...</td>\n",
       "      <td>...</td>\n",
       "      <td>...</td>\n",
       "      <td>...</td>\n",
       "      <td>...</td>\n",
       "      <td>...</td>\n",
       "      <td>...</td>\n",
       "      <td>...</td>\n",
       "      <td>...</td>\n",
       "      <td>...</td>\n",
       "      <td>...</td>\n",
       "      <td>...</td>\n",
       "      <td>...</td>\n",
       "      <td>...</td>\n",
       "      <td>...</td>\n",
       "    </tr>\n",
       "    <tr>\n",
       "      <th>59337</th>\n",
       "      <td>0.178986</td>\n",
       "      <td>0.170486</td>\n",
       "      <td>0.927047</td>\n",
       "      <td>0.551060</td>\n",
       "      <td>0.878052</td>\n",
       "      <td>0.0</td>\n",
       "      <td>1.0</td>\n",
       "      <td>0.0</td>\n",
       "      <td>0.0</td>\n",
       "      <td>0.0</td>\n",
       "      <td>...</td>\n",
       "      <td>0.0</td>\n",
       "      <td>0.0</td>\n",
       "      <td>0.0</td>\n",
       "      <td>0.0</td>\n",
       "      <td>0.0</td>\n",
       "      <td>0.0</td>\n",
       "      <td>0.0</td>\n",
       "      <td>0.0</td>\n",
       "      <td>0.0</td>\n",
       "      <td>0.0</td>\n",
       "    </tr>\n",
       "    <tr>\n",
       "      <th>59338</th>\n",
       "      <td>0.178986</td>\n",
       "      <td>0.170486</td>\n",
       "      <td>-0.673319</td>\n",
       "      <td>-0.239729</td>\n",
       "      <td>-0.516834</td>\n",
       "      <td>0.0</td>\n",
       "      <td>0.0</td>\n",
       "      <td>1.0</td>\n",
       "      <td>0.0</td>\n",
       "      <td>0.0</td>\n",
       "      <td>...</td>\n",
       "      <td>0.0</td>\n",
       "      <td>0.0</td>\n",
       "      <td>0.0</td>\n",
       "      <td>0.0</td>\n",
       "      <td>0.0</td>\n",
       "      <td>0.0</td>\n",
       "      <td>0.0</td>\n",
       "      <td>0.0</td>\n",
       "      <td>0.0</td>\n",
       "      <td>0.0</td>\n",
       "    </tr>\n",
       "    <tr>\n",
       "      <th>59339</th>\n",
       "      <td>-0.740615</td>\n",
       "      <td>-0.908083</td>\n",
       "      <td>-0.673319</td>\n",
       "      <td>-0.907505</td>\n",
       "      <td>-0.942393</td>\n",
       "      <td>0.0</td>\n",
       "      <td>1.0</td>\n",
       "      <td>0.0</td>\n",
       "      <td>0.0</td>\n",
       "      <td>0.0</td>\n",
       "      <td>...</td>\n",
       "      <td>0.0</td>\n",
       "      <td>0.0</td>\n",
       "      <td>0.0</td>\n",
       "      <td>0.0</td>\n",
       "      <td>0.0</td>\n",
       "      <td>0.0</td>\n",
       "      <td>0.0</td>\n",
       "      <td>0.0</td>\n",
       "      <td>0.0</td>\n",
       "      <td>0.0</td>\n",
       "    </tr>\n",
       "    <tr>\n",
       "      <th>59340</th>\n",
       "      <td>0.178986</td>\n",
       "      <td>0.170486</td>\n",
       "      <td>-0.673319</td>\n",
       "      <td>0.111733</td>\n",
       "      <td>-0.043991</td>\n",
       "      <td>0.0</td>\n",
       "      <td>0.0</td>\n",
       "      <td>1.0</td>\n",
       "      <td>0.0</td>\n",
       "      <td>0.0</td>\n",
       "      <td>...</td>\n",
       "      <td>0.0</td>\n",
       "      <td>0.0</td>\n",
       "      <td>0.0</td>\n",
       "      <td>0.0</td>\n",
       "      <td>0.0</td>\n",
       "      <td>0.0</td>\n",
       "      <td>0.0</td>\n",
       "      <td>0.0</td>\n",
       "      <td>0.0</td>\n",
       "      <td>0.0</td>\n",
       "    </tr>\n",
       "    <tr>\n",
       "      <th>59341</th>\n",
       "      <td>0.178986</td>\n",
       "      <td>0.170486</td>\n",
       "      <td>0.927047</td>\n",
       "      <td>0.357756</td>\n",
       "      <td>0.168788</td>\n",
       "      <td>0.0</td>\n",
       "      <td>1.0</td>\n",
       "      <td>0.0</td>\n",
       "      <td>0.0</td>\n",
       "      <td>0.0</td>\n",
       "      <td>...</td>\n",
       "      <td>0.0</td>\n",
       "      <td>0.0</td>\n",
       "      <td>0.0</td>\n",
       "      <td>0.0</td>\n",
       "      <td>0.0</td>\n",
       "      <td>0.0</td>\n",
       "      <td>0.0</td>\n",
       "      <td>0.0</td>\n",
       "      <td>0.0</td>\n",
       "      <td>0.0</td>\n",
       "    </tr>\n",
       "  </tbody>\n",
       "</table>\n",
       "<p>59342 rows × 65 columns</p>\n",
       "</div>"
      ],
      "text/plain": [
       "          rooms  bedrooms  bathrooms  surface_total  surface_covered  Casa  \\\n",
       "0     -0.740615 -0.908083  -0.673319      -0.696628        -0.658687   0.0   \n",
       "1      0.178986  0.170486   0.927047      -0.134290         0.097861   0.0   \n",
       "2     -0.740615 -0.908083  -0.673319      -0.591190        -0.516834   0.0   \n",
       "3      2.018187  1.249054   0.927047       3.450616         2.556644   1.0   \n",
       "4      2.018187  2.327623   2.527412       0.638925         1.138116   0.0   \n",
       "...         ...       ...        ...            ...              ...   ...   \n",
       "59337  0.178986  0.170486   0.927047       0.551060         0.878052   0.0   \n",
       "59338  0.178986  0.170486  -0.673319      -0.239729        -0.516834   0.0   \n",
       "59339 -0.740615 -0.908083  -0.673319      -0.907505        -0.942393   0.0   \n",
       "59340  0.178986  0.170486  -0.673319       0.111733        -0.043991   0.0   \n",
       "59341  0.178986  0.170486   0.927047       0.357756         0.168788   0.0   \n",
       "\n",
       "       Departamento   PH  Abasto  Agronomía  ...  Villa Lugano  Villa Luro  \\\n",
       "0               1.0  0.0     0.0        0.0  ...           0.0         0.0   \n",
       "1               1.0  0.0     0.0        0.0  ...           0.0         0.0   \n",
       "2               1.0  0.0     0.0        0.0  ...           0.0         0.0   \n",
       "3               0.0  0.0     0.0        0.0  ...           0.0         0.0   \n",
       "4               1.0  0.0     0.0        0.0  ...           0.0         0.0   \n",
       "...             ...  ...     ...        ...  ...           ...         ...   \n",
       "59337           1.0  0.0     0.0        0.0  ...           0.0         0.0   \n",
       "59338           0.0  1.0     0.0        0.0  ...           0.0         0.0   \n",
       "59339           1.0  0.0     0.0        0.0  ...           0.0         0.0   \n",
       "59340           0.0  1.0     0.0        0.0  ...           0.0         0.0   \n",
       "59341           1.0  0.0     0.0        0.0  ...           0.0         0.0   \n",
       "\n",
       "       Villa Ortuzar  Villa Pueyrredón  Villa Real  Villa Riachuelo  \\\n",
       "0                0.0               0.0         0.0              0.0   \n",
       "1                0.0               0.0         0.0              0.0   \n",
       "2                0.0               0.0         0.0              0.0   \n",
       "3                0.0               0.0         0.0              0.0   \n",
       "4                0.0               0.0         0.0              0.0   \n",
       "...              ...               ...         ...              ...   \n",
       "59337            0.0               0.0         0.0              0.0   \n",
       "59338            0.0               0.0         0.0              0.0   \n",
       "59339            0.0               0.0         0.0              0.0   \n",
       "59340            0.0               0.0         0.0              0.0   \n",
       "59341            0.0               0.0         0.0              0.0   \n",
       "\n",
       "       Villa Santa Rita  Villa Soldati  Villa Urquiza  Villa del Parque  \n",
       "0                   0.0            0.0            0.0               0.0  \n",
       "1                   0.0            0.0            0.0               0.0  \n",
       "2                   0.0            0.0            0.0               0.0  \n",
       "3                   0.0            0.0            0.0               0.0  \n",
       "4                   0.0            0.0            0.0               0.0  \n",
       "...                 ...            ...            ...               ...  \n",
       "59337               0.0            0.0            0.0               0.0  \n",
       "59338               0.0            0.0            0.0               0.0  \n",
       "59339               0.0            0.0            0.0               0.0  \n",
       "59340               0.0            0.0            0.0               0.0  \n",
       "59341               0.0            0.0            0.0               0.0  \n",
       "\n",
       "[59342 rows x 65 columns]"
      ]
     },
     "execution_count": 47,
     "metadata": {},
     "output_type": "execute_result"
    }
   ],
   "source": [
    "X_train"
   ]
  },
  {
   "cell_type": "markdown",
   "metadata": {
    "execution": {
     "iopub.execute_input": "2020-11-17T19:54:32.799775Z",
     "iopub.status.busy": "2020-11-17T19:54:32.799651Z",
     "iopub.status.idle": "2020-11-17T19:54:32.825842Z",
     "shell.execute_reply": "2020-11-17T19:54:32.824925Z",
     "shell.execute_reply.started": "2020-11-17T19:54:32.799759Z"
    }
   },
   "source": [
    "### 5.3. Aplicar transformacioens al test"
   ]
  },
  {
   "cell_type": "code",
   "execution_count": 48,
   "metadata": {
    "execution": {
     "iopub.execute_input": "2021-02-23T07:14:42.539840Z",
     "iopub.status.busy": "2021-02-23T07:14:42.538841Z",
     "iopub.status.idle": "2021-02-23T07:14:50.927578Z",
     "shell.execute_reply": "2021-02-23T07:14:50.927578Z",
     "shell.execute_reply.started": "2021-02-23T07:14:42.539840Z"
    }
   },
   "outputs": [],
   "source": [
    "X_test_encode= X_test[['property_type','l3']]\n",
    "X_test_encode= pd.DataFrame(one.transform(X_test_encode).toarray())\n",
    "X_test_encode.columns=cat_names\n",
    "X_test= X_test.drop(['property_type','l3'],1)\n",
    "X_test=pd.DataFrame(scaler.transform(X_test), columns = X_test.columns)\n",
    "X_test = pd.DataFrame(imputer.transform(X_test),columns = X_test.columns)\n",
    "X_test=X_test.join(X_test_encode)"
   ]
  },
  {
   "cell_type": "code",
   "execution_count": 49,
   "metadata": {
    "execution": {
     "iopub.execute_input": "2021-02-23T07:14:50.928577Z",
     "iopub.status.busy": "2021-02-23T07:14:50.928577Z",
     "iopub.status.idle": "2021-02-23T07:14:50.943580Z",
     "shell.execute_reply": "2021-02-23T07:14:50.943580Z",
     "shell.execute_reply.started": "2021-02-23T07:14:50.928577Z"
    }
   },
   "outputs": [],
   "source": [
    "data_split_list=[X_train, X_test, y_train, y_test]"
   ]
  },
  {
   "cell_type": "markdown",
   "metadata": {},
   "source": [
    "### 5.5. Modelado con nuevo dataset"
   ]
  },
  {
   "cell_type": "markdown",
   "metadata": {},
   "source": [
    "* Entrenamos los modelos"
   ]
  },
  {
   "cell_type": "code",
   "execution_count": 50,
   "metadata": {
    "execution": {
     "iopub.execute_input": "2021-02-23T07:14:50.944581Z",
     "iopub.status.busy": "2021-02-23T07:14:50.944581Z",
     "iopub.status.idle": "2021-02-23T07:15:55.254934Z",
     "shell.execute_reply": "2021-02-23T07:15:55.254934Z",
     "shell.execute_reply.started": "2021-02-23T07:14:50.944581Z"
    }
   },
   "outputs": [],
   "source": [
    "for i, model in enumerate(lista_modelos):\n",
    "    df_resultados=fit_predict_measure(model, lista_nombre_modelos[i], data_split_list, df_resultados, dataset='transformado')"
   ]
  },
  {
   "cell_type": "markdown",
   "metadata": {},
   "source": [
    "* Mostramos los resultados tabulados"
   ]
  },
  {
   "cell_type": "code",
   "execution_count": 51,
   "metadata": {
    "execution": {
     "iopub.execute_input": "2021-02-23T07:15:55.255935Z",
     "iopub.status.busy": "2021-02-23T07:15:55.255935Z",
     "iopub.status.idle": "2021-02-23T07:15:55.270938Z",
     "shell.execute_reply": "2021-02-23T07:15:55.270938Z",
     "shell.execute_reply.started": "2021-02-23T07:15:55.255935Z"
    }
   },
   "outputs": [
    {
     "data": {
      "text/html": [
       "<div>\n",
       "<style scoped>\n",
       "    .dataframe tbody tr th:only-of-type {\n",
       "        vertical-align: middle;\n",
       "    }\n",
       "\n",
       "    .dataframe tbody tr th {\n",
       "        vertical-align: top;\n",
       "    }\n",
       "\n",
       "    .dataframe thead tr th {\n",
       "        text-align: left;\n",
       "    }\n",
       "\n",
       "    .dataframe thead tr:last-of-type th {\n",
       "        text-align: right;\n",
       "    }\n",
       "</style>\n",
       "<table border=\"1\" class=\"dataframe\">\n",
       "  <thead>\n",
       "    <tr>\n",
       "      <th></th>\n",
       "      <th colspan=\"2\" halign=\"left\">r2</th>\n",
       "      <th colspan=\"2\" halign=\"left\">rmse</th>\n",
       "    </tr>\n",
       "    <tr>\n",
       "      <th>dataset</th>\n",
       "      <th>original</th>\n",
       "      <th>transformado</th>\n",
       "      <th>original</th>\n",
       "      <th>transformado</th>\n",
       "    </tr>\n",
       "    <tr>\n",
       "      <th>modelo</th>\n",
       "      <th></th>\n",
       "      <th></th>\n",
       "      <th></th>\n",
       "      <th></th>\n",
       "    </tr>\n",
       "  </thead>\n",
       "  <tbody>\n",
       "    <tr>\n",
       "      <th>DecisionTree Reg</th>\n",
       "      <td>0.747078</td>\n",
       "      <td>0.840396</td>\n",
       "      <td>152027.476038</td>\n",
       "      <td>52115.986474</td>\n",
       "    </tr>\n",
       "    <tr>\n",
       "      <th>DecisionTree Reg-Opt</th>\n",
       "      <td>0.766439</td>\n",
       "      <td>0.828859</td>\n",
       "      <td>146092.758486</td>\n",
       "      <td>53966.816515</td>\n",
       "    </tr>\n",
       "    <tr>\n",
       "      <th>KNeighbors Reg</th>\n",
       "      <td>0.736954</td>\n",
       "      <td>0.840041</td>\n",
       "      <td>155040.133290</td>\n",
       "      <td>52173.931767</td>\n",
       "    </tr>\n",
       "    <tr>\n",
       "      <th>KNeighbors Reg-Opt</th>\n",
       "      <td>0.746111</td>\n",
       "      <td>0.842394</td>\n",
       "      <td>152317.822290</td>\n",
       "      <td>51788.778298</td>\n",
       "    </tr>\n",
       "    <tr>\n",
       "      <th>Linear Reg</th>\n",
       "      <td>0.551486</td>\n",
       "      <td>0.734189</td>\n",
       "      <td>202449.365404</td>\n",
       "      <td>67256.771451</td>\n",
       "    </tr>\n",
       "  </tbody>\n",
       "</table>\n",
       "</div>"
      ],
      "text/plain": [
       "                            r2                        rmse              \n",
       "dataset               original transformado       original  transformado\n",
       "modelo                                                                  \n",
       "DecisionTree Reg      0.747078     0.840396  152027.476038  52115.986474\n",
       "DecisionTree Reg-Opt  0.766439     0.828859  146092.758486  53966.816515\n",
       "KNeighbors Reg        0.736954     0.840041  155040.133290  52173.931767\n",
       "KNeighbors Reg-Opt    0.746111     0.842394  152317.822290  51788.778298\n",
       "Linear Reg            0.551486     0.734189  202449.365404  67256.771451"
      ]
     },
     "execution_count": 51,
     "metadata": {},
     "output_type": "execute_result"
    }
   ],
   "source": [
    "df_resultados[df_resultados.subset=='test'].pivot(index='modelo', columns='dataset', values=['r2', 'rmse'])"
   ]
  },
  {
   "cell_type": "markdown",
   "metadata": {},
   "source": [
    "* Visualizamos graficamente los resultados de `r2` en el set de datos de test"
   ]
  },
  {
   "cell_type": "code",
   "execution_count": 52,
   "metadata": {
    "execution": {
     "iopub.execute_input": "2021-02-23T07:15:55.271938Z",
     "iopub.status.busy": "2021-02-23T07:15:55.271938Z",
     "iopub.status.idle": "2021-02-23T07:15:55.510650Z",
     "shell.execute_reply": "2021-02-23T07:15:55.510650Z",
     "shell.execute_reply.started": "2021-02-23T07:15:55.271938Z"
    }
   },
   "outputs": [
    {
     "data": {
      "image/png": "[encoded data removed]",
      "text/plain": [
       "<Figure size 720x576 with 1 Axes>"
      ]
     },
     "metadata": {},
     "output_type": "display_data"
    }
   ],
   "source": [
    "fig=plt.figure(figsize=(10, 8))\n",
    "a=sns.barplot(y=\"modelo\", \n",
    "            x=\"r2\", \n",
    "            hue=\"dataset\",\n",
    "            data=df_resultados[df_resultados.subset=='test'])\n",
    "\n",
    "a.set_xlim(0,1)\n",
    "show_values_horizontal(a, fig)"
   ]
  },
  {
   "cell_type": "markdown",
   "metadata": {},
   "source": [
    "Podemos ver que al utilizar los mismos modelos con los datos transformados nos lleva a mejorar notablemente el resultado. \n",
    "* Esto se debe a que ya contamos con un dataset con menos valores atípicos que reducen el rendimiento del modelo.\n",
    "* La imputación de valores faltantes nos permite trabajar con set de datos mas grande lo que pudo contribuir al mejoramiento de los modelos.\n",
    "* El encoding de las variables categóricas nos aporta nueva información que anteriormente no se tenia en cuenta por lo que podemos predecir de una mejor forma.\n",
    "* El escalado de datos logra que modelos basados en distancia mejoren como es el caso de `KNeighborsRegressor` que tuvo un desempeño considerablemente superior con el nuevo set de datos."
   ]
  },
  {
   "cell_type": "markdown",
   "metadata": {},
   "source": [
    "# 6. Modelos Avanzados"
   ]
  },
  {
   "cell_type": "markdown",
   "metadata": {},
   "source": [
    "* Como modelos avanzados se implementara primero un modelo de regresión polinómica (`LinearRegression` con atributos polinómicos `PolynomialFeatures` y regularización `Ridge`).\n",
    "* Como segundo modelo se realizara potenciación del gradiente de arboles de decisión `XGBoost`"
   ]
  },
  {
   "cell_type": "markdown",
   "metadata": {
    "execution": {
     "iopub.execute_input": "2020-12-16T21:38:26.684744Z",
     "iopub.status.busy": "2020-12-16T21:38:26.684576Z",
     "iopub.status.idle": "2020-12-16T21:38:26.687455Z",
     "shell.execute_reply": "2020-12-16T21:38:26.686859Z",
     "shell.execute_reply.started": "2020-12-16T21:38:26.684727Z"
    }
   },
   "source": [
    "## 6.1. Polynomial Regression"
   ]
  },
  {
   "cell_type": "code",
   "execution_count": 53,
   "metadata": {
    "execution": {
     "iopub.execute_input": "2021-02-23T07:15:55.511651Z",
     "iopub.status.busy": "2021-02-23T07:15:55.511651Z",
     "iopub.status.idle": "2021-02-23T07:15:55.526654Z",
     "shell.execute_reply": "2021-02-23T07:15:55.526654Z",
     "shell.execute_reply.started": "2021-02-23T07:15:55.511651Z"
    }
   },
   "outputs": [],
   "source": [
    "from sklearn.linear_model import Ridge, Lasso, LinearRegression\n",
    "from sklearn.preprocessing import PolynomialFeatures\n",
    "from sklearn.pipeline import make_pipeline, Pipeline\n",
    "from sklearn.compose import ColumnTransformer, make_column_transformer"
   ]
  },
  {
   "cell_type": "code",
   "execution_count": 54,
   "metadata": {
    "execution": {
     "iopub.execute_input": "2021-02-23T07:15:55.527655Z",
     "iopub.status.busy": "2021-02-23T07:15:55.527655Z",
     "iopub.status.idle": "2021-02-23T07:15:55.543658Z",
     "shell.execute_reply": "2021-02-23T07:15:55.542657Z",
     "shell.execute_reply.started": "2021-02-23T07:15:55.527655Z"
    }
   },
   "outputs": [],
   "source": [
    "# Solo se le aplicara el PolynomialFeatures a las variables que numericas por lo que las separamos de las demas\n",
    "X_p = list(X_train.iloc[:, 0:5].columns)"
   ]
  },
  {
   "cell_type": "code",
   "execution_count": 55,
   "metadata": {
    "execution": {
     "iopub.execute_input": "2021-02-23T07:15:55.544658Z",
     "iopub.status.busy": "2021-02-23T07:15:55.544658Z",
     "iopub.status.idle": "2021-02-23T07:15:55.557660Z",
     "shell.execute_reply": "2021-02-23T07:15:55.557660Z",
     "shell.execute_reply.started": "2021-02-23T07:15:55.544658Z"
    }
   },
   "outputs": [],
   "source": [
    "# Creamos un column_transformer para aplicar PolynomialFeatures a las variables nuemricas\n",
    "processor = make_column_transformer(\n",
    "    (PolynomialFeatures(), X_p),\n",
    "    remainder='passthrough')"
   ]
  },
  {
   "cell_type": "code",
   "execution_count": 56,
   "metadata": {
    "execution": {
     "iopub.execute_input": "2021-02-23T07:15:55.559662Z",
     "iopub.status.busy": "2021-02-23T07:15:55.558662Z",
     "iopub.status.idle": "2021-02-23T07:15:55.573665Z",
     "shell.execute_reply": "2021-02-23T07:15:55.572665Z",
     "shell.execute_reply.started": "2021-02-23T07:15:55.558662Z"
    }
   },
   "outputs": [],
   "source": [
    "# Creamos un pipe para combiar el preprocesamiento de PolynomialFeatures con el modelo LinearRegression y otro para un modelo con regularización Ridge.\n",
    "polynomial_reg_linear = make_pipeline(\n",
    "    processor,\n",
    "    LinearRegression())\n",
    "\n",
    "polynomial_reg_ridge = make_pipeline(\n",
    "    processor,\n",
    "    Ridge())"
   ]
  },
  {
   "cell_type": "code",
   "execution_count": 57,
   "metadata": {
    "execution": {
     "iopub.execute_input": "2021-02-23T07:15:55.574664Z",
     "iopub.status.busy": "2021-02-23T07:15:55.573665Z",
     "iopub.status.idle": "2021-02-23T07:15:55.588667Z",
     "shell.execute_reply": "2021-02-23T07:15:55.588667Z",
     "shell.execute_reply.started": "2021-02-23T07:15:55.574664Z"
    }
   },
   "outputs": [],
   "source": [
    "# Creamos los grid search para ambos modelos\n",
    "param_grid_linear = {\n",
    "    'columntransformer__polynomialfeatures__degree': [1,2,3,4,5],\n",
    "    }\n",
    "\n",
    "gs_polynomial_reg_linear = GridSearchCV(polynomial_reg_linear,\n",
    "                        param_grid_linear,\n",
    "                        cv = 5,\n",
    "                        n_jobs = 12,\n",
    "                        verbose=True)\n",
    "param_grid_ridge = {\n",
    "    'columntransformer__polynomialfeatures__degree': [1,2,3,4,5],\n",
    "    'ridge__alpha':[0.0001,0.001,0.01,0.1,1,10,100]\n",
    "    }\n",
    "\n",
    "gs_polynomial_reg_ridge = GridSearchCV(polynomial_reg_ridge,\n",
    "                        param_grid_ridge,\n",
    "                        cv = 5,\n",
    "                        n_jobs = 12,\n",
    "                        verbose=True)"
   ]
  },
  {
   "cell_type": "markdown",
   "metadata": {},
   "source": [
    "Se eligieron como hiperparámetros a ajustar el grado del polinomio y para el modelo con regularización el valor del alpha, el rango de valores escogido para el grado del polinomio fue de 1 a 5 ya que valores mayores solo aportarían sobre ajuste y para el alpha se escogieron un rango de valores en escala log basado en valores vistos en proyectos en la web."
   ]
  },
  {
   "cell_type": "code",
   "execution_count": 58,
   "metadata": {
    "execution": {
     "iopub.execute_input": "2021-02-23T07:15:55.590668Z",
     "iopub.status.busy": "2021-02-23T07:15:55.589669Z",
     "iopub.status.idle": "2021-02-23T07:16:00.625798Z",
     "shell.execute_reply": "2021-02-23T07:16:00.625798Z",
     "shell.execute_reply.started": "2021-02-23T07:15:55.590668Z"
    }
   },
   "outputs": [
    {
     "name": "stdout",
     "output_type": "stream",
     "text": [
      "Fitting 5 folds for each of 5 candidates, totalling 25 fits\n"
     ]
    },
    {
     "name": "stderr",
     "output_type": "stream",
     "text": [
      "[Parallel(n_jobs=12)]: Using backend LokyBackend with 12 concurrent workers.\n",
      "[Parallel(n_jobs=12)]: Done  25 out of  25 | elapsed:    4.5s finished\n"
     ]
    },
    {
     "data": {
      "text/plain": [
       "Pipeline(steps=[('columntransformer',\n",
       "                 ColumnTransformer(remainder='passthrough',\n",
       "                                   transformers=[('polynomialfeatures',\n",
       "                                                  PolynomialFeatures(degree=3),\n",
       "                                                  ['rooms', 'bedrooms',\n",
       "                                                   'bathrooms', 'surface_total',\n",
       "                                                   'surface_covered'])])),\n",
       "                ('linearregression', LinearRegression())])"
      ]
     },
     "execution_count": 58,
     "metadata": {},
     "output_type": "execute_result"
    }
   ],
   "source": [
    "# Entrenamos el primer modelo sin regularización\n",
    "df_resultados=fit_predict_measure(gs_polynomial_reg_linear, 'Polynomial Regression', data_split_list, df_resultados, dataset='transformado')\n",
    "gs_polynomial_reg_linear.best_estimator_"
   ]
  },
  {
   "cell_type": "code",
   "execution_count": 59,
   "metadata": {
    "execution": {
     "iopub.execute_input": "2021-02-23T07:16:00.627799Z",
     "iopub.status.busy": "2021-02-23T07:16:00.626799Z",
     "iopub.status.idle": "2021-02-23T07:16:00.641802Z",
     "shell.execute_reply": "2021-02-23T07:16:00.641802Z",
     "shell.execute_reply.started": "2021-02-23T07:16:00.627799Z"
    }
   },
   "outputs": [],
   "source": [
    "## Guardamos el nombre de los coeficientes a los que se les aplico polynomialfeatures\n",
    "coeficientes_name=gs_polynomial_reg_linear.best_estimator_[0].\\\n",
    "                    named_transformers_['polynomialfeatures'].get_feature_names()"
   ]
  },
  {
   "cell_type": "code",
   "execution_count": 60,
   "metadata": {
    "execution": {
     "iopub.execute_input": "2021-02-23T07:16:00.643803Z",
     "iopub.status.busy": "2021-02-23T07:16:00.642802Z",
     "iopub.status.idle": "2021-02-23T07:16:00.657805Z",
     "shell.execute_reply": "2021-02-23T07:16:00.657805Z",
     "shell.execute_reply.started": "2021-02-23T07:16:00.643803Z"
    }
   },
   "outputs": [],
   "source": [
    "## Ponemos el nombre correspondiente\n",
    "coeficientes_name=[x.replace('x0','rooms')\\\n",
    "                   .replace('x1','bedrooms')\\\n",
    "                   .replace('x2','bathrooms')\\\n",
    "                   .replace('x3','surface_total')\\\n",
    "                   .replace('x4','surface_covered')\\\n",
    "                   for x in coeficientes_name]"
   ]
  },
  {
   "cell_type": "code",
   "execution_count": 61,
   "metadata": {
    "execution": {
     "iopub.execute_input": "2021-02-23T07:16:00.658805Z",
     "iopub.status.busy": "2021-02-23T07:16:00.658805Z",
     "iopub.status.idle": "2021-02-23T07:16:00.673809Z",
     "shell.execute_reply": "2021-02-23T07:16:00.673809Z",
     "shell.execute_reply.started": "2021-02-23T07:16:00.658805Z"
    }
   },
   "outputs": [],
   "source": [
    "## Agregamos el resto de columnas\n",
    "coeficientes_name.extend(cat_names)"
   ]
  },
  {
   "cell_type": "code",
   "execution_count": 62,
   "metadata": {
    "execution": {
     "iopub.execute_input": "2021-02-23T07:16:00.674809Z",
     "iopub.status.busy": "2021-02-23T07:16:00.674809Z",
     "iopub.status.idle": "2021-02-23T07:16:00.689812Z",
     "shell.execute_reply": "2021-02-23T07:16:00.689812Z",
     "shell.execute_reply.started": "2021-02-23T07:16:00.674809Z"
    }
   },
   "outputs": [],
   "source": [
    "coeficientes=gs_polynomial_reg_linear.best_estimator_[1].coef_\n",
    "coeficientes=abs(coeficientes)"
   ]
  },
  {
   "cell_type": "code",
   "execution_count": 63,
   "metadata": {
    "execution": {
     "iopub.execute_input": "2021-02-23T07:16:00.690813Z",
     "iopub.status.busy": "2021-02-23T07:16:00.690813Z",
     "iopub.status.idle": "2021-02-23T07:16:00.721820Z",
     "shell.execute_reply": "2021-02-23T07:16:00.721820Z",
     "shell.execute_reply.started": "2021-02-23T07:16:00.690813Z"
    }
   },
   "outputs": [
    {
     "data": {
      "text/html": [
       "<div>\n",
       "<style scoped>\n",
       "    .dataframe tbody tr th:only-of-type {\n",
       "        vertical-align: middle;\n",
       "    }\n",
       "\n",
       "    .dataframe tbody tr th {\n",
       "        vertical-align: top;\n",
       "    }\n",
       "\n",
       "    .dataframe thead th {\n",
       "        text-align: right;\n",
       "    }\n",
       "</style>\n",
       "<table border=\"1\" class=\"dataframe\">\n",
       "  <thead>\n",
       "    <tr style=\"text-align: right;\">\n",
       "      <th></th>\n",
       "      <th>Nombre_Variable</th>\n",
       "      <th>Coeficiente</th>\n",
       "    </tr>\n",
       "  </thead>\n",
       "  <tbody>\n",
       "    <tr>\n",
       "      <th>93</th>\n",
       "      <td>Puerto Madero</td>\n",
       "      <td>243919.931336</td>\n",
       "    </tr>\n",
       "    <tr>\n",
       "      <th>113</th>\n",
       "      <td>Villa Soldati</td>\n",
       "      <td>121622.996694</td>\n",
       "    </tr>\n",
       "    <tr>\n",
       "      <th>78</th>\n",
       "      <td>Las Cañitas</td>\n",
       "      <td>98946.496987</td>\n",
       "    </tr>\n",
       "    <tr>\n",
       "      <th>106</th>\n",
       "      <td>Villa Lugano</td>\n",
       "      <td>79090.107182</td>\n",
       "    </tr>\n",
       "    <tr>\n",
       "      <th>92</th>\n",
       "      <td>Pompeya</td>\n",
       "      <td>77055.620661</td>\n",
       "    </tr>\n",
       "    <tr>\n",
       "      <th>94</th>\n",
       "      <td>Recoleta</td>\n",
       "      <td>73172.995393</td>\n",
       "    </tr>\n",
       "    <tr>\n",
       "      <th>85</th>\n",
       "      <td>Palermo</td>\n",
       "      <td>71025.817000</td>\n",
       "    </tr>\n",
       "    <tr>\n",
       "      <th>65</th>\n",
       "      <td>Belgrano</td>\n",
       "      <td>69936.392788</td>\n",
       "    </tr>\n",
       "    <tr>\n",
       "      <th>5</th>\n",
       "      <td>surface_covered</td>\n",
       "      <td>66767.672165</td>\n",
       "    </tr>\n",
       "    <tr>\n",
       "      <th>83</th>\n",
       "      <td>Nuñez</td>\n",
       "      <td>60209.615868</td>\n",
       "    </tr>\n",
       "    <tr>\n",
       "      <th>69</th>\n",
       "      <td>Catalinas</td>\n",
       "      <td>57875.721340</td>\n",
       "    </tr>\n",
       "    <tr>\n",
       "      <th>4</th>\n",
       "      <td>surface_total</td>\n",
       "      <td>57827.306318</td>\n",
       "    </tr>\n",
       "    <tr>\n",
       "      <th>64</th>\n",
       "      <td>Barrio Norte</td>\n",
       "      <td>51844.103513</td>\n",
       "    </tr>\n",
       "    <tr>\n",
       "      <th>111</th>\n",
       "      <td>Villa Riachuelo</td>\n",
       "      <td>49194.505279</td>\n",
       "    </tr>\n",
       "    <tr>\n",
       "      <th>66</th>\n",
       "      <td>Boca</td>\n",
       "      <td>43825.439729</td>\n",
       "    </tr>\n",
       "    <tr>\n",
       "      <th>95</th>\n",
       "      <td>Retiro</td>\n",
       "      <td>41206.276544</td>\n",
       "    </tr>\n",
       "    <tr>\n",
       "      <th>72</th>\n",
       "      <td>Coghlan</td>\n",
       "      <td>40820.787280</td>\n",
       "    </tr>\n",
       "    <tr>\n",
       "      <th>75</th>\n",
       "      <td>Constitución</td>\n",
       "      <td>37873.225272</td>\n",
       "    </tr>\n",
       "    <tr>\n",
       "      <th>86</th>\n",
       "      <td>Parque Avellaneda</td>\n",
       "      <td>35843.435203</td>\n",
       "    </tr>\n",
       "    <tr>\n",
       "      <th>114</th>\n",
       "      <td>Villa Urquiza</td>\n",
       "      <td>35482.722780</td>\n",
       "    </tr>\n",
       "  </tbody>\n",
       "</table>\n",
       "</div>"
      ],
      "text/plain": [
       "       Nombre_Variable    Coeficiente\n",
       "93       Puerto Madero  243919.931336\n",
       "113      Villa Soldati  121622.996694\n",
       "78         Las Cañitas   98946.496987\n",
       "106       Villa Lugano   79090.107182\n",
       "92             Pompeya   77055.620661\n",
       "94            Recoleta   73172.995393\n",
       "85             Palermo   71025.817000\n",
       "65            Belgrano   69936.392788\n",
       "5      surface_covered   66767.672165\n",
       "83               Nuñez   60209.615868\n",
       "69           Catalinas   57875.721340\n",
       "4        surface_total   57827.306318\n",
       "64        Barrio Norte   51844.103513\n",
       "111    Villa Riachuelo   49194.505279\n",
       "66                Boca   43825.439729\n",
       "95              Retiro   41206.276544\n",
       "72             Coghlan   40820.787280\n",
       "75        Constitución   37873.225272\n",
       "86   Parque Avellaneda   35843.435203\n",
       "114      Villa Urquiza   35482.722780"
      ]
     },
     "execution_count": 63,
     "metadata": {},
     "output_type": "execute_result"
    }
   ],
   "source": [
    "pd.DataFrame(list(zip(coeficientes_name,coeficientes)), columns=['Nombre_Variable', 'Coeficiente']).\\\n",
    "        sort_values(by='Coeficiente', ascending=False).head(20)"
   ]
  },
  {
   "cell_type": "markdown",
   "metadata": {},
   "source": [
    "Podemos ver que  de los 20 atributos con mayor importancia 18 corresponden a pertenecer a algún barrio y en los puestos 9 y 12 de importancia tenemos la superficie cubierta y la superficie total."
   ]
  },
  {
   "cell_type": "code",
   "execution_count": 64,
   "metadata": {
    "execution": {
     "iopub.execute_input": "2021-02-23T07:16:00.722820Z",
     "iopub.status.busy": "2021-02-23T07:16:00.722820Z",
     "iopub.status.idle": "2021-02-23T07:16:09.933070Z",
     "shell.execute_reply": "2021-02-23T07:16:09.933070Z",
     "shell.execute_reply.started": "2021-02-23T07:16:00.722820Z"
    }
   },
   "outputs": [
    {
     "name": "stdout",
     "output_type": "stream",
     "text": [
      "Fitting 5 folds for each of 35 candidates, totalling 175 fits\n"
     ]
    },
    {
     "name": "stderr",
     "output_type": "stream",
     "text": [
      "[Parallel(n_jobs=12)]: Using backend LokyBackend with 12 concurrent workers.\n",
      "[Parallel(n_jobs=12)]: Done  26 tasks      | elapsed:    0.6s\n",
      "[Parallel(n_jobs=12)]: Done 175 out of 175 | elapsed:    8.6s finished\n"
     ]
    },
    {
     "data": {
      "text/plain": [
       "Pipeline(steps=[('columntransformer',\n",
       "                 ColumnTransformer(remainder='passthrough',\n",
       "                                   transformers=[('polynomialfeatures',\n",
       "                                                  PolynomialFeatures(degree=3),\n",
       "                                                  ['rooms', 'bedrooms',\n",
       "                                                   'bathrooms', 'surface_total',\n",
       "                                                   'surface_covered'])])),\n",
       "                ('ridge', Ridge(alpha=0.1))])"
      ]
     },
     "execution_count": 64,
     "metadata": {},
     "output_type": "execute_result"
    }
   ],
   "source": [
    "# Entrenamos el segundo modelo con regularización\n",
    "df_resultados=fit_predict_measure(gs_polynomial_reg_ridge, 'Polynomial Regression Ridge', data_split_list, df_resultados, dataset='transformado')\n",
    "gs_polynomial_reg_ridge.best_estimator_"
   ]
  },
  {
   "cell_type": "code",
   "execution_count": 65,
   "metadata": {
    "execution": {
     "iopub.execute_input": "2021-02-23T07:16:09.934070Z",
     "iopub.status.busy": "2021-02-23T07:16:09.934070Z",
     "iopub.status.idle": "2021-02-23T07:16:09.949074Z",
     "shell.execute_reply": "2021-02-23T07:16:09.949074Z",
     "shell.execute_reply.started": "2021-02-23T07:16:09.934070Z"
    }
   },
   "outputs": [],
   "source": [
    "## Guardamos el nombre de los coeficientes a los que se les aplico polynomialfeatures\n",
    "coeficientes_name=gs_polynomial_reg_ridge.best_estimator_[0].\\\n",
    "                    named_transformers_['polynomialfeatures'].get_feature_names()"
   ]
  },
  {
   "cell_type": "code",
   "execution_count": 66,
   "metadata": {
    "execution": {
     "iopub.execute_input": "2021-02-23T07:16:09.950073Z",
     "iopub.status.busy": "2021-02-23T07:16:09.950073Z",
     "iopub.status.idle": "2021-02-23T07:16:09.965077Z",
     "shell.execute_reply": "2021-02-23T07:16:09.965077Z",
     "shell.execute_reply.started": "2021-02-23T07:16:09.950073Z"
    }
   },
   "outputs": [],
   "source": [
    "## Ponemos el nombre correspondiente\n",
    "coeficientes_name=[x.replace('x0','rooms')\\\n",
    "                   .replace('x1','bedrooms')\\\n",
    "                   .replace('x2','bathrooms')\\\n",
    "                   .replace('x3','surface_total')\\\n",
    "                   .replace('x4','surface_covered')\\\n",
    "                   for x in coeficientes_name]"
   ]
  },
  {
   "cell_type": "code",
   "execution_count": 67,
   "metadata": {
    "execution": {
     "iopub.execute_input": "2021-02-23T07:16:09.966078Z",
     "iopub.status.busy": "2021-02-23T07:16:09.966078Z",
     "iopub.status.idle": "2021-02-23T07:16:09.981082Z",
     "shell.execute_reply": "2021-02-23T07:16:09.981082Z",
     "shell.execute_reply.started": "2021-02-23T07:16:09.966078Z"
    }
   },
   "outputs": [],
   "source": [
    "## Agregamos el resto de columnas\n",
    "coeficientes_name.extend(cat_names)"
   ]
  },
  {
   "cell_type": "code",
   "execution_count": 68,
   "metadata": {
    "execution": {
     "iopub.execute_input": "2021-02-23T07:16:09.983082Z",
     "iopub.status.busy": "2021-02-23T07:16:09.982081Z",
     "iopub.status.idle": "2021-02-23T07:16:09.998085Z",
     "shell.execute_reply": "2021-02-23T07:16:09.997084Z",
     "shell.execute_reply.started": "2021-02-23T07:16:09.982081Z"
    }
   },
   "outputs": [],
   "source": [
    "coeficientes=gs_polynomial_reg_ridge.best_estimator_[1].coef_\n",
    "coeficientes=abs(coeficientes)"
   ]
  },
  {
   "cell_type": "code",
   "execution_count": 69,
   "metadata": {
    "execution": {
     "iopub.execute_input": "2021-02-23T07:16:09.999085Z",
     "iopub.status.busy": "2021-02-23T07:16:09.999085Z",
     "iopub.status.idle": "2021-02-23T07:16:10.013089Z",
     "shell.execute_reply": "2021-02-23T07:16:10.013089Z",
     "shell.execute_reply.started": "2021-02-23T07:16:09.999085Z"
    }
   },
   "outputs": [
    {
     "data": {
      "text/html": [
       "<div>\n",
       "<style scoped>\n",
       "    .dataframe tbody tr th:only-of-type {\n",
       "        vertical-align: middle;\n",
       "    }\n",
       "\n",
       "    .dataframe tbody tr th {\n",
       "        vertical-align: top;\n",
       "    }\n",
       "\n",
       "    .dataframe thead th {\n",
       "        text-align: right;\n",
       "    }\n",
       "</style>\n",
       "<table border=\"1\" class=\"dataframe\">\n",
       "  <thead>\n",
       "    <tr style=\"text-align: right;\">\n",
       "      <th></th>\n",
       "      <th>Nombre_Variable</th>\n",
       "      <th>Coeficiente</th>\n",
       "    </tr>\n",
       "  </thead>\n",
       "  <tbody>\n",
       "    <tr>\n",
       "      <th>93</th>\n",
       "      <td>Puerto Madero</td>\n",
       "      <td>243841.943780</td>\n",
       "    </tr>\n",
       "    <tr>\n",
       "      <th>113</th>\n",
       "      <td>Villa Soldati</td>\n",
       "      <td>121388.838788</td>\n",
       "    </tr>\n",
       "    <tr>\n",
       "      <th>78</th>\n",
       "      <td>Las Cañitas</td>\n",
       "      <td>98886.128089</td>\n",
       "    </tr>\n",
       "    <tr>\n",
       "      <th>106</th>\n",
       "      <td>Villa Lugano</td>\n",
       "      <td>79098.559987</td>\n",
       "    </tr>\n",
       "    <tr>\n",
       "      <th>92</th>\n",
       "      <td>Pompeya</td>\n",
       "      <td>77038.691391</td>\n",
       "    </tr>\n",
       "    <tr>\n",
       "      <th>94</th>\n",
       "      <td>Recoleta</td>\n",
       "      <td>73134.796377</td>\n",
       "    </tr>\n",
       "    <tr>\n",
       "      <th>85</th>\n",
       "      <td>Palermo</td>\n",
       "      <td>70988.758989</td>\n",
       "    </tr>\n",
       "    <tr>\n",
       "      <th>65</th>\n",
       "      <td>Belgrano</td>\n",
       "      <td>69898.143891</td>\n",
       "    </tr>\n",
       "    <tr>\n",
       "      <th>5</th>\n",
       "      <td>surface_covered</td>\n",
       "      <td>66770.628100</td>\n",
       "    </tr>\n",
       "    <tr>\n",
       "      <th>83</th>\n",
       "      <td>Nuñez</td>\n",
       "      <td>60168.643404</td>\n",
       "    </tr>\n",
       "    <tr>\n",
       "      <th>4</th>\n",
       "      <td>surface_total</td>\n",
       "      <td>57824.838349</td>\n",
       "    </tr>\n",
       "    <tr>\n",
       "      <th>69</th>\n",
       "      <td>Catalinas</td>\n",
       "      <td>56498.579994</td>\n",
       "    </tr>\n",
       "    <tr>\n",
       "      <th>64</th>\n",
       "      <td>Barrio Norte</td>\n",
       "      <td>51805.502983</td>\n",
       "    </tr>\n",
       "    <tr>\n",
       "      <th>111</th>\n",
       "      <td>Villa Riachuelo</td>\n",
       "      <td>49039.529338</td>\n",
       "    </tr>\n",
       "    <tr>\n",
       "      <th>66</th>\n",
       "      <td>Boca</td>\n",
       "      <td>43840.355179</td>\n",
       "    </tr>\n",
       "    <tr>\n",
       "      <th>95</th>\n",
       "      <td>Retiro</td>\n",
       "      <td>41161.605551</td>\n",
       "    </tr>\n",
       "    <tr>\n",
       "      <th>72</th>\n",
       "      <td>Coghlan</td>\n",
       "      <td>40774.653898</td>\n",
       "    </tr>\n",
       "    <tr>\n",
       "      <th>75</th>\n",
       "      <td>Constitución</td>\n",
       "      <td>37895.401993</td>\n",
       "    </tr>\n",
       "    <tr>\n",
       "      <th>86</th>\n",
       "      <td>Parque Avellaneda</td>\n",
       "      <td>35857.011675</td>\n",
       "    </tr>\n",
       "    <tr>\n",
       "      <th>114</th>\n",
       "      <td>Villa Urquiza</td>\n",
       "      <td>35445.408858</td>\n",
       "    </tr>\n",
       "  </tbody>\n",
       "</table>\n",
       "</div>"
      ],
      "text/plain": [
       "       Nombre_Variable    Coeficiente\n",
       "93       Puerto Madero  243841.943780\n",
       "113      Villa Soldati  121388.838788\n",
       "78         Las Cañitas   98886.128089\n",
       "106       Villa Lugano   79098.559987\n",
       "92             Pompeya   77038.691391\n",
       "94            Recoleta   73134.796377\n",
       "85             Palermo   70988.758989\n",
       "65            Belgrano   69898.143891\n",
       "5      surface_covered   66770.628100\n",
       "83               Nuñez   60168.643404\n",
       "4        surface_total   57824.838349\n",
       "69           Catalinas   56498.579994\n",
       "64        Barrio Norte   51805.502983\n",
       "111    Villa Riachuelo   49039.529338\n",
       "66                Boca   43840.355179\n",
       "95              Retiro   41161.605551\n",
       "72             Coghlan   40774.653898\n",
       "75        Constitución   37895.401993\n",
       "86   Parque Avellaneda   35857.011675\n",
       "114      Villa Urquiza   35445.408858"
      ]
     },
     "execution_count": 69,
     "metadata": {},
     "output_type": "execute_result"
    }
   ],
   "source": [
    "pd.DataFrame(list(zip(coeficientes_name,coeficientes)), columns=['Nombre_Variable', 'Coeficiente']).\\\n",
    "        sort_values(by='Coeficiente', ascending=False).head(20)"
   ]
  },
  {
   "cell_type": "markdown",
   "metadata": {
    "execution": {
     "iopub.execute_input": "2021-02-23T06:05:52.497555Z",
     "iopub.status.busy": "2021-02-23T06:05:52.497555Z",
     "iopub.status.idle": "2021-02-23T06:05:52.503547Z",
     "shell.execute_reply": "2021-02-23T06:05:52.503547Z",
     "shell.execute_reply.started": "2021-02-23T06:05:52.497555Z"
    }
   },
   "source": [
    "Con regularización la importancia de los atributos sigue muy similar a la vista sin regularización"
   ]
  },
  {
   "cell_type": "code",
   "execution_count": 70,
   "metadata": {
    "execution": {
     "iopub.execute_input": "2021-02-23T07:16:10.015090Z",
     "iopub.status.busy": "2021-02-23T07:16:10.014089Z",
     "iopub.status.idle": "2021-02-23T07:16:10.029091Z",
     "shell.execute_reply": "2021-02-23T07:16:10.029091Z",
     "shell.execute_reply.started": "2021-02-23T07:16:10.015090Z"
    }
   },
   "outputs": [
    {
     "data": {
      "text/html": [
       "<div>\n",
       "<style scoped>\n",
       "    .dataframe tbody tr th:only-of-type {\n",
       "        vertical-align: middle;\n",
       "    }\n",
       "\n",
       "    .dataframe tbody tr th {\n",
       "        vertical-align: top;\n",
       "    }\n",
       "\n",
       "    .dataframe thead tr th {\n",
       "        text-align: left;\n",
       "    }\n",
       "\n",
       "    .dataframe thead tr:last-of-type th {\n",
       "        text-align: right;\n",
       "    }\n",
       "</style>\n",
       "<table border=\"1\" class=\"dataframe\">\n",
       "  <thead>\n",
       "    <tr>\n",
       "      <th></th>\n",
       "      <th colspan=\"2\" halign=\"left\">r2</th>\n",
       "      <th colspan=\"2\" halign=\"left\">rmse</th>\n",
       "    </tr>\n",
       "    <tr>\n",
       "      <th>subset</th>\n",
       "      <th>test</th>\n",
       "      <th>train</th>\n",
       "      <th>test</th>\n",
       "      <th>train</th>\n",
       "    </tr>\n",
       "    <tr>\n",
       "      <th>modelo</th>\n",
       "      <th></th>\n",
       "      <th></th>\n",
       "      <th></th>\n",
       "      <th></th>\n",
       "    </tr>\n",
       "  </thead>\n",
       "  <tbody>\n",
       "    <tr>\n",
       "      <th>DecisionTree Reg</th>\n",
       "      <td>0.840396</td>\n",
       "      <td>0.968592</td>\n",
       "      <td>52115.986474</td>\n",
       "      <td>22846.831116</td>\n",
       "    </tr>\n",
       "    <tr>\n",
       "      <th>DecisionTree Reg-Opt</th>\n",
       "      <td>0.828859</td>\n",
       "      <td>0.902704</td>\n",
       "      <td>53966.816515</td>\n",
       "      <td>40211.578136</td>\n",
       "    </tr>\n",
       "    <tr>\n",
       "      <th>KNeighbors Reg</th>\n",
       "      <td>0.840041</td>\n",
       "      <td>0.889738</td>\n",
       "      <td>52173.931767</td>\n",
       "      <td>42807.118330</td>\n",
       "    </tr>\n",
       "    <tr>\n",
       "      <th>KNeighbors Reg-Opt</th>\n",
       "      <td>0.842394</td>\n",
       "      <td>0.911447</td>\n",
       "      <td>51788.778298</td>\n",
       "      <td>38362.209358</td>\n",
       "    </tr>\n",
       "    <tr>\n",
       "      <th>Linear Reg</th>\n",
       "      <td>0.734189</td>\n",
       "      <td>0.736148</td>\n",
       "      <td>67256.771451</td>\n",
       "      <td>66218.978264</td>\n",
       "    </tr>\n",
       "    <tr>\n",
       "      <th>Polynomial Regression</th>\n",
       "      <td>0.765037</td>\n",
       "      <td>0.772720</td>\n",
       "      <td>63233.787505</td>\n",
       "      <td>61458.620616</td>\n",
       "    </tr>\n",
       "    <tr>\n",
       "      <th>Polynomial Regression Ridge</th>\n",
       "      <td>0.765042</td>\n",
       "      <td>0.772720</td>\n",
       "      <td>63233.177677</td>\n",
       "      <td>61458.622696</td>\n",
       "    </tr>\n",
       "  </tbody>\n",
       "</table>\n",
       "</div>"
      ],
      "text/plain": [
       "                                   r2                    rmse              \n",
       "subset                           test     train          test         train\n",
       "modelo                                                                     \n",
       "DecisionTree Reg             0.840396  0.968592  52115.986474  22846.831116\n",
       "DecisionTree Reg-Opt         0.828859  0.902704  53966.816515  40211.578136\n",
       "KNeighbors Reg               0.840041  0.889738  52173.931767  42807.118330\n",
       "KNeighbors Reg-Opt           0.842394  0.911447  51788.778298  38362.209358\n",
       "Linear Reg                   0.734189  0.736148  67256.771451  66218.978264\n",
       "Polynomial Regression        0.765037  0.772720  63233.787505  61458.620616\n",
       "Polynomial Regression Ridge  0.765042  0.772720  63233.177677  61458.622696"
      ]
     },
     "execution_count": 70,
     "metadata": {},
     "output_type": "execute_result"
    }
   ],
   "source": [
    "df_resultados[df_resultados.dataset=='transformado'].pivot(index='modelo', columns='subset', values=['r2', 'rmse'])"
   ]
  },
  {
   "cell_type": "markdown",
   "metadata": {},
   "source": [
    "Observamos una mejora de la regresión polinómica con respecto a la lineal pero el efecto de la regularización no mejoro mucho el modelo, no obstante siguen siendo mejores el resto de modelos"
   ]
  },
  {
   "cell_type": "code",
   "execution_count": 71,
   "metadata": {
    "execution": {
     "iopub.execute_input": "2021-02-23T07:16:10.031092Z",
     "iopub.status.busy": "2021-02-23T07:16:10.030092Z",
     "iopub.status.idle": "2021-02-23T07:16:10.045095Z",
     "shell.execute_reply": "2021-02-23T07:16:10.045095Z",
     "shell.execute_reply.started": "2021-02-23T07:16:10.031092Z"
    }
   },
   "outputs": [],
   "source": [
    "lineal_models_list=['Linear Reg','Polynomial Regression','Polynomial Regression Ridge']"
   ]
  },
  {
   "cell_type": "code",
   "execution_count": 72,
   "metadata": {
    "execution": {
     "iopub.execute_input": "2021-02-23T07:16:10.046095Z",
     "iopub.status.busy": "2021-02-23T07:16:10.046095Z",
     "iopub.status.idle": "2021-02-23T07:16:10.060098Z",
     "shell.execute_reply": "2021-02-23T07:16:10.060098Z",
     "shell.execute_reply.started": "2021-02-23T07:16:10.046095Z"
    }
   },
   "outputs": [
    {
     "data": {
      "text/html": [
       "<div>\n",
       "<style scoped>\n",
       "    .dataframe tbody tr th:only-of-type {\n",
       "        vertical-align: middle;\n",
       "    }\n",
       "\n",
       "    .dataframe tbody tr th {\n",
       "        vertical-align: top;\n",
       "    }\n",
       "\n",
       "    .dataframe thead tr th {\n",
       "        text-align: left;\n",
       "    }\n",
       "\n",
       "    .dataframe thead tr:last-of-type th {\n",
       "        text-align: right;\n",
       "    }\n",
       "</style>\n",
       "<table border=\"1\" class=\"dataframe\">\n",
       "  <thead>\n",
       "    <tr>\n",
       "      <th></th>\n",
       "      <th colspan=\"2\" halign=\"left\">r2</th>\n",
       "      <th colspan=\"2\" halign=\"left\">rmse</th>\n",
       "    </tr>\n",
       "    <tr>\n",
       "      <th>subset</th>\n",
       "      <th>test</th>\n",
       "      <th>train</th>\n",
       "      <th>test</th>\n",
       "      <th>train</th>\n",
       "    </tr>\n",
       "    <tr>\n",
       "      <th>modelo</th>\n",
       "      <th></th>\n",
       "      <th></th>\n",
       "      <th></th>\n",
       "      <th></th>\n",
       "    </tr>\n",
       "  </thead>\n",
       "  <tbody>\n",
       "    <tr>\n",
       "      <th>DecisionTree Reg</th>\n",
       "      <td>0.840396</td>\n",
       "      <td>0.968592</td>\n",
       "      <td>52115.986474</td>\n",
       "      <td>22846.831116</td>\n",
       "    </tr>\n",
       "    <tr>\n",
       "      <th>DecisionTree Reg-Opt</th>\n",
       "      <td>0.828859</td>\n",
       "      <td>0.902704</td>\n",
       "      <td>53966.816515</td>\n",
       "      <td>40211.578136</td>\n",
       "    </tr>\n",
       "    <tr>\n",
       "      <th>KNeighbors Reg</th>\n",
       "      <td>0.840041</td>\n",
       "      <td>0.889738</td>\n",
       "      <td>52173.931767</td>\n",
       "      <td>42807.118330</td>\n",
       "    </tr>\n",
       "    <tr>\n",
       "      <th>KNeighbors Reg-Opt</th>\n",
       "      <td>0.842394</td>\n",
       "      <td>0.911447</td>\n",
       "      <td>51788.778298</td>\n",
       "      <td>38362.209358</td>\n",
       "    </tr>\n",
       "    <tr>\n",
       "      <th>Linear Reg</th>\n",
       "      <td>0.734189</td>\n",
       "      <td>0.736148</td>\n",
       "      <td>67256.771451</td>\n",
       "      <td>66218.978264</td>\n",
       "    </tr>\n",
       "    <tr>\n",
       "      <th>Polynomial Regression</th>\n",
       "      <td>0.765037</td>\n",
       "      <td>0.772720</td>\n",
       "      <td>63233.787505</td>\n",
       "      <td>61458.620616</td>\n",
       "    </tr>\n",
       "    <tr>\n",
       "      <th>Polynomial Regression Ridge</th>\n",
       "      <td>0.765042</td>\n",
       "      <td>0.772720</td>\n",
       "      <td>63233.177677</td>\n",
       "      <td>61458.622696</td>\n",
       "    </tr>\n",
       "  </tbody>\n",
       "</table>\n",
       "</div>"
      ],
      "text/plain": [
       "                                   r2                    rmse              \n",
       "subset                           test     train          test         train\n",
       "modelo                                                                     \n",
       "DecisionTree Reg             0.840396  0.968592  52115.986474  22846.831116\n",
       "DecisionTree Reg-Opt         0.828859  0.902704  53966.816515  40211.578136\n",
       "KNeighbors Reg               0.840041  0.889738  52173.931767  42807.118330\n",
       "KNeighbors Reg-Opt           0.842394  0.911447  51788.778298  38362.209358\n",
       "Linear Reg                   0.734189  0.736148  67256.771451  66218.978264\n",
       "Polynomial Regression        0.765037  0.772720  63233.787505  61458.620616\n",
       "Polynomial Regression Ridge  0.765042  0.772720  63233.177677  61458.622696"
      ]
     },
     "execution_count": 72,
     "metadata": {},
     "output_type": "execute_result"
    }
   ],
   "source": [
    "df_resultados[df_resultados.dataset=='transformado'].pivot(index='modelo', columns='subset', values=['r2', 'rmse'])"
   ]
  },
  {
   "cell_type": "code",
   "execution_count": 73,
   "metadata": {
    "execution": {
     "iopub.execute_input": "2021-02-23T07:16:10.062099Z",
     "iopub.status.busy": "2021-02-23T07:16:10.061099Z",
     "iopub.status.idle": "2021-02-23T07:16:10.076103Z",
     "shell.execute_reply": "2021-02-23T07:16:10.076103Z",
     "shell.execute_reply.started": "2021-02-23T07:16:10.062099Z"
    }
   },
   "outputs": [],
   "source": [
    "lineal_models=df_resultados[df_resultados.dataset=='transformado']\n",
    "lineal_models=lineal_models[lineal_models.modelo.isin(lineal_models_list)]"
   ]
  },
  {
   "cell_type": "code",
   "execution_count": 74,
   "metadata": {
    "execution": {
     "iopub.execute_input": "2021-02-23T07:16:10.078102Z",
     "iopub.status.busy": "2021-02-23T07:16:10.077103Z",
     "iopub.status.idle": "2021-02-23T07:16:10.267146Z",
     "shell.execute_reply": "2021-02-23T07:16:10.267146Z",
     "shell.execute_reply.started": "2021-02-23T07:16:10.078102Z"
    }
   },
   "outputs": [
    {
     "data": {
      "image/png": "[encoded data removed]",
      "text/plain": [
       "<Figure size 720x576 with 1 Axes>"
      ]
     },
     "metadata": {},
     "output_type": "display_data"
    }
   ],
   "source": [
    "fig=plt.figure(figsize=(10, 8))\n",
    "a=sns.barplot(y=\"modelo\", \n",
    "            x=\"r2\", \n",
    "            hue=\"subset\",\n",
    "            data=lineal_models)\n",
    "\n",
    "a.set_xlim(0,1)\n",
    "show_values_horizontal(a, fig,offset=(-50, 25))"
   ]
  },
  {
   "cell_type": "markdown",
   "metadata": {},
   "source": [
    "## 6.2. XGBoost"
   ]
  },
  {
   "cell_type": "code",
   "execution_count": 75,
   "metadata": {
    "execution": {
     "iopub.execute_input": "2021-02-23T07:16:10.268146Z",
     "iopub.status.busy": "2021-02-23T07:16:10.268146Z",
     "iopub.status.idle": "2021-02-23T07:16:10.875344Z",
     "shell.execute_reply": "2021-02-23T07:16:10.875344Z",
     "shell.execute_reply.started": "2021-02-23T07:16:10.268146Z"
    }
   },
   "outputs": [],
   "source": [
    "import xgboost as xgb\n",
    "tree_models_list=['DecisionTree Reg','DecisionTree Reg-Opt', 'XGBoost', 'XGBoost Opt']"
   ]
  },
  {
   "cell_type": "markdown",
   "metadata": {},
   "source": [
    "El numero de estimadores es un parámetro que mejora tanto el desempeño en train como en test pero entre mas grande sea mas costo computacional tendrá por lo que se probara primero como este afecta el desempeño tanto en train como en test para elegir un valor que de un buen resultado sin demorar demasiado para poder ajustar el resto de parámetros mediante gridsearch"
   ]
  },
  {
   "cell_type": "code",
   "execution_count": 76,
   "metadata": {
    "execution": {
     "iopub.execute_input": "2021-02-23T07:16:10.876344Z",
     "iopub.status.busy": "2021-02-23T07:16:10.876344Z",
     "iopub.status.idle": "2021-02-23T07:17:14.031597Z",
     "shell.execute_reply": "2021-02-23T07:17:14.031597Z",
     "shell.execute_reply.started": "2021-02-23T07:16:10.876344Z"
    }
   },
   "outputs": [],
   "source": [
    "list_n_estimators= np.arange(100,1100,100)\n",
    "list_r_train=[]\n",
    "list_r_test=[]\n",
    "for i in list_n_estimators:\n",
    "    xg_reg = xgb.XGBRegressor(max_depth = 6, n_estimators = i , n_jobs=1, verbosity=1,\n",
    "                          tree_method='hist')\n",
    "    xg_reg.fit(X_train, y_train)\n",
    "    y_train_pred = xg_reg.predict(X_train)\n",
    "    y_test_pred = xg_reg.predict(X_test)\n",
    "    list_r_train.append(r2_score(y_train, y_train_pred))\n",
    "    list_r_test.append(r2_score(y_test, y_test_pred))"
   ]
  },
  {
   "cell_type": "code",
   "execution_count": 77,
   "metadata": {
    "execution": {
     "iopub.execute_input": "2021-02-23T07:17:14.032598Z",
     "iopub.status.busy": "2021-02-23T07:17:14.032598Z",
     "iopub.status.idle": "2021-02-23T07:17:14.271456Z",
     "shell.execute_reply": "2021-02-23T07:17:14.271456Z",
     "shell.execute_reply.started": "2021-02-23T07:17:14.032598Z"
    }
   },
   "outputs": [
    {
     "data": {
      "image/png": "[encoded data removed]",
      "text/plain": [
       "<Figure size 432x288 with 1 Axes>"
      ]
     },
     "metadata": {},
     "output_type": "display_data"
    }
   ],
   "source": [
    "plt.figure()\n",
    "plt.plot(list_n_estimators,list_r_train)\n",
    "plt.plot(list_n_estimators,list_r_test)\n",
    "plt.xticks(np.arange(0, 1100,step=100))\n",
    "plt.ylabel('r2')\n",
    "plt.xlabel('n_estimators')\n",
    "plt.legend(['train','test'])\n",
    "plt.show()"
   ]
  },
  {
   "cell_type": "markdown",
   "metadata": {},
   "source": [
    "A partir de 700 estimadores las mejoras son minimas por lo que usaremos este valor para el gridsearch de los demas parametros"
   ]
  },
  {
   "cell_type": "code",
   "execution_count": 78,
   "metadata": {
    "execution": {
     "iopub.execute_input": "2021-02-23T07:17:14.272457Z",
     "iopub.status.busy": "2021-02-23T07:17:14.272457Z",
     "iopub.status.idle": "2021-02-23T07:17:14.287460Z",
     "shell.execute_reply": "2021-02-23T07:17:14.287460Z",
     "shell.execute_reply.started": "2021-02-23T07:17:14.272457Z"
    }
   },
   "outputs": [],
   "source": [
    "xg_reg = xgb.XGBRegressor(max_depth = 6, n_estimators = 700 , n_jobs=1, verbosity=1,\n",
    "                          tree_method='hist')"
   ]
  },
  {
   "cell_type": "code",
   "execution_count": 79,
   "metadata": {
    "execution": {
     "iopub.execute_input": "2021-02-23T07:17:14.288460Z",
     "iopub.status.busy": "2021-02-23T07:17:14.288460Z",
     "iopub.status.idle": "2021-02-23T07:17:22.400279Z",
     "shell.execute_reply": "2021-02-23T07:17:22.400279Z",
     "shell.execute_reply.started": "2021-02-23T07:17:14.288460Z"
    }
   },
   "outputs": [],
   "source": [
    "df_resultados=fit_predict_measure(xg_reg, tree_models_list[2], data_split_list, df_resultados, dataset='transformado')"
   ]
  },
  {
   "cell_type": "code",
   "execution_count": 80,
   "metadata": {
    "execution": {
     "iopub.execute_input": "2021-02-23T07:17:22.401280Z",
     "iopub.status.busy": "2021-02-23T07:17:22.401280Z",
     "iopub.status.idle": "2021-02-23T07:17:22.416282Z",
     "shell.execute_reply": "2021-02-23T07:17:22.416282Z",
     "shell.execute_reply.started": "2021-02-23T07:17:22.401280Z"
    }
   },
   "outputs": [],
   "source": [
    "parameters = {\n",
    "                'n_jobs':[1], #when use hyperthread, xgboost may become slower\n",
    "                'learning_rate': [0.05, 0.15, 0.30 ] , #so called `eta` value\n",
    "                'max_depth': [10,12,13],\n",
    "                'verbosity': [1],\n",
    "                'min_child_weight':[1, 3],\n",
    "                'colsample_bytree': [0.7, 1.0 ],\n",
    "                'n_estimators': [700],\n",
    "                'tree_method':['hist']\n",
    "             }\n",
    "\n",
    "xgb_grid = GridSearchCV(xgb.XGBRegressor(),\n",
    "                        parameters,\n",
    "                        cv = 5,\n",
    "                        n_jobs = 12,\n",
    "                        verbose=True)"
   ]
  },
  {
   "cell_type": "markdown",
   "metadata": {},
   "source": [
    "Se eligieron como parámetros a ajustar:\n",
    "* **learning_rate:** es la velocidad de aprendizaje que al aumentar el modelo aprende mas rápido por lo que se ajusta mejor a los datos de entrenamiento.\n",
    "* **max_depth:** es la profundidad máxima de los arboles que al aumentar la profundidad se ajusta mejor a los datos de entrenamiento.\n",
    "* **min_child_weight:** es el numero mínimo de instancias que debe tener un árbol, si se llega a este numero el modelo dejara de construir nuevas separaciones. al aumentar ayuda a regularizar y evitar el sobre-ajuste.\n",
    "* **colsample_bytree:** es la fracción de características (seleccionadas al azar) que se utilizarán para entrenar cada árbol al disminuir el numero de columnas se ayuda a regularizar y evitar el sobre-ajuste."
   ]
  },
  {
   "cell_type": "code",
   "execution_count": 81,
   "metadata": {
    "execution": {
     "iopub.execute_input": "2021-02-23T07:17:22.418283Z",
     "iopub.status.busy": "2021-02-23T07:17:22.417283Z",
     "iopub.status.idle": "2021-02-23T07:21:27.375135Z",
     "shell.execute_reply": "2021-02-23T07:21:27.375135Z",
     "shell.execute_reply.started": "2021-02-23T07:17:22.418283Z"
    }
   },
   "outputs": [
    {
     "name": "stdout",
     "output_type": "stream",
     "text": [
      "Fitting 5 folds for each of 36 candidates, totalling 180 fits\n"
     ]
    },
    {
     "name": "stderr",
     "output_type": "stream",
     "text": [
      "[Parallel(n_jobs=12)]: Using backend LokyBackend with 12 concurrent workers.\n",
      "[Parallel(n_jobs=12)]: Done  26 tasks      | elapsed:   43.5s\n",
      "[Parallel(n_jobs=12)]: Done 180 out of 180 | elapsed:  3.8min finished\n"
     ]
    }
   ],
   "source": [
    "df_resultados=fit_predict_measure(xgb_grid, tree_models_list[3], data_split_list, df_resultados, dataset='transformado')"
   ]
  },
  {
   "cell_type": "code",
   "execution_count": 82,
   "metadata": {
    "execution": {
     "iopub.execute_input": "2021-02-23T07:21:27.376145Z",
     "iopub.status.busy": "2021-02-23T07:21:27.376145Z",
     "iopub.status.idle": "2021-02-23T07:21:27.392140Z",
     "shell.execute_reply": "2021-02-23T07:21:27.391139Z",
     "shell.execute_reply.started": "2021-02-23T07:21:27.376145Z"
    }
   },
   "outputs": [
    {
     "data": {
      "text/plain": [
       "XGBRegressor(base_score=0.5, booster='gbtree', colsample_bylevel=1,\n",
       "             colsample_bynode=1, colsample_bytree=0.7, gamma=0, gpu_id=-1,\n",
       "             importance_type='gain', interaction_constraints='',\n",
       "             learning_rate=0.05, max_delta_step=0, max_depth=13,\n",
       "             min_child_weight=1, missing=nan, monotone_constraints='()',\n",
       "             n_estimators=700, n_jobs=1, num_parallel_tree=1, random_state=0,\n",
       "             reg_alpha=0, reg_lambda=1, scale_pos_weight=1, subsample=1,\n",
       "             tree_method='hist', validate_parameters=1, verbosity=1)"
      ]
     },
     "execution_count": 82,
     "metadata": {},
     "output_type": "execute_result"
    }
   ],
   "source": [
    "xgb_grid.best_estimator_"
   ]
  },
  {
   "cell_type": "markdown",
   "metadata": {},
   "source": [
    "Con el mejor modelo del gridsearch volvemos a analizar la cantidad de estimadores"
   ]
  },
  {
   "cell_type": "code",
   "execution_count": 83,
   "metadata": {
    "execution": {
     "iopub.execute_input": "2021-02-23T07:21:27.393139Z",
     "iopub.status.busy": "2021-02-23T07:21:27.393139Z",
     "iopub.status.idle": "2021-02-23T07:25:55.041543Z",
     "shell.execute_reply": "2021-02-23T07:25:55.041543Z",
     "shell.execute_reply.started": "2021-02-23T07:21:27.393139Z"
    }
   },
   "outputs": [],
   "source": [
    "list_n_estimators= np.arange(100,1500,100)\n",
    "list_r_train=[]\n",
    "list_r_test=[]\n",
    "for i in list_n_estimators:\n",
    "    xg_reg_opt = xgb.XGBRegressor(base_score=0.5, booster='gbtree', colsample_bylevel=1,\n",
    "             colsample_bynode=1, colsample_bytree=0.7, gamma=0, gpu_id=-1,\n",
    "             importance_type='gain', interaction_constraints='',\n",
    "             learning_rate=0.05, max_delta_step=0, max_depth=13,\n",
    "             min_child_weight=1, monotone_constraints='()',\n",
    "             n_estimators=i, n_jobs=1, num_parallel_tree=1, random_state=0,\n",
    "             reg_alpha=0, reg_lambda=1, scale_pos_weight=1, subsample=1,\n",
    "             tree_method='hist', validate_parameters=1, verbosity=1)\n",
    "\n",
    "    \n",
    "    xg_reg_opt.fit(X_train, y_train)\n",
    "    y_train_pred = xg_reg_opt.predict(X_train)\n",
    "    y_test_pred = xg_reg_opt.predict(X_test)\n",
    "    list_r_train.append(r2_score(y_train, y_train_pred))\n",
    "    list_r_test.append(r2_score(y_test, y_test_pred))"
   ]
  },
  {
   "cell_type": "code",
   "execution_count": 84,
   "metadata": {
    "execution": {
     "iopub.execute_input": "2021-02-23T07:25:55.042544Z",
     "iopub.status.busy": "2021-02-23T07:25:55.042544Z",
     "iopub.status.idle": "2021-02-23T07:25:55.201579Z",
     "shell.execute_reply": "2021-02-23T07:25:55.201579Z",
     "shell.execute_reply.started": "2021-02-23T07:25:55.042544Z"
    }
   },
   "outputs": [
    {
     "data": {
      "image/png": "[encoded data removed]",
      "text/plain": [
       "<Figure size 432x288 with 1 Axes>"
      ]
     },
     "metadata": {},
     "output_type": "display_data"
    }
   ],
   "source": [
    "plt.figure()\n",
    "plt.plot(list_n_estimators,list_r_train)\n",
    "plt.plot(list_n_estimators,list_r_test)\n",
    "plt.xticks(np.arange(0, 1500,step=200))\n",
    "plt.ylabel('r2')\n",
    "plt.xlabel('n_estimators')\n",
    "plt.legend(['train','test'])\n",
    "plt.show()"
   ]
  },
  {
   "cell_type": "markdown",
   "metadata": {},
   "source": [
    "A partir de 1000 estimadores el desempeño en test es  casi igual por lo que usaremos el modelo con 1000 estimadores"
   ]
  },
  {
   "cell_type": "code",
   "execution_count": 85,
   "metadata": {
    "execution": {
     "iopub.execute_input": "2021-02-23T07:25:55.202580Z",
     "iopub.status.busy": "2021-02-23T07:25:55.202580Z",
     "iopub.status.idle": "2021-02-23T07:25:55.217583Z",
     "shell.execute_reply": "2021-02-23T07:25:55.217583Z",
     "shell.execute_reply.started": "2021-02-23T07:25:55.202580Z"
    }
   },
   "outputs": [],
   "source": [
    "xg_reg_opt = xgb.XGBRegressor(base_score=0.5, booster='gbtree', colsample_bylevel=1,\n",
    "             colsample_bynode=1, colsample_bytree=0.7, gamma=0, gpu_id=-1,\n",
    "             importance_type='gain', interaction_constraints='',\n",
    "             learning_rate=0.05, max_delta_step=0, max_depth=13,\n",
    "             min_child_weight=1, monotone_constraints='()',\n",
    "             n_estimators=1000, n_jobs=1, num_parallel_tree=1, random_state=0,\n",
    "             reg_alpha=0, reg_lambda=1, scale_pos_weight=1, subsample=1,\n",
    "             tree_method='hist', validate_parameters=1, verbosity=1)"
   ]
  },
  {
   "cell_type": "code",
   "execution_count": 86,
   "metadata": {
    "execution": {
     "iopub.execute_input": "2021-02-23T07:25:55.218584Z",
     "iopub.status.busy": "2021-02-23T07:25:55.218584Z",
     "iopub.status.idle": "2021-02-23T07:26:20.629126Z",
     "shell.execute_reply": "2021-02-23T07:26:20.629126Z",
     "shell.execute_reply.started": "2021-02-23T07:25:55.218584Z"
    }
   },
   "outputs": [],
   "source": [
    "df_resultados=df_resultados[:-2]  # Eliminamos de la tabla los valores que vamos a remplazar\n",
    "df_resultados=fit_predict_measure(xg_reg_opt, tree_models_list[3], data_split_list, df_resultados, dataset='transformado')"
   ]
  },
  {
   "cell_type": "code",
   "execution_count": 87,
   "metadata": {
    "execution": {
     "iopub.execute_input": "2021-02-23T07:26:20.631127Z",
     "iopub.status.busy": "2021-02-23T07:26:20.630125Z",
     "iopub.status.idle": "2021-02-23T07:26:20.645130Z",
     "shell.execute_reply": "2021-02-23T07:26:20.645130Z",
     "shell.execute_reply.started": "2021-02-23T07:26:20.631127Z"
    }
   },
   "outputs": [
    {
     "data": {
      "text/html": [
       "<div>\n",
       "<style scoped>\n",
       "    .dataframe tbody tr th:only-of-type {\n",
       "        vertical-align: middle;\n",
       "    }\n",
       "\n",
       "    .dataframe tbody tr th {\n",
       "        vertical-align: top;\n",
       "    }\n",
       "\n",
       "    .dataframe thead tr th {\n",
       "        text-align: left;\n",
       "    }\n",
       "\n",
       "    .dataframe thead tr:last-of-type th {\n",
       "        text-align: right;\n",
       "    }\n",
       "</style>\n",
       "<table border=\"1\" class=\"dataframe\">\n",
       "  <thead>\n",
       "    <tr>\n",
       "      <th></th>\n",
       "      <th colspan=\"2\" halign=\"left\">r2</th>\n",
       "      <th colspan=\"2\" halign=\"left\">rmse</th>\n",
       "    </tr>\n",
       "    <tr>\n",
       "      <th>subset</th>\n",
       "      <th>test</th>\n",
       "      <th>train</th>\n",
       "      <th>test</th>\n",
       "      <th>train</th>\n",
       "    </tr>\n",
       "    <tr>\n",
       "      <th>modelo</th>\n",
       "      <th></th>\n",
       "      <th></th>\n",
       "      <th></th>\n",
       "      <th></th>\n",
       "    </tr>\n",
       "  </thead>\n",
       "  <tbody>\n",
       "    <tr>\n",
       "      <th>DecisionTree Reg</th>\n",
       "      <td>0.840396</td>\n",
       "      <td>0.968592</td>\n",
       "      <td>52115.986474</td>\n",
       "      <td>22846.831116</td>\n",
       "    </tr>\n",
       "    <tr>\n",
       "      <th>DecisionTree Reg-Opt</th>\n",
       "      <td>0.828859</td>\n",
       "      <td>0.902704</td>\n",
       "      <td>53966.816515</td>\n",
       "      <td>40211.578136</td>\n",
       "    </tr>\n",
       "    <tr>\n",
       "      <th>KNeighbors Reg</th>\n",
       "      <td>0.840041</td>\n",
       "      <td>0.889738</td>\n",
       "      <td>52173.931767</td>\n",
       "      <td>42807.118330</td>\n",
       "    </tr>\n",
       "    <tr>\n",
       "      <th>KNeighbors Reg-Opt</th>\n",
       "      <td>0.842394</td>\n",
       "      <td>0.911447</td>\n",
       "      <td>51788.778298</td>\n",
       "      <td>38362.209358</td>\n",
       "    </tr>\n",
       "    <tr>\n",
       "      <th>Linear Reg</th>\n",
       "      <td>0.734189</td>\n",
       "      <td>0.736148</td>\n",
       "      <td>67256.771451</td>\n",
       "      <td>66218.978264</td>\n",
       "    </tr>\n",
       "    <tr>\n",
       "      <th>Polynomial Regression</th>\n",
       "      <td>0.765037</td>\n",
       "      <td>0.772720</td>\n",
       "      <td>63233.787505</td>\n",
       "      <td>61458.620616</td>\n",
       "    </tr>\n",
       "    <tr>\n",
       "      <th>Polynomial Regression Ridge</th>\n",
       "      <td>0.765042</td>\n",
       "      <td>0.772720</td>\n",
       "      <td>63233.177677</td>\n",
       "      <td>61458.622696</td>\n",
       "    </tr>\n",
       "    <tr>\n",
       "      <th>XGBoost</th>\n",
       "      <td>0.875865</td>\n",
       "      <td>0.936830</td>\n",
       "      <td>45961.864755</td>\n",
       "      <td>32400.932164</td>\n",
       "    </tr>\n",
       "    <tr>\n",
       "      <th>XGBoost Opt</th>\n",
       "      <td>0.885043</td>\n",
       "      <td>0.955070</td>\n",
       "      <td>44230.104516</td>\n",
       "      <td>27325.735196</td>\n",
       "    </tr>\n",
       "  </tbody>\n",
       "</table>\n",
       "</div>"
      ],
      "text/plain": [
       "                                   r2                    rmse              \n",
       "subset                           test     train          test         train\n",
       "modelo                                                                     \n",
       "DecisionTree Reg             0.840396  0.968592  52115.986474  22846.831116\n",
       "DecisionTree Reg-Opt         0.828859  0.902704  53966.816515  40211.578136\n",
       "KNeighbors Reg               0.840041  0.889738  52173.931767  42807.118330\n",
       "KNeighbors Reg-Opt           0.842394  0.911447  51788.778298  38362.209358\n",
       "Linear Reg                   0.734189  0.736148  67256.771451  66218.978264\n",
       "Polynomial Regression        0.765037  0.772720  63233.787505  61458.620616\n",
       "Polynomial Regression Ridge  0.765042  0.772720  63233.177677  61458.622696\n",
       "XGBoost                      0.875865  0.936830  45961.864755  32400.932164\n",
       "XGBoost Opt                  0.885043  0.955070  44230.104516  27325.735196"
      ]
     },
     "execution_count": 87,
     "metadata": {},
     "output_type": "execute_result"
    }
   ],
   "source": [
    "df_resultados[df_resultados.dataset=='transformado'].pivot(index='modelo', columns='subset', values=['r2', 'rmse'])"
   ]
  },
  {
   "cell_type": "code",
   "execution_count": 88,
   "metadata": {
    "execution": {
     "iopub.execute_input": "2021-02-23T07:26:20.646131Z",
     "iopub.status.busy": "2021-02-23T07:26:20.646131Z",
     "iopub.status.idle": "2021-02-23T07:26:20.709144Z",
     "shell.execute_reply": "2021-02-23T07:26:20.709144Z",
     "shell.execute_reply.started": "2021-02-23T07:26:20.646131Z"
    }
   },
   "outputs": [],
   "source": [
    "tree_models=df_resultados[df_resultados.dataset=='transformado']\n",
    "tree_models=tree_models[tree_models.modelo.isin(tree_models_list)]"
   ]
  },
  {
   "cell_type": "code",
   "execution_count": 89,
   "metadata": {
    "execution": {
     "iopub.execute_input": "2021-02-23T07:26:20.710143Z",
     "iopub.status.busy": "2021-02-23T07:26:20.710143Z",
     "iopub.status.idle": "2021-02-23T07:26:20.932194Z",
     "shell.execute_reply": "2021-02-23T07:26:20.932194Z",
     "shell.execute_reply.started": "2021-02-23T07:26:20.710143Z"
    }
   },
   "outputs": [
    {
     "data": {
      "image/png": "[encoded data removed]",
      "text/plain": [
       "<Figure size 720x576 with 1 Axes>"
      ]
     },
     "metadata": {},
     "output_type": "display_data"
    }
   ],
   "source": [
    "fig=plt.figure(figsize=(10, 8))\n",
    "a=sns.barplot(y=\"modelo\", \n",
    "            x=\"r2\", \n",
    "            hue=\"subset\",\n",
    "            data=tree_models)\n",
    "\n",
    "a.set_xlim(0,1.1)\n",
    "show_values_horizontal(a, fig,offset=(-50, 20))"
   ]
  },
  {
   "cell_type": "markdown",
   "metadata": {},
   "source": [
    "Como podemos observar el modelo XGBoost optimizado es el que obtuvo el mejor resultado entre todos los modelos probados"
   ]
  },
  {
   "cell_type": "code",
   "execution_count": 90,
   "metadata": {
    "execution": {
     "iopub.execute_input": "2021-02-23T07:26:20.933194Z",
     "iopub.status.busy": "2021-02-23T07:26:20.933194Z",
     "iopub.status.idle": "2021-02-23T07:26:27.378126Z",
     "shell.execute_reply": "2021-02-23T07:26:27.378126Z",
     "shell.execute_reply.started": "2021-02-23T07:26:20.933194Z"
    }
   },
   "outputs": [],
   "source": [
    "feature_importances_xgb=list(xg_reg_opt.feature_importances_)"
   ]
  },
  {
   "cell_type": "code",
   "execution_count": 91,
   "metadata": {
    "execution": {
     "iopub.execute_input": "2021-02-23T07:26:27.379127Z",
     "iopub.status.busy": "2021-02-23T07:26:27.379127Z",
     "iopub.status.idle": "2021-02-23T07:26:27.394131Z",
     "shell.execute_reply": "2021-02-23T07:26:27.394131Z",
     "shell.execute_reply.started": "2021-02-23T07:26:27.379127Z"
    }
   },
   "outputs": [],
   "source": [
    "feature_names_xgb=list(X_train.columns)"
   ]
  },
  {
   "cell_type": "code",
   "execution_count": 92,
   "metadata": {
    "execution": {
     "iopub.execute_input": "2021-02-23T07:26:27.395131Z",
     "iopub.status.busy": "2021-02-23T07:26:27.395131Z",
     "iopub.status.idle": "2021-02-23T07:26:27.409133Z",
     "shell.execute_reply": "2021-02-23T07:26:27.409133Z",
     "shell.execute_reply.started": "2021-02-23T07:26:27.395131Z"
    }
   },
   "outputs": [
    {
     "data": {
      "text/html": [
       "<div>\n",
       "<style scoped>\n",
       "    .dataframe tbody tr th:only-of-type {\n",
       "        vertical-align: middle;\n",
       "    }\n",
       "\n",
       "    .dataframe tbody tr th {\n",
       "        vertical-align: top;\n",
       "    }\n",
       "\n",
       "    .dataframe thead th {\n",
       "        text-align: right;\n",
       "    }\n",
       "</style>\n",
       "<table border=\"1\" class=\"dataframe\">\n",
       "  <thead>\n",
       "    <tr style=\"text-align: right;\">\n",
       "      <th></th>\n",
       "      <th>Nombre_Variable</th>\n",
       "      <th>Importancia</th>\n",
       "    </tr>\n",
       "  </thead>\n",
       "  <tbody>\n",
       "    <tr>\n",
       "      <th>42</th>\n",
       "      <td>Puerto Madero</td>\n",
       "      <td>0.320946</td>\n",
       "    </tr>\n",
       "    <tr>\n",
       "      <th>27</th>\n",
       "      <td>Las Cañitas</td>\n",
       "      <td>0.058696</td>\n",
       "    </tr>\n",
       "    <tr>\n",
       "      <th>34</th>\n",
       "      <td>Palermo</td>\n",
       "      <td>0.049258</td>\n",
       "    </tr>\n",
       "    <tr>\n",
       "      <th>14</th>\n",
       "      <td>Belgrano</td>\n",
       "      <td>0.035234</td>\n",
       "    </tr>\n",
       "    <tr>\n",
       "      <th>43</th>\n",
       "      <td>Recoleta</td>\n",
       "      <td>0.032505</td>\n",
       "    </tr>\n",
       "    <tr>\n",
       "      <th>4</th>\n",
       "      <td>surface_covered</td>\n",
       "      <td>0.032181</td>\n",
       "    </tr>\n",
       "    <tr>\n",
       "      <th>55</th>\n",
       "      <td>Villa Lugano</td>\n",
       "      <td>0.023414</td>\n",
       "    </tr>\n",
       "    <tr>\n",
       "      <th>32</th>\n",
       "      <td>Nuñez</td>\n",
       "      <td>0.021107</td>\n",
       "    </tr>\n",
       "    <tr>\n",
       "      <th>62</th>\n",
       "      <td>Villa Soldati</td>\n",
       "      <td>0.019976</td>\n",
       "    </tr>\n",
       "    <tr>\n",
       "      <th>49</th>\n",
       "      <td>Tribunales</td>\n",
       "      <td>0.019055</td>\n",
       "    </tr>\n",
       "    <tr>\n",
       "      <th>41</th>\n",
       "      <td>Pompeya</td>\n",
       "      <td>0.017406</td>\n",
       "    </tr>\n",
       "    <tr>\n",
       "      <th>2</th>\n",
       "      <td>bathrooms</td>\n",
       "      <td>0.017114</td>\n",
       "    </tr>\n",
       "    <tr>\n",
       "      <th>3</th>\n",
       "      <td>surface_total</td>\n",
       "      <td>0.015926</td>\n",
       "    </tr>\n",
       "    <tr>\n",
       "      <th>15</th>\n",
       "      <td>Boca</td>\n",
       "      <td>0.015336</td>\n",
       "    </tr>\n",
       "    <tr>\n",
       "      <th>13</th>\n",
       "      <td>Barrio Norte</td>\n",
       "      <td>0.014928</td>\n",
       "    </tr>\n",
       "    <tr>\n",
       "      <th>21</th>\n",
       "      <td>Coghlan</td>\n",
       "      <td>0.014366</td>\n",
       "    </tr>\n",
       "    <tr>\n",
       "      <th>24</th>\n",
       "      <td>Constitución</td>\n",
       "      <td>0.012872</td>\n",
       "    </tr>\n",
       "    <tr>\n",
       "      <th>6</th>\n",
       "      <td>Departamento</td>\n",
       "      <td>0.012142</td>\n",
       "    </tr>\n",
       "    <tr>\n",
       "      <th>11</th>\n",
       "      <td>Balvanera</td>\n",
       "      <td>0.011894</td>\n",
       "    </tr>\n",
       "    <tr>\n",
       "      <th>46</th>\n",
       "      <td>San Cristobal</td>\n",
       "      <td>0.011692</td>\n",
       "    </tr>\n",
       "  </tbody>\n",
       "</table>\n",
       "</div>"
      ],
      "text/plain": [
       "    Nombre_Variable  Importancia\n",
       "42    Puerto Madero     0.320946\n",
       "27      Las Cañitas     0.058696\n",
       "34          Palermo     0.049258\n",
       "14         Belgrano     0.035234\n",
       "43         Recoleta     0.032505\n",
       "4   surface_covered     0.032181\n",
       "55     Villa Lugano     0.023414\n",
       "32            Nuñez     0.021107\n",
       "62    Villa Soldati     0.019976\n",
       "49       Tribunales     0.019055\n",
       "41          Pompeya     0.017406\n",
       "2         bathrooms     0.017114\n",
       "3     surface_total     0.015926\n",
       "15             Boca     0.015336\n",
       "13     Barrio Norte     0.014928\n",
       "21          Coghlan     0.014366\n",
       "24     Constitución     0.012872\n",
       "6      Departamento     0.012142\n",
       "11        Balvanera     0.011894\n",
       "46    San Cristobal     0.011692"
      ]
     },
     "execution_count": 92,
     "metadata": {},
     "output_type": "execute_result"
    }
   ],
   "source": [
    "pd.DataFrame(list(zip(feature_names_xgb,feature_importances_xgb)), columns=['Nombre_Variable', 'Importancia']).\\\n",
    "        sort_values(by='Importancia', ascending=False).head(20)"
   ]
  },
  {
   "cell_type": "markdown",
   "metadata": {},
   "source": [
    "En la tabla anterior podemos ver que hay varios barrios que tienen mucha importancia a la hora de definir el precio, también se puede ver como el área cubierta, total y el numero de baños se encuentran entre las variables mas importantes para el modelo lo que es de esperarse para este set de datos"
   ]
  },
  {
   "cell_type": "markdown",
   "metadata": {},
   "source": [
    "## 6.3. Distribucion de errores modelos avanzados"
   ]
  },
  {
   "cell_type": "code",
   "execution_count": 93,
   "metadata": {
    "execution": {
     "iopub.execute_input": "2021-02-23T07:26:27.415135Z",
     "iopub.status.busy": "2021-02-23T07:26:27.414134Z",
     "iopub.status.idle": "2021-02-23T07:26:40.720939Z",
     "shell.execute_reply": "2021-02-23T07:26:40.720939Z",
     "shell.execute_reply.started": "2021-02-23T07:26:27.415135Z"
    }
   },
   "outputs": [
    {
     "data": {
      "image/png": "[encoded data removed]",
      "text/plain": [
       "<Figure size 864x360 with 2 Axes>"
      ]
     },
     "metadata": {},
     "output_type": "display_data"
    },
    {
     "data": {
      "image/png": "[encoded data removed]",
      "text/plain": [
       "<Figure size 864x360 with 2 Axes>"
      ]
     },
     "metadata": {},
     "output_type": "display_data"
    },
    {
     "data": {
      "image/png": "[encoded data removed]",
      "text/plain": [
       "<Figure size 864x360 with 2 Axes>"
      ]
     },
     "metadata": {},
     "output_type": "display_data"
    }
   ],
   "source": [
    "modelos = ['Polynomial Regression','Polynomial Regression Ridge', 'XGBoost Opt']\n",
    "for i, model in enumerate([gs_polynomial_reg_linear,gs_polynomial_reg_ridge, xg_reg_opt]):\n",
    "    y_train_pred = model.predict(X_train)\n",
    "    y_test_pred = model.predict(X_test)\n",
    "    \n",
    "    \n",
    "    fig, ax = plt.subplots(1,2, figsize=(12,5))\n",
    "    plt.subplots_adjust(wspace=0.3, hspace= 0.3)\n",
    "\n",
    "    sns.histplot(y_train - y_train_pred, bins = 20, label = 'train', ax= ax[0], kde=False, color='tab:green', stat='density')\n",
    "    sns.histplot(y_test - y_test_pred, bins = 20, label = 'test', ax= ax[0], kde=False, color='tab:red', stat='density')\n",
    "    ax[0].set_xlabel('errores')\n",
    "    ax[0].legend()\n",
    "    ax[0].set_title(modelos[i])  \n",
    "\n",
    "    ax[1].scatter(y_test,y_test_pred, s =2)    \n",
    "    lims = [\n",
    "    np.min([ax[1].get_xlim(), ax[1].get_ylim()]),  # min of both axes\n",
    "    np.max([ax[1].get_xlim(), ax[1].get_ylim()]),  # max of both axes]\n",
    "    ]\n",
    "    \n",
    "    ax[1].plot(lims, lims, 'k-', alpha=0.75, zorder=0)\n",
    "    ax[1].set_xlabel('y (test)')\n",
    "    ax[1].set_ylabel('y_pred (test)')\n",
    "    ax[1].set_title(modelos[i])  \n",
    "    \n",
    "    plt.show()"
   ]
  },
  {
   "cell_type": "markdown",
   "metadata": {},
   "source": [
    "Podemos ver de las distribuciones de los errores que ambas regresiones polinómicas tienden a subestimar el precio de las propiedades de alto valor mientras que en el modelo XGBoost se observa que funciona adecuadamente para todo el rango de precios."
   ]
  },
  {
   "cell_type": "markdown",
   "metadata": {},
   "source": [
    "## 7. Conclusiones"
   ]
  },
  {
   "cell_type": "markdown",
   "metadata": {},
   "source": [
    "* Con las mejoras implementadas al procesamiento de los datos se logro mejorar considerablemente el desempeño de los modelos anteriormente desarrollados.\n",
    "\n",
    "* La inclusión de la variable barrio cambio significativamente los resultados y como pudimos observar en la importancia que le dio los modelos a pertenecer a algunos barrios, que esta información es fundamental para establecer un precio adecuado.\n",
    "\n",
    "* De los modelos avanzados obtuvo mejor resultado el XGBoost optimizado superando a todos los demás modelos antes vistos"
   ]
  },
  {
   "cell_type": "markdown",
   "metadata": {},
   "source": [
    "# 8. Mejoras"
   ]
  },
  {
   "cell_type": "markdown",
   "metadata": {},
   "source": [
    "* En la columna descripción hay información que podría ser procesada mediante procesamiento del lenguaje natural para mejorar aun mas el modelo\n",
    "* Se podrían analizar mas hiperparámetros que puedan mejorar el desempeño\n",
    "* Se podria implementar una reducción de dimensionalidad para reducir la carga computacional."
   ]
  }
 ],
 "metadata": {
  "kernelspec": {
   "display_name": "Python 3",
   "language": "python",
   "name": "python3"
  },
  "language_info": {
   "codemirror_mode": {
    "name": "ipython",
    "version": 3
   },
   "file_extension": ".py",
   "mimetype": "text/x-python",
   "name": "python",
   "nbconvert_exporter": "python",
   "pygments_lexer": "ipython3",
   "version": "3.8.6"
  }
 },
 "nbformat": 4,
 "nbformat_minor": 4
}
